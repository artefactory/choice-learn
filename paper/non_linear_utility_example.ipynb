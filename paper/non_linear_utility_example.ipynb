{
 "cells": [
  {
   "cell_type": "code",
   "execution_count": null,
   "metadata": {},
   "outputs": [],
   "source": [
    "import os\n",
    "\n",
    "os.environ[\"CUDA_VISIBLE_DEVICES\"] = \"\"\n",
    "\n",
    "import sys\n",
    "\n",
    "sys.path.append(\"../../\")"
   ]
  },
  {
   "cell_type": "code",
   "execution_count": null,
   "metadata": {},
   "outputs": [],
   "source": [
    "import tensorflow as tf\n",
    "\n",
    "from choice_learn.datasets import load_swissmetro\n",
    "from choice_learn.models.base_model import ChoiceModel"
   ]
  },
  {
   "cell_type": "code",
   "execution_count": null,
   "metadata": {},
   "outputs": [],
   "source": [
    "class ExampleCustomizedModel(ChoiceModel):\n",
    "    def __init__(self, n_neurons, **kwargs):\n",
    "        super().__init__(**kwargs)\n",
    "        self.n_neurons = n_neurons\n",
    "\n",
    "        # Items Features Layer\n",
    "        self.dense_items = tf.keras.layers.Dense(units=n_neurons, activation=\"sigmoid\")\n",
    "\n",
    "        # Shared Features Layer\n",
    "        self.dense_shared = tf.keras.layers.Dense(units=n_neurons, activation=\"sigmoid\")\n",
    "\n",
    "        # Third layer: embeddings to utility (dense representation of features > U)\n",
    "        self.final_layer = tf.keras.layers.Dense(units=1, activation=\"linear\")\n",
    "\n",
    "    @property\n",
    "    def trainable_weights(self):\n",
    "        \"\"\"Access model's trainable_weights.\n",
    "\n",
    "        Returns\n",
    "        -------\n",
    "        list\n",
    "            list of trainable_weights\n",
    "        \"\"\"\n",
    "        return self.dense_items.trainable_variables\\\n",
    "              + self.dense_shared.trainable_variables\\\n",
    "                  + self.final_layer.trainable_variables\n",
    "\n",
    "    def compute_batch_utility(self,\n",
    "                              shared_features_by_choice,\n",
    "                              items_features_by_choice,\n",
    "                              available_items_by_choice,\n",
    "                              choices):\n",
    "        \"\"\"Compute batch utility from features.\"\"\"\n",
    "        _, _ = available_items_by_choice, choices\n",
    "        # We apply the neural network to all items_features_by_choice for all the items\n",
    "        # We then concatenate the utilities of each item of shape (n_choices, 1) into\n",
    "        # a single one of shape (n_choices, n_items)\n",
    "        shared_embeddings = self.dense_shared(shared_features_by_choice)\n",
    "\n",
    "        # Iterate over items\n",
    "        items_features_embeddings = []\n",
    "        for i in range(items_features_by_choice.shape[1]):\n",
    "            # Utility is Dense(embeddings sum)\n",
    "            item_embedding = self.dense_items(items_features_by_choice[:, i])\n",
    "            item_embedding = tf.keras.activations.sigmoid(shared_embeddings + item_embedding)\n",
    "            items_features_embeddings.append(self.final_layer(item_embedding))\n",
    "\n",
    "        # Concatenation to get right shape (n_choices, n_items, )\n",
    "        return tf.concat(items_features_embeddings, axis=1)"
   ]
  },
  {
   "cell_type": "code",
   "execution_count": null,
   "metadata": {},
   "outputs": [],
   "source": [
    "dataset = load_swissmetro()"
   ]
  },
  {
   "cell_type": "code",
   "execution_count": null,
   "metadata": {},
   "outputs": [],
   "source": [
    "model = ExampleCustomizedModel(n_neurons=10, optimizer=\"Adam\", batch_size=128)\n",
    "history = model.fit(dataset)"
   ]
  },
  {
   "cell_type": "code",
   "execution_count": null,
   "metadata": {},
   "outputs": [],
   "source": [
    "import matplotlib.pyplot as plt\n",
    "\n",
    "\n",
    "plt.plot(history[\"train_loss\"])\n",
    "plt.show()"
   ]
  },
  {
   "cell_type": "code",
   "execution_count": null,
   "metadata": {},
   "outputs": [],
   "source": [
    "print(model.evaluate(dataset))"
   ]
  },
  {
   "cell_type": "code",
   "execution_count": null,
   "metadata": {},
   "outputs": [],
   "source": []
  }
 ],
 "metadata": {
  "kernelspec": {
   "display_name": "tf_env",
   "language": "python",
   "name": "python3"
  },
  "language_info": {
   "codemirror_mode": {
    "name": "ipython",
    "version": 3
   },
   "file_extension": ".py",
   "mimetype": "text/x-python",
   "name": "python",
   "nbconvert_exporter": "python",
   "pygments_lexer": "ipython3",
   "version": "3.11.4"
  }
 },
 "nbformat": 4,
 "nbformat_minor": 2
}
