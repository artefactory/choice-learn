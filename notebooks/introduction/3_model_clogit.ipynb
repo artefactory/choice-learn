{
 "cells": [
  {
   "cell_type": "markdown",
   "metadata": {},
   "source": [
    "## Introduction to choice-learn's modelling"
   ]
  },
  {
   "cell_type": "code",
   "execution_count": null,
   "metadata": {},
   "outputs": [],
   "source": [
    "import os\n",
    "\n",
    "os.environ[\"CUDA_VISIBLE_DEVICES\"] = \"\"\n",
    "\n",
    "import sys\n",
    "\n",
    "sys.path.append(\"../../\")\n",
    "\n",
    "import numpy as np\n",
    "import pandas as pd"
   ]
  },
  {
   "cell_type": "markdown",
   "metadata": {},
   "source": [
    "## Summary\n",
    "\n",
    "- [Example 1: ConditionalLogit with Swissmetro](#example-1-swissmetro)\n",
    "    - [A few words on c-MNL formulation](#the-conditional-logit-model)\n",
    "    - [Instantiation and estimation with Choice-Learn](#conditional-logit-estimation-with-choice-learn)\n",
    "- [Example 2: ConditionalLogit with ModeCanda](#example-2-the-modecanada-dataset)\n",
    "    - [Utility Formulation](#utility-formulation)\n",
    "    - [Model Specification](#model-formulation)\n",
    "    - [Lighter method for specification](#faster-specification)\n",
    "    - [Comparison with other implementations](#comparison-with-other-implementations-results)\n",
    "    - [Get utility estimation and probabilities](#estimate-utility--probabilities)\n",
    "    - [Using Gradient Descent Optimizers](#using-gradient-descent-optimizers)\n",
    "    \n",
    "\n",
    "For model customization and more explanation on ChoiceModel and the endpoints, you can go [here](./custom_model.ipynb)"
   ]
  },
  {
   "cell_type": "markdown",
   "metadata": {},
   "source": [
    "## Example 1: SwissMetro\n",
    "\n",
    "The choice-learn package offers a high level API to conceive and estimate discrete choice models. Several models are ready to be used, you can check the list [here](../README.md). If you want to create your own model or another one that is not in the list, the lower level API can help you. Check the notebook [here](./4_model_customization.ipynb).\n",
    "\n",
    "Let's begin this tutorial with the estimation of a Conditional Logit Model on the SwissMetro dataset[3].\n",
    "It follows the specifications described in [PyLogit](https://github.com/timothyb0912/pylogit/blob/master/examples/notebooks/Main%20PyLogit%20Example.ipynb) and [Biogeme](https://github.com/mncosta/biogeme_tutorial/blob/master/6.1-MultinomialLogitAndProbitModels/01-biogeme-basics.ipynb).\n",
    "\n",
    "\n",
    "First, we download our data as a ChoiceDataset. See the [data management tutorial](./choice_learn_introduction_data.ipynb) first if needed."
   ]
  },
  {
   "cell_type": "code",
   "execution_count": null,
   "metadata": {},
   "outputs": [],
   "source": [
    "from choice_learn.datasets import load_swissmetro\n",
    "swiss_dataset = load_swissmetro(preprocessing=\"tutorial\")\n",
    "print(swiss_dataset.summary())"
   ]
  },
  {
   "cell_type": "markdown",
   "metadata": {},
   "source": [
    "### The Conditional Logit model"
   ]
  },
  {
   "cell_type": "markdown",
   "metadata": {},
   "source": [
    "The conditional Logit [2] specifies a linear utility for each features of item $i$:\n",
    "$$\n",
    "U(i) = \\sum_{features} a(i) * feature(i)\n",
    "$$\n",
    "The probability to choose $i$ among the set of available alternatives $\\mathcal{A}$ is then:\n",
    "\n",
    "$$\n",
    "\\mathbb{P}(i) = \\frac{e^{U(i)}}{\\sum_{j \\in \\mathcal{A}} e^{U(j)}}\n",
    "$$"
   ]
  },
  {
   "cell_type": "markdown",
   "metadata": {},
   "source": [
    "With the SwissMetro dataset we are trying to predict a customer mean of transport among train, swissmetro and car from the features:\n",
    "- TT (transit time)\n",
    "- CO (cost)\n",
    "- HE (headway)\n",
    "- Survey (where the survey took place)\n",
    "- Luggage number\n",
    "- seats configuration in the swissmetro\n",
    "- first class or not\n",
    "\n",
    "An important step is to define the right utility function for the model to fit well the dataset. Let's take the following formulation defined in PyLogit:\n",
    "\n",
    "- $\n",
    "U(train) = \\beta_{train}^{inter} + \\beta^{tt}_{train/sm} \\cdot TT(train) + \\beta^{co}_{train} \\cdot CO(train) + \\beta^{he}_{train} \\cdot HE(train) + \\beta^{survey} \\cdot SV(train)\n",
    "$\n",
    "\n",
    "- $\n",
    "U(sm) = \\beta_{sm}^{inter} + \\beta^{tt}_{train/sm} \\cdot TT(sm) + \\beta^{co}_{sm} \\cdot CO(sm) + \\beta^{he}_{sm} \\cdot HE(sm) + \\beta^{survey} \\cdot SV(sm) + \\beta^{seat} \\cdot SEAT(sm) + \\beta^{first\\_class} \\cdot FC(sm)\n",
    "$\n",
    "\n",
    "- $\n",
    "U(car) = \\beta^{tt}_{car} \\cdot TT(car) + \\beta^{co}_{car} \\cdot CO(car) + \\beta^{luggage==1} \\cdot \\mathbb{1}_{Luggage==1} + \\beta^{luggage>1} \\cdot \\mathbb{1}_{Luggage>1}\n",
    "$"
   ]
  },
  {
   "cell_type": "markdown",
   "metadata": {},
   "source": [
    "Note that we want to estimate:\n",
    "\n",
    "- one $\\beta^{tt}_{train/sm}$ **shared** for train and sm items and one $\\beta^{tt}_{car}$ for the car item. Indeed, one can argue that customers have the same sensibility toward travel time for all public transport and a different one for private ones.\n",
    "- one $\\beta^{co}$ coefficient for **each** item.\n",
    "- one $\\beta^{inter}$ and $\\beta^{he}$ for train and sm, and zeroed for the car alternative\n",
    "- one $\\beta^{survey}$, $\\beta^{seat}$, $\\beta^{first\\_class}$, $\\beta^{luggage==1}$ and $\\beta^{luggage>1}$ shared or not by different items\n",
    "\n",
    "To build a model, we need to specify for each weight $\\beta$:\n",
    "- the name of the feature it goes with:\n",
    "    - it must match the feature name in the ChoiceDataset\n",
    "    - \"intercept\" is the standardized name used for intercept, pay attention not to override it\n",
    "- items_indexes: the items concerned, as indexed in the ChoiceDataset\n",
    "- (optionally) a unique weight name\n",
    "\n",
    "\n",
    ">  **Attention**\n",
    "> \n",
    "> - *add_coefficients* is to be used to get one coefficient by given items_indexes\\\n",
    "> - *add_shared_coefficients* is to be used to get on coefficient that is used for utility of all given items_indexes\n",
    "\n",
    "Here is how to create a model following our defined utility functions:"
   ]
  },
  {
   "cell_type": "markdown",
   "metadata": {},
   "source": [
    "### Conditional Logit Estimation with Choice-Learn"
   ]
  },
  {
   "cell_type": "code",
   "execution_count": null,
   "metadata": {},
   "outputs": [],
   "source": [
    "from choice_learn.models import ConditionalLogit"
   ]
  },
  {
   "cell_type": "code",
   "execution_count": null,
   "metadata": {},
   "outputs": [],
   "source": [
    "# Initialization of the model\n",
    "swiss_model = ConditionalLogit(optimizer=\"lbfgs\")\n",
    "\n",
    "# Intercept for train & sm\n",
    "swiss_model.add_coefficients(feature_name=\"intercept\", items_indexes=[0, 1])\n",
    "# beta_he for train & sm\n",
    "swiss_model.add_coefficients(feature_name=\"headway\",\n",
    "                             items_indexes=[0, 1],\n",
    "                             coefficient_name=\"beta_he\")\n",
    "# beta_co for all items\n",
    "swiss_model.add_coefficients(feature_name=\"cost\",\n",
    "                             items_indexes=[0, 1, 2])\n",
    "# beta first_class for train\n",
    "swiss_model.add_coefficients(feature_name=\"regular_class\",\n",
    "                             items_indexes=[0])\n",
    "# beta seats for train\n",
    "swiss_model.add_coefficients(feature_name=\"seats\", items_indexes=[1])\n",
    "# betas luggage for car\n",
    "swiss_model.add_coefficients(feature_name=\"single_luggage_piece\",\n",
    "                             items_indexes=[2],\n",
    "                             coefficient_name=\"beta_luggage=1\")\n",
    "swiss_model.add_coefficients(feature_name=\"multiple_luggage_piece\",\n",
    "                             items_indexes=[2],\n",
    "                             coefficient_name=\"beta_luggage>1\")\n",
    "# beta TT only for car\n",
    "swiss_model.add_coefficients(feature_name=\"travel_time\",\n",
    "                             items_indexes=[2],\n",
    "                             coefficient_name=\"beta_tt_car\")\n",
    "\n",
    "# betas TT and HE shared by train and sm\n",
    "swiss_model.add_shared_coefficient(feature_name=\"travel_time\",\n",
    "                                   items_indexes=[0, 1])\n",
    "swiss_model.add_shared_coefficient(feature_name=\"train_survey\",\n",
    "                                   items_indexes=[0, 1],\n",
    "                                   coefficient_name=\"beta_survey\")\n"
   ]
  },
  {
   "cell_type": "code",
   "execution_count": null,
   "metadata": {},
   "outputs": [],
   "source": [
    "# Estimation of the model\n",
    "history = swiss_model.fit(swiss_dataset, get_report=True)"
   ]
  },
  {
   "cell_type": "markdown",
   "metadata": {},
   "source": [
    "Onece the model is estimated, we can look at the weights with the .trainable_weights argument:"
   ]
  },
  {
   "cell_type": "code",
   "execution_count": null,
   "metadata": {
    "keep_output": true
   },
   "outputs": [
    {
     "data": {
      "text/plain": [
       "[<tf.Variable 'beta_intercept:0' shape=(1, 2) dtype=float32, numpy=array([[-1.2929296, -0.5025745]], dtype=float32)>,\n",
       " <tf.Variable 'beta_he:0' shape=(1, 2) dtype=float32, numpy=array([[-0.31433573, -0.37731653]], dtype=float32)>,\n",
       " <tf.Variable 'beta_cost:0' shape=(1, 3) dtype=float32, numpy=array([[-0.5617626 , -0.2816758 , -0.51384646]], dtype=float32)>,\n",
       " <tf.Variable 'beta_regular_class:0' shape=(1, 1) dtype=float32, numpy=array([[0.5650171]], dtype=float32)>,\n",
       " <tf.Variable 'beta_seats:0' shape=(1, 1) dtype=float32, numpy=array([[-0.78244746]], dtype=float32)>,\n",
       " <tf.Variable 'beta_luggage=1:0' shape=(1, 1) dtype=float32, numpy=array([[0.42275968]], dtype=float32)>,\n",
       " <tf.Variable 'beta_luggage>1:0' shape=(1, 1) dtype=float32, numpy=array([[1.4139789]], dtype=float32)>,\n",
       " <tf.Variable 'beta_tt_car:0' shape=(1, 1) dtype=float32, numpy=array([[-0.7229831]], dtype=float32)>,\n",
       " <tf.Variable 'beta_travel_time:0' shape=(1, 1) dtype=float32, numpy=array([[-0.69901365]], dtype=float32)>,\n",
       " <tf.Variable 'beta_survey:0' shape=(1, 1) dtype=float32, numpy=array([[2.542475]], dtype=float32)>]"
      ]
     },
     "execution_count": null,
     "metadata": {},
     "output_type": "execute_result"
    }
   ],
   "source": [
    "swiss_model.trainable_weights"
   ]
  },
  {
   "cell_type": "markdown",
   "metadata": {},
   "source": [
    "We can easily acces the negative log likelihood value for the training dataset or another one using the .evaluate() method:"
   ]
  },
  {
   "cell_type": "code",
   "execution_count": null,
   "metadata": {
    "keep_output": true
   },
   "outputs": [
    {
     "data": {
      "text/plain": [
       "<tf.Tensor: shape=(), dtype=float32, numpy=5159.3047>"
      ]
     },
     "execution_count": null,
     "metadata": {},
     "output_type": "execute_result"
    }
   ],
   "source": [
    "len(swiss_dataset) * swiss_model.evaluate(swiss_dataset)"
   ]
  },
  {
   "cell_type": "markdown",
   "metadata": {},
   "source": [
    "If you set get_report to True in .fit, the model automatically creates a report for each of the coefficient, with its estimation, its standard deviation and more:"
   ]
  },
  {
   "cell_type": "code",
   "execution_count": null,
   "metadata": {},
   "outputs": [],
   "source": [
    "# Let's add items for better readability\n",
    "items = [\"train\", \"sm\", \"train\", \"sm\", \"train\", \"sm\", \"car\", \"train\", \"sm\", \"car\", \"car\", \"car\", \"train & sm\", \"train & sm\"]\n",
    "swiss_model.report = pd.concat([swiss_model.report, pd.Series(items, name=\"item\")], axis=1)"
   ]
  },
  {
   "cell_type": "code",
   "execution_count": null,
   "metadata": {},
   "outputs": [],
   "source": [
    "swiss_model.report"
   ]
  },
  {
   "cell_type": "markdown",
   "metadata": {},
   "source": [
    "We find the same results (estimation of parameters and negative log-likelihood) as the PyLogit package.\n",
    "One car easily interpret the coefficient. For example $\\beta_cost$ represent the average price elasticity of the customers. First, it's negative meaning that the most expensive it is the less likely the alternative will be chose, second we can observe that the elasticity is smaller for the SwissMetro. It is not suprising for a \"premium\" product, meaning that people choosing this alternative agreed to pay more for comfort for example and are less regarding on the price.\n",
    "\n",
    "We can also observe that $\\beta_{luggage>1} > \\beta_{luggage=1} >  \\beta_{luggage=0} = 0$ meaning that customers with luggae are more likely to use their car for transport, and it is event further the case if they have more than one piece of luggage."
   ]
  },
  {
   "cell_type": "markdown",
   "metadata": {},
   "source": [
    "## Example #2: the ModeCanada Dataset\n",
    "\n",
    "\n",
    "### Utility formulation\n",
    "\n",
    "Let's reproduce a common example from [Torch-Choice](https://gsbdbi.github.io/torch-choice/conditional_logit_model_mode_canada/) on the ModeCanada [1] dataset:\n",
    "$$\n",
    "U(i, c) = \\beta^{inter}_i + \\beta^{price} \\cdot price(i, c) + \\beta^{freq} \\cdot freq(i, c) + \\beta^{ovt} \\cdot ovt(i, c) + \\beta^{income}_i \\cdot income(c) + \\beta^{ivt}_i \\cdot ivt(i, c) + \\epsilon(i, c)\n",
    "$$\n",
    "\n",
    "A description of the dataset and the features can be found in [1]. We want to predict the future mean of transport from [train, air, bus, car] using frequence, price, in-vehicule transport time (ivt) and out-of-vehicule transport time (ovt)."
   ]
  },
  {
   "cell_type": "markdown",
   "metadata": {},
   "source": [
    "### Model Formulation"
   ]
  },
  {
   "cell_type": "code",
   "execution_count": null,
   "metadata": {
    "keep_output": true
   },
   "outputs": [
    {
     "data": {
      "text/html": [
       "<div>\n",
       "<style scoped>\n",
       "    .dataframe tbody tr th:only-of-type {\n",
       "        vertical-align: middle;\n",
       "    }\n",
       "\n",
       "    .dataframe tbody tr th {\n",
       "        vertical-align: top;\n",
       "    }\n",
       "\n",
       "    .dataframe thead th {\n",
       "        text-align: right;\n",
       "    }\n",
       "</style>\n",
       "<table border=\"1\" class=\"dataframe\">\n",
       "  <thead>\n",
       "    <tr style=\"text-align: right;\">\n",
       "      <th></th>\n",
       "      <th>Unnamed: 0</th>\n",
       "      <th>case</th>\n",
       "      <th>alt</th>\n",
       "      <th>choice</th>\n",
       "      <th>dist</th>\n",
       "      <th>cost</th>\n",
       "      <th>ivt</th>\n",
       "      <th>ovt</th>\n",
       "      <th>freq</th>\n",
       "      <th>income</th>\n",
       "      <th>urban</th>\n",
       "      <th>noalt</th>\n",
       "    </tr>\n",
       "  </thead>\n",
       "  <tbody>\n",
       "    <tr>\n",
       "      <th>0</th>\n",
       "      <td>1</td>\n",
       "      <td>1</td>\n",
       "      <td>train</td>\n",
       "      <td>0</td>\n",
       "      <td>83</td>\n",
       "      <td>28.25</td>\n",
       "      <td>50</td>\n",
       "      <td>66</td>\n",
       "      <td>4</td>\n",
       "      <td>45.0</td>\n",
       "      <td>0</td>\n",
       "      <td>2</td>\n",
       "    </tr>\n",
       "    <tr>\n",
       "      <th>1</th>\n",
       "      <td>2</td>\n",
       "      <td>1</td>\n",
       "      <td>car</td>\n",
       "      <td>1</td>\n",
       "      <td>83</td>\n",
       "      <td>15.77</td>\n",
       "      <td>61</td>\n",
       "      <td>0</td>\n",
       "      <td>0</td>\n",
       "      <td>45.0</td>\n",
       "      <td>0</td>\n",
       "      <td>2</td>\n",
       "    </tr>\n",
       "    <tr>\n",
       "      <th>2</th>\n",
       "      <td>3</td>\n",
       "      <td>2</td>\n",
       "      <td>train</td>\n",
       "      <td>0</td>\n",
       "      <td>83</td>\n",
       "      <td>28.25</td>\n",
       "      <td>50</td>\n",
       "      <td>66</td>\n",
       "      <td>4</td>\n",
       "      <td>25.0</td>\n",
       "      <td>0</td>\n",
       "      <td>2</td>\n",
       "    </tr>\n",
       "    <tr>\n",
       "      <th>3</th>\n",
       "      <td>4</td>\n",
       "      <td>2</td>\n",
       "      <td>car</td>\n",
       "      <td>1</td>\n",
       "      <td>83</td>\n",
       "      <td>15.77</td>\n",
       "      <td>61</td>\n",
       "      <td>0</td>\n",
       "      <td>0</td>\n",
       "      <td>25.0</td>\n",
       "      <td>0</td>\n",
       "      <td>2</td>\n",
       "    </tr>\n",
       "    <tr>\n",
       "      <th>4</th>\n",
       "      <td>5</td>\n",
       "      <td>3</td>\n",
       "      <td>train</td>\n",
       "      <td>0</td>\n",
       "      <td>83</td>\n",
       "      <td>28.25</td>\n",
       "      <td>50</td>\n",
       "      <td>66</td>\n",
       "      <td>4</td>\n",
       "      <td>70.0</td>\n",
       "      <td>0</td>\n",
       "      <td>2</td>\n",
       "    </tr>\n",
       "  </tbody>\n",
       "</table>\n",
       "</div>"
      ],
      "text/plain": [
       "   Unnamed: 0  case    alt  choice  dist   cost  ivt  ovt  freq  income  \\\n",
       "0           1     1  train       0    83  28.25   50   66     4    45.0   \n",
       "1           2     1    car       1    83  15.77   61    0     0    45.0   \n",
       "2           3     2  train       0    83  28.25   50   66     4    25.0   \n",
       "3           4     2    car       1    83  15.77   61    0     0    25.0   \n",
       "4           5     3  train       0    83  28.25   50   66     4    70.0   \n",
       "\n",
       "   urban  noalt  \n",
       "0      0      2  \n",
       "1      0      2  \n",
       "2      0      2  \n",
       "3      0      2  \n",
       "4      0      2  "
      ]
     },
     "execution_count": null,
     "metadata": {},
     "output_type": "execute_result"
    }
   ],
   "source": [
    "# If you want to check what's in the dataset:\n",
    "from choice_learn.datasets import load_modecanada\n",
    "\n",
    "transport_df = load_modecanada(as_frame=True)\n",
    "transport_df.head()"
   ]
  },
  {
   "cell_type": "markdown",
   "metadata": {},
   "source": [
    "We want to estimate:\n",
    "\n",
    "- one $\\beta^{price}$, $\\beta^{freq}$ and $\\beta^{ovt}$ coefficient. They are **shared** by all items.\n",
    "- one $\\beta^{ivt}$ coefficient for **each** item.\n",
    "- one $\\beta^{inter}$ and $\\beta^{income}$ coefficient for **each** item, with **additional constraint** to be 0 for the first item (air).\n",
    "\n",
    "One notes that it makes sense to include an intercept $\\beta^{inter}$ for each item since $ivt(i, c)$ and $income(c)$ depends on each choice $c$.\n",
    "\n",
    "Additionally to previous example we manually specify the weights names:"
   ]
  },
  {
   "cell_type": "code",
   "execution_count": null,
   "metadata": {
    "keep_output": true
   },
   "outputs": [
    {
     "name": "stdout",
     "output_type": "stream",
     "text": [
      "%=====================================================================%\n",
      "%%% Summary of the dataset:\n",
      "%=====================================================================%\n",
      "Number of items: 4\n",
      "Number of choices: 2779\n",
      "%=====================================================================%\n",
      " Shared Features by Choice:\n",
      " 1 shared features\n",
      " with names: (['income'],)\n",
      "\n",
      "\n",
      " Items Features by Choice:\n",
      " 4 items features \n",
      " with names: (['cost', 'freq', 'ovt', 'ivt'],)\n",
      "%=====================================================================%\n",
      "\n"
     ]
    }
   ],
   "source": [
    "# Loading the ChoiceDataset\n",
    "canada_dataset = load_modecanada(as_frame=False, preprocessing=\"tutorial\")\n",
    "\n",
    "print(canada_dataset.summary())"
   ]
  },
  {
   "cell_type": "code",
   "execution_count": null,
   "metadata": {},
   "outputs": [],
   "source": [
    "from choice_learn.models import ConditionalLogit\n",
    "\n",
    "# Initialization of the model\n",
    "model = ConditionalLogit()\n",
    "\n",
    "# Creation of the different weights:\n",
    "\n",
    "# shared_coefficient add one coefficient that is used for all items specified in the items_indexes:\n",
    "# Here, cost, freq and ovt coefficients are shared between all items\n",
    "model.add_shared_coefficient(feature_name=\"cost\", items_indexes=[0, 1, 2, 3])\n",
    "# You can specify you own coefficient name\n",
    "model.add_shared_coefficient(feature_name=\"freq\",\n",
    "                             coefficient_name=\"beta_frequence\",\n",
    "                             items_indexes=[0, 1, 2, 3])\n",
    "model.add_shared_coefficient(feature_name=\"ovt\", items_indexes=[0, 1, 2, 3])\n",
    "\n",
    "# ivt is added for each item:\n",
    "model.add_coefficients(feature_name=\"ivt\", items_indexes=[0, 1, 2, 3])\n",
    "\n",
    "# add_coefficients adds one coefficient for each specified item_index\n",
    "# intercept, and income are added for each item except the first one that needs to be zeroed\n",
    "model.add_coefficients(feature_name=\"intercept\", items_indexes=[1, 2, 3])\n",
    "model.add_coefficients(feature_name=\"income\", items_indexes=[1, 2, 3])"
   ]
  },
  {
   "cell_type": "code",
   "execution_count": null,
   "metadata": {},
   "outputs": [],
   "source": [
    "history = model.fit(canada_dataset, get_report=True, verbose=2)"
   ]
  },
  {
   "cell_type": "code",
   "execution_count": null,
   "metadata": {
    "keep_output": true
   },
   "outputs": [
    {
     "data": {
      "text/plain": [
       "[<tf.Variable 'beta_cost:0' shape=(1, 1) dtype=float32, numpy=array([[-0.03333882]], dtype=float32)>,\n",
       " <tf.Variable 'beta_frequence:0' shape=(1, 1) dtype=float32, numpy=array([[0.09252929]], dtype=float32)>,\n",
       " <tf.Variable 'beta_ovt:0' shape=(1, 1) dtype=float32, numpy=array([[-0.04300351]], dtype=float32)>,\n",
       " <tf.Variable 'beta_ivt:0' shape=(1, 4) dtype=float32, numpy=\n",
       " array([[ 0.05950943, -0.00678369, -0.00646029, -0.00145037]],\n",
       "       dtype=float32)>,\n",
       " <tf.Variable 'beta_intercept:0' shape=(1, 3) dtype=float32, numpy=array([[0.6983663, 1.8440988, 3.2741835]], dtype=float32)>,\n",
       " <tf.Variable 'beta_income:0' shape=(1, 3) dtype=float32, numpy=array([[-0.08908683, -0.02799302, -0.03814651]], dtype=float32)>]"
      ]
     },
     "execution_count": null,
     "metadata": {},
     "output_type": "execute_result"
    }
   ],
   "source": [
    "model.trainable_weights"
   ]
  },
  {
   "cell_type": "code",
   "execution_count": null,
   "metadata": {
    "keep_output": true
   },
   "outputs": [
    {
     "name": "stdout",
     "output_type": "stream",
     "text": [
      "The average neg-loglikelihood is: 0.67447394\n",
      "The total neg-loglikelihood is: 1874.3630829453468\n"
     ]
    }
   ],
   "source": [
    "print(\"The average neg-loglikelihood is:\", model.evaluate(canada_dataset).numpy())\n",
    "print(\"The total neg-loglikelihood is:\", model.evaluate(canada_dataset).numpy()*len(canada_dataset))"
   ]
  },
  {
   "cell_type": "code",
   "execution_count": null,
   "metadata": {
    "keep_output": true
   },
   "outputs": [
    {
     "data": {
      "text/html": [
       "<div>\n",
       "<style scoped>\n",
       "    .dataframe tbody tr th:only-of-type {\n",
       "        vertical-align: middle;\n",
       "    }\n",
       "\n",
       "    .dataframe tbody tr th {\n",
       "        vertical-align: top;\n",
       "    }\n",
       "\n",
       "    .dataframe thead th {\n",
       "        text-align: right;\n",
       "    }\n",
       "</style>\n",
       "<table border=\"1\" class=\"dataframe\">\n",
       "  <thead>\n",
       "    <tr style=\"text-align: right;\">\n",
       "      <th></th>\n",
       "      <th>Coefficient Name</th>\n",
       "      <th>Coefficient Estimation</th>\n",
       "      <th>Std. Err</th>\n",
       "      <th>z_value</th>\n",
       "      <th>P(.&gt;z)</th>\n",
       "    </tr>\n",
       "  </thead>\n",
       "  <tbody>\n",
       "    <tr>\n",
       "      <th>0</th>\n",
       "      <td>beta_cost</td>\n",
       "      <td>-0.033339</td>\n",
       "      <td>0.007095</td>\n",
       "      <td>-4.699046</td>\n",
       "      <td>2.622604e-06</td>\n",
       "    </tr>\n",
       "    <tr>\n",
       "      <th>1</th>\n",
       "      <td>beta_frequence</td>\n",
       "      <td>0.092529</td>\n",
       "      <td>0.005097</td>\n",
       "      <td>18.151926</td>\n",
       "      <td>0.000000e+00</td>\n",
       "    </tr>\n",
       "    <tr>\n",
       "      <th>2</th>\n",
       "      <td>beta_ovt</td>\n",
       "      <td>-0.043004</td>\n",
       "      <td>0.003225</td>\n",
       "      <td>-13.335685</td>\n",
       "      <td>0.000000e+00</td>\n",
       "    </tr>\n",
       "    <tr>\n",
       "      <th>3</th>\n",
       "      <td>beta_ivt_0</td>\n",
       "      <td>0.059509</td>\n",
       "      <td>0.010073</td>\n",
       "      <td>5.908032</td>\n",
       "      <td>0.000000e+00</td>\n",
       "    </tr>\n",
       "    <tr>\n",
       "      <th>4</th>\n",
       "      <td>beta_ivt_1</td>\n",
       "      <td>-0.006784</td>\n",
       "      <td>0.004433</td>\n",
       "      <td>-1.530138</td>\n",
       "      <td>1.259825e-01</td>\n",
       "    </tr>\n",
       "    <tr>\n",
       "      <th>5</th>\n",
       "      <td>beta_ivt_2</td>\n",
       "      <td>-0.006460</td>\n",
       "      <td>0.001898</td>\n",
       "      <td>-3.403067</td>\n",
       "      <td>6.663799e-04</td>\n",
       "    </tr>\n",
       "    <tr>\n",
       "      <th>6</th>\n",
       "      <td>beta_ivt_3</td>\n",
       "      <td>-0.001450</td>\n",
       "      <td>0.001187</td>\n",
       "      <td>-1.221395</td>\n",
       "      <td>2.219366e-01</td>\n",
       "    </tr>\n",
       "    <tr>\n",
       "      <th>7</th>\n",
       "      <td>beta_intercept_0</td>\n",
       "      <td>0.698366</td>\n",
       "      <td>1.280191</td>\n",
       "      <td>0.545517</td>\n",
       "      <td>5.853977e-01</td>\n",
       "    </tr>\n",
       "    <tr>\n",
       "      <th>8</th>\n",
       "      <td>beta_intercept_1</td>\n",
       "      <td>1.844099</td>\n",
       "      <td>0.708427</td>\n",
       "      <td>2.603088</td>\n",
       "      <td>9.238839e-03</td>\n",
       "    </tr>\n",
       "    <tr>\n",
       "      <th>9</th>\n",
       "      <td>beta_intercept_2</td>\n",
       "      <td>3.274184</td>\n",
       "      <td>0.624342</td>\n",
       "      <td>5.244213</td>\n",
       "      <td>1.192093e-07</td>\n",
       "    </tr>\n",
       "    <tr>\n",
       "      <th>10</th>\n",
       "      <td>beta_income_0</td>\n",
       "      <td>-0.089087</td>\n",
       "      <td>0.018347</td>\n",
       "      <td>-4.855648</td>\n",
       "      <td>1.192093e-06</td>\n",
       "    </tr>\n",
       "    <tr>\n",
       "      <th>11</th>\n",
       "      <td>beta_income_1</td>\n",
       "      <td>-0.027993</td>\n",
       "      <td>0.003872</td>\n",
       "      <td>-7.228693</td>\n",
       "      <td>0.000000e+00</td>\n",
       "    </tr>\n",
       "    <tr>\n",
       "      <th>12</th>\n",
       "      <td>beta_income_2</td>\n",
       "      <td>-0.038147</td>\n",
       "      <td>0.004083</td>\n",
       "      <td>-9.342735</td>\n",
       "      <td>0.000000e+00</td>\n",
       "    </tr>\n",
       "  </tbody>\n",
       "</table>\n",
       "</div>"
      ],
      "text/plain": [
       "    Coefficient Name  Coefficient Estimation  Std. Err    z_value  \\\n",
       "0          beta_cost               -0.033339  0.007095  -4.699046   \n",
       "1     beta_frequence                0.092529  0.005097  18.151926   \n",
       "2           beta_ovt               -0.043004  0.003225 -13.335685   \n",
       "3         beta_ivt_0                0.059509  0.010073   5.908032   \n",
       "4         beta_ivt_1               -0.006784  0.004433  -1.530138   \n",
       "5         beta_ivt_2               -0.006460  0.001898  -3.403067   \n",
       "6         beta_ivt_3               -0.001450  0.001187  -1.221395   \n",
       "7   beta_intercept_0                0.698366  1.280191   0.545517   \n",
       "8   beta_intercept_1                1.844099  0.708427   2.603088   \n",
       "9   beta_intercept_2                3.274184  0.624342   5.244213   \n",
       "10     beta_income_0               -0.089087  0.018347  -4.855648   \n",
       "11     beta_income_1               -0.027993  0.003872  -7.228693   \n",
       "12     beta_income_2               -0.038147  0.004083  -9.342735   \n",
       "\n",
       "          P(.>z)  \n",
       "0   2.622604e-06  \n",
       "1   0.000000e+00  \n",
       "2   0.000000e+00  \n",
       "3   0.000000e+00  \n",
       "4   1.259825e-01  \n",
       "5   6.663799e-04  \n",
       "6   2.219366e-01  \n",
       "7   5.853977e-01  \n",
       "8   9.238839e-03  \n",
       "9   1.192093e-07  \n",
       "10  1.192093e-06  \n",
       "11  0.000000e+00  \n",
       "12  0.000000e+00  "
      ]
     },
     "execution_count": null,
     "metadata": {},
     "output_type": "execute_result"
    }
   ],
   "source": [
    "model.report"
   ]
  },
  {
   "cell_type": "markdown",
   "metadata": {},
   "source": [
    "### Faster Specification\n",
    "\n",
    "A faster specification can be done using a dictionnary. It follows torch-choice method to create conditional logit models.\n",
    "The parameters dict needs to be as follows:\n",
    "- The key is the feature name\n",
    "- The value is the mode. Currently three modes are available:\n",
    "    - constant: the learned coefficient is shared by all items\n",
    "    - item: one coefficient by item is estimated, the value for the item at index 0 is set to 0\n",
    "    - item-full: one coefficient by item is estimated\n",
    "\n",
    "In order to create the same model for the ModeCanada dataset, it looks as follows:"
   ]
  },
  {
   "cell_type": "code",
   "execution_count": null,
   "metadata": {},
   "outputs": [],
   "source": [
    "# Instantiation with the coefficients dictionnary\n",
    "coefficients = {\"income\": \"item\",\n",
    " \"cost\": \"constant\",\n",
    " \"freq\": \"constant\",\n",
    " \"ovt\": \"constant\",\n",
    " \"ivt\": \"item-full\",\n",
    " \"intercept\": \"item\"}\n",
    "\n",
    "# Instantiation of the model\n",
    "cmnl = ConditionalLogit(coefficients=coefficients, epochs=1000, optimizer=\"lbfgs\")"
   ]
  },
  {
   "cell_type": "code",
   "execution_count": null,
   "metadata": {
    "keep_output": true
   },
   "outputs": [
    {
     "name": "stdout",
     "output_type": "stream",
     "text": [
      "[<tf.Variable 'income_w_0:0' shape=(1, 3) dtype=float32, numpy=array([[-0.08908679, -0.02799301, -0.0381465 ]], dtype=float32)>, <tf.Variable 'cost_w_1:0' shape=(1, 1) dtype=float32, numpy=array([[-0.03333884]], dtype=float32)>, <tf.Variable 'freq_w_2:0' shape=(1, 1) dtype=float32, numpy=array([[0.09252931]], dtype=float32)>, <tf.Variable 'ovt_w_3:0' shape=(1, 1) dtype=float32, numpy=array([[-0.04300352]], dtype=float32)>, <tf.Variable 'ivt_w_4:0' shape=(1, 4) dtype=float32, numpy=\n",
      "array([[ 0.05950936, -0.00678372, -0.0064603 , -0.00145037]],\n",
      "      dtype=float32)>, <tf.Variable 'intercept_w_5:0' shape=(1, 3) dtype=float32, numpy=array([[0.69836473, 1.8440932 , 3.2741785 ]], dtype=float32)>]\n",
      "0.67447394\n"
     ]
    }
   ],
   "source": [
    "history = cmnl.fit(canada_dataset)\n",
    "print(cmnl.trainable_weights)\n",
    "print(cmnl.evaluate(canada_dataset).numpy())"
   ]
  },
  {
   "cell_type": "markdown",
   "metadata": {},
   "source": [
    "### Comparison with other implementations results"
   ]
  },
  {
   "cell_type": "code",
   "execution_count": null,
   "metadata": {
    "keep_output": true
   },
   "outputs": [
    {
     "name": "stdout",
     "output_type": "stream",
     "text": [
      "Using L-BFGS optimizer, setting up .fit() function\n",
      "'Ground Truth' Negative LogLikelihood: tf.Tensor(1874.3633, shape=(), dtype=float32)\n"
     ]
    }
   ],
   "source": [
    "import tensorflow as tf\n",
    "\n",
    "# Here are the values obtained in the references:\n",
    "gt_weights = [\n",
    "    tf.constant([[-0.0890796, -0.0279925, -0.038146]]),\n",
    "    tf.constant([[-0.0333421]]),\n",
    "    tf.constant([[0.0925304]]),\n",
    "    tf.constant([[-0.0430032]]),\n",
    "    tf.constant([[0.0595089, -0.00678188, -0.00645982, -0.00145029]]),\n",
    "    tf.constant([[0.697311, 1.8437, 3.27381]]),\n",
    "]\n",
    "gt_model = ConditionalLogit(coefficients=coefficients)\n",
    "gt_model.instantiate(canada_dataset)\n",
    "canada_dataset\n",
    "# Here we estimate the negative log-likelihood with these coefficients (also, we obtain same value as in those papers):\n",
    "gt_model.trainable_weights = gt_weights\n",
    "print(\"'Ground Truth' Negative LogLikelihood:\", gt_model.evaluate(canada_dataset) * len(canada_dataset))"
   ]
  },
  {
   "cell_type": "markdown",
   "metadata": {},
   "source": [
    "### Estimate Utility & probabilities\n",
    "In order to estimate the utilities, use the .predict_utility() method. In order to estimate the probabilities, use the .predict_probas() method.\n"
   ]
  },
  {
   "cell_type": "code",
   "execution_count": null,
   "metadata": {
    "keep_output": true
   },
   "outputs": [
    {
     "name": "stdout",
     "output_type": "stream",
     "text": [
      "Utilities of each item for the first 5 sessions: tf.Tensor(\n",
      "[[ -4.250798   -8.238913   -3.4962516  -3.5083752]\n",
      " [ -4.250798  -10.466084   -4.196077   -4.4620376]\n",
      " [ -4.250798   -7.348045   -3.2163215  -3.1269102]\n",
      " [ -4.250798  -10.466084   -4.196077   -4.4620376]\n",
      " [ -4.250798  -10.466084   -4.196077   -4.4620376]], shape=(5, 4), dtype=float32)\n"
     ]
    }
   ],
   "source": [
    "print(\"Utilities of each item for the first 5 sessions:\", cmnl.compute_batch_utility(*canada_dataset.batch[:5]))"
   ]
  },
  {
   "cell_type": "code",
   "execution_count": null,
   "metadata": {
    "keep_output": true
   },
   "outputs": [
    {
     "name": "stdout",
     "output_type": "stream",
     "text": [
      "Purchase probability of each item for the first 5 sessions: tf.Tensor(\n",
      "[[0.1906133  0.00353295 0.40536723 0.40048242]\n",
      " [0.348695   0.00069692 0.3683078  0.2822966 ]\n",
      " [0.14418297 0.00651324 0.40567806 0.44362125]\n",
      " [0.348695   0.00069692 0.3683078  0.2822966 ]\n",
      " [0.348695   0.00069692 0.3683078  0.2822966 ]], shape=(5, 4), dtype=float32)\n"
     ]
    }
   ],
   "source": [
    "print(\"Purchase probability of each item for the first 5 sessions:\", cmnl.predict_probas(canada_dataset)[:5])"
   ]
  },
  {
   "cell_type": "markdown",
   "metadata": {},
   "source": [
    "### Using Gradient Descent Optimizers\n",
    "\n",
    "For very large datasets that do not fit entirely in the memory, we have to work with data batches. In this case, the LBFGS method is usually not the best choice. In those cases, we will prefer stochastic gradient descent optimizers.\n",
    "\n",
    "In this case, it is possible to obtain the same coefficients estimation, also it is a little tricky to get it quickly. We need to adjust the learning rate over time for the optimization not to be too slow.\n",
    "L-BFGS is more efficient for small dataset - Gradient Descent for large ones !"
   ]
  },
  {
   "cell_type": "code",
   "execution_count": null,
   "metadata": {
    "keep_output": true
   },
   "outputs": [
    {
     "name": "stderr",
     "output_type": "stream",
     "text": [
      "100%|██████████| 2000/2000 [00:16<00:00, 120.32it/s]\n",
      "100%|██████████| 4000/4000 [00:40<00:00, 97.95it/s] \n",
      "100%|██████████| 20000/20000 [03:22<00:00, 98.66it/s] \n"
     ]
    }
   ],
   "source": [
    "cmnl = ConditionalLogit(coefficients=coefficients, optimizer=\"Adam\", epochs=2000, batch_size=-1)\n",
    "history = cmnl.fit(canada_dataset)\n",
    "cmnl.optimizer.lr = cmnl.optimizer.lr / 5\n",
    "cmnl.epochs = 4000\n",
    "history2 = cmnl.fit(canada_dataset)\n",
    "cmnl.optimizer.lr = cmnl.optimizer.lr  / 10\n",
    "cmnl.epochs = 20000\n",
    "history3 = cmnl.fit(canada_dataset)"
   ]
  },
  {
   "cell_type": "markdown",
   "metadata": {},
   "source": [
    "It can be useful to look at the loss (negative loglikelyhood) over time to see how the estimation goes:"
   ]
  },
  {
   "cell_type": "code",
   "execution_count": null,
   "metadata": {
    "keep_output": true
   },
   "outputs": [
    {
     "data": {
      "text/plain": [
       "Text(0.5, 1.0, 'Second and third part of the gradient descent.')"
      ]
     },
     "execution_count": null,
     "metadata": {},
     "output_type": "execute_result"
    },
    {
     "data": {
      "image/png": "[encoded data removed]",
      "text/plain": [
       "<Figure size 1200x400 with 2 Axes>"
      ]
     },
     "metadata": {},
     "output_type": "display_data"
    }
   ],
   "source": [
    "import matplotlib.pyplot as plt\n",
    "plt.figure(figsize=(12, 4))\n",
    "plt.subplot(1, 2, 1)\n",
    "plt.plot(history[\"train_loss\"])\n",
    "plt.title(\"First part of the gradient descent.\")\n",
    "plt.subplot(1, 2, 2)\n",
    "plt.plot(history2[\"train_loss\"] + history3[\"train_loss\"])\n",
    "plt.title(\"Second and third part of the gradient descent.\")"
   ]
  },
  {
   "cell_type": "code",
   "execution_count": null,
   "metadata": {
    "keep_output": true
   },
   "outputs": [
    {
     "data": {
      "text/plain": [
       "[<tf.Variable 'income_w_0:0' shape=(1, 3) dtype=float32, numpy=array([[-0.08402919, -0.02359896, -0.03233599]], dtype=float32)>,\n",
       " <tf.Variable 'cost_w_1:0' shape=(1, 1) dtype=float32, numpy=array([[-0.05140902]], dtype=float32)>,\n",
       " <tf.Variable 'freq_w_2:0' shape=(1, 1) dtype=float32, numpy=array([[0.09645309]], dtype=float32)>,\n",
       " <tf.Variable 'ovt_w_3:0' shape=(1, 1) dtype=float32, numpy=array([[-0.04099115]], dtype=float32)>,\n",
       " <tf.Variable 'ivt_w_4:0' shape=(1, 4) dtype=float32, numpy=\n",
       " array([[ 0.05871323, -0.00726116, -0.00368665, -0.00105638]],\n",
       "       dtype=float32)>,\n",
       " <tf.Variable 'intercept_w_5:0' shape=(1, 3) dtype=float32, numpy=array([[-1.687437  , -0.39638832,  1.1344599 ]], dtype=float32)>]"
      ]
     },
     "execution_count": null,
     "metadata": {},
     "output_type": "execute_result"
    }
   ],
   "source": [
    "cmnl.trainable_weights"
   ]
  },
  {
   "cell_type": "code",
   "execution_count": null,
   "metadata": {
    "keep_output": true
   },
   "outputs": [
    {
     "data": {
      "text/plain": [
       "<tf.Tensor: shape=(), dtype=float32, numpy=0.67665595>"
      ]
     },
     "execution_count": null,
     "metadata": {},
     "output_type": "execute_result"
    }
   ],
   "source": [
    "cmnl.evaluate(canada_dataset)"
   ]
  },
  {
   "cell_type": "markdown",
   "metadata": {},
   "source": [
    "### References\n",
    "\n",
    "[1] ModeCanada dataset in *Application and interpretation of nested logit models of intercity mode choice*, Christophier, V. F.; Koppelman, S. (1993)\\\n",
    "[2] Conditional MultinomialLogit, Train, K.; McFadden, D.; Ben-Akiva, M. (1987)\\\n",
    "[3] Siwssmetro dataset in *The acceptance of modal innovation: The case of Swissmetro*, Bierlaire, M.; Axhausen, K.; Abay, G (2001)\\"
   ]
  }
 ],
 "metadata": {
  "kernelspec": {
   "display_name": "Python 3 (ipykernel)",
   "language": "python",
   "name": "python3"
  },
  "language_info": {
   "codemirror_mode": {
    "name": "ipython",
    "version": 3
   },
   "file_extension": ".py",
   "mimetype": "text/x-python",
   "name": "python",
   "nbconvert_exporter": "python",
   "pygments_lexer": "ipython3",
   "version": "3.11.4"
  }
 },
 "nbformat": 4,
 "nbformat_minor": 2
}
