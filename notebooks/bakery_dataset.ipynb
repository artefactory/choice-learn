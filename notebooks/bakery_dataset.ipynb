{
 "cells": [
  {
   "cell_type": "markdown",
   "id": "0",
   "metadata": {},
   "source": [
    "## II. Bakery Dataset"
   ]
  },
  {
   "cell_type": "code",
   "execution_count": null,
   "id": "1",
   "metadata": {},
   "outputs": [],
   "source": [
    "import os\n",
    "import sys\n",
    "import matplotlib.pyplot as plt\n",
    "\n",
    "os.environ[\"CUDA_VISIBLE_DEVICES\"] = \"\"\n",
    "\n",
    "sys.path.append(\"../\")\n",
    "print(os.getcwd())\n",
    "\n",
    "from choice_learn.basket_models import AleaCarta"
   ]
  },
  {
   "cell_type": "code",
   "execution_count": null,
   "id": "2",
   "metadata": {},
   "outputs": [],
   "source": [
    "from choice_learn.basket_models.data.preprocessing import load_bakery\n",
    "\n",
    "\n",
    "data = load_bakery()\n",
    "print(data)\n",
    "print(f\"\\nThe TripDataset 'data' contains {data.n_items} distinct items that appear in {data.n_samples} transactions carried out at {data.n_stores} point(s) of sale with {data.n_assortments} different assortments.\")"
   ]
  },
  {
   "cell_type": "code",
   "execution_count": null,
   "id": "3",
   "metadata": {},
   "outputs": [],
   "source": [
    "latent_sizes = {\"preferences\": 6, \"price\": 3, \"season\": 3}\n",
    "n_negative_samples = 42\n",
    "optimizer = \"lfbgs\"\n",
    "lr = 1e-2\n",
    "epochs = 20\n",
    "# epochs = 1000\n",
    "batch_size = 32\n",
    "\n"
   ]
  },
  {
   "cell_type": "code",
   "execution_count": null,
   "id": "4",
   "metadata": {},
   "outputs": [],
   "source": [
    "model = AleaCarta(\n",
    "    # item_intercept=True,\n",
    "    item_intercept=False,\n",
    "    price_effects=False,\n",
    "    seasonal_effects=False,\n",
    "    latent_sizes=latent_sizes,\n",
    "    n_negative_samples=n_negative_samples,\n",
    "    optimizer=optimizer,\n",
    "    lr=lr,\n",
    "    epochs=epochs,\n",
    "    batch_size=batch_size,\n",
    ")\n",
    "\n",
    "model.instantiate(n_items=data.n_items, n_stores=data.n_stores)"
   ]
  },
  {
   "cell_type": "code",
   "execution_count": null,
   "id": "5",
   "metadata": {},
   "outputs": [],
   "source": [
    "history = model.fit(trip_dataset=data[:1000], verbose=1, val_dataset=data[8000:9000])\n"
   ]
  },
  {
   "cell_type": "code",
   "execution_count": null,
   "id": "6",
   "metadata": {},
   "outputs": [],
   "source": [
    "model.evaluate(trip_dataset=data[:1000])"
   ]
  },
  {
   "cell_type": "code",
   "execution_count": null,
   "id": "7",
   "metadata": {},
   "outputs": [],
   "source": [
    "plt.plot(history[\"train_loss\"])\n",
    "plt.plot(history[\"val_loss\"])\n",
    "plt.xlabel(\"Epoch\")\n",
    "plt.ylabel(\"Loss\")\n",
    "plt.legend()\n",
    "plt.title(\"Training and Validation Loss\")\n",
    "\n",
    "\n",
    "\n",
    "plt.show()"
   ]
  },
  {
   "cell_type": "code",
   "execution_count": null,
   "id": "8",
   "metadata": {},
   "outputs": [],
   "source": [
    "import numpy as np\n",
    "\n",
    "n_item = 50\n",
    "\n",
    "n_comparaison = 50\n",
    "\n",
    "\n",
    "item_batch = np.array(np.concatenate([[i]*n_comparaison for i in range(n_comparaison)]))\n",
    "print('item_batch', item_batch)\n",
    "basket_batch = np.concatenate([(np.arange(n_comparaison).reshape(-1, 1)) for i in range(n_comparaison)])\n",
    "\n",
    "#basket_batch = np.array(np.concatenate([(np.arange(51)) for i in range(51)]))\n",
    "print('basket_batch', basket_batch)\n",
    "batch_size = n_comparaison**2\n",
    "\n",
    "print('batch_size', batch_size)\n",
    "\n",
    "available_item_batch =  np.array([[1]*n_item]*batch_size) \n",
    "price_batch = np.array([[1.0]*batch_size])\n",
    "\n",
    "store_batch = np.array([0]*batch_size)\n",
    "week_batch = np.array([0]*batch_size)\n",
    "\n"
   ]
  },
  {
   "cell_type": "code",
   "execution_count": null,
   "id": "9",
   "metadata": {},
   "outputs": [],
   "source": [
    "compute_batch_utility = model.compute_batch_utility(item_batch=item_batch, basket_batch=basket_batch, price_batch=price_batch, available_item_batch=available_item_batch, store_batch=store_batch, week_batch=week_batch)\n",
    "compute_batch_utility\n"
   ]
  },
  {
   "cell_type": "code",
   "execution_count": null,
   "id": "10",
   "metadata": {},
   "outputs": [],
   "source": [
    "import seaborn as sns\n",
    "import math\n",
    "matrix = np.zeros(shape = (n_comparaison,n_comparaison))\n",
    "\n",
    "for i in range(n_comparaison):\n",
    "    for j in range(n_comparaison):\n",
    "        if i == j:\n",
    "            matrix[i,j] = - math.inf\n",
    "        else :\n",
    "            matrix[i,j] = compute_batch_utility[i + j*n_comparaison]\n",
    "\n",
    "for i in range(n_comparaison):\n",
    "    sum = np.sum(np.exp(matrix[i,:]))\n",
    "    for j in range(n_comparaison):\n",
    "        matrix[i,j] = np.exp(matrix[i,j])/sum\n",
    "\n",
    "\n",
    "plt.figure(figsize=(30, 30))\n",
    "sns.heatmap(matrix,\n",
    "            annot=True,     \n",
    "            fmt='.2f')\n",
    "            #   ,cmap='viridis'   )   \n",
    "\n",
    "plt.title(' P(Item| B = {basket} )') \n",
    "plt.ylabel('Item')   \n",
    "plt.xlabel('basket')   \n",
    "plt.show() "
   ]
  }
 ],
 "metadata": {
  "kernelspec": {
   "display_name": "base",
   "language": "python",
   "name": "python3"
  },
  "language_info": {
   "codemirror_mode": {
    "name": "ipython",
    "version": 3
   },
   "file_extension": ".py",
   "mimetype": "text/x-python",
   "name": "python",
   "nbconvert_exporter": "python",
   "pygments_lexer": "ipython3",
   "version": "3.10.14"
  }
 },
 "nbformat": 4,
 "nbformat_minor": 5
}
