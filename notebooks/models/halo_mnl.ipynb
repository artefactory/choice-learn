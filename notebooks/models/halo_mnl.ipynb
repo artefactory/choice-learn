{
 "cells": [
  {
   "cell_type": "markdown",
   "metadata": {},
   "source": [
    "# Simple Halo-MNL Model\n",
    "\n",
    "[![Open In Colab](https://colab.research.google.com/assets/colab-badge.svg)](https://colab.research.google.com/github/artefactory/choice-learn/blob/main/notebooks/models/halo_mnl.ipynb)"
   ]
  },
  {
   "cell_type": "code",
   "execution_count": null,
   "metadata": {},
   "outputs": [],
   "source": [
    "# Install necessary requirements\n",
    "\n",
    "# If you run this notebook on Google Colab, or in standalone mode, you need to install the required packages.\n",
    "# Uncomment the following lines:\n",
    "\n",
    "# !pip install choice-learn\n",
    "\n",
    "# If you run the notebook within the GitHub repository, you need to run the following lines, that can skipped otherwise:\n",
    "import os\n",
    "import sys\n",
    "\n",
    "sys.path.append(\"../../\")"
   ]
  },
  {
   "cell_type": "code",
   "execution_count": null,
   "metadata": {},
   "outputs": [],
   "source": [
    "import os\n",
    "# Remove GPU use\n",
    "os.environ[\"CUDA_VISIBLE_DEVICES\"] = \"\"\n",
    "\n",
    "import numpy as np\n",
    "\n",
    "from choice_learn.models.halo_mnl import LowRankHaloMNL, HaloMNL\n",
    "from choice_learn.data import ChoiceDataset\n",
    "from choice_learn.datasets.base import load_heating"
   ]
  },
  {
   "cell_type": "markdown",
   "metadata": {},
   "source": []
  },
  {
   "cell_type": "code",
   "execution_count": null,
   "metadata": {},
   "outputs": [],
   "source": [
    "heating_df = load_heating(as_frame=True)\n",
    "\n",
    "shared_features_by_choice = [\"income\", \"agehed\", \"rooms\"]\n",
    "choice = [\"depvar\"]\n",
    "items_features_by_choice = [\"ic.\", \"oc.\"]\n",
    "items = [\"hp\", \"gc\", \"gr\", \"ec\", \"er\"]\n",
    "\n",
    "choices = np.array([items.index(val) for val in heating_df[choice].to_numpy().ravel()])\n",
    "shared_features_by_choice = heating_df[shared_features_by_choice].to_numpy().astype(\"float32\")\n",
    "items_features_by_choice = np.stack([heating_df[[feat + item for feat in items_features_by_choice]].to_numpy() for item in items], axis=1)"
   ]
  },
  {
   "cell_type": "markdown",
   "metadata": {},
   "source": []
  },
  {
   "cell_type": "code",
   "execution_count": null,
   "metadata": {},
   "outputs": [],
   "source": [
    "dataset = ChoiceDataset(items_features_by_choice=items_features_by_choice,\n",
    "                        choices=choices)\n",
    "model = LowRankHaloMNL(halo_latent_dim=2, intercept=None)\n",
    "history = model.fit(dataset, verbose=2, get_report=True)"
   ]
  },
  {
   "cell_type": "code",
   "execution_count": null,
   "metadata": {},
   "outputs": [],
   "source": [
    "model = HaloMNL(intercept=\"item\", optimizer=\"lbfgs\")\n",
    "history = model.fit(dataset, verbose=0, get_report=True)"
   ]
  },
  {
   "cell_type": "code",
   "execution_count": null,
   "metadata": {},
   "outputs": [],
   "source": [
    "import matplotlib.pyplot as plt\n",
    "import tensorflow as tf\n",
    "\n",
    "plt.imshow(tf.linalg.set_diag(model.trainable_weights[-1], model.zero_diag))\n",
    "plt.title(\"Estimated Halo Matrix\")\n",
    "plt.xticks([0., 1., 2., 3., 4.], [\"hp\", \"gc\", \"gr\", \"ec\", \"er\"])\n",
    "plt.yticks([0., 1., 2., 3., 4.], [\"hp\", \"gc\", \"gr\", \"ec\", \"er\"])\n",
    "\n",
    "plt.show()"
   ]
  },
  {
   "cell_type": "code",
   "execution_count": null,
   "metadata": {},
   "outputs": [],
   "source": []
  }
 ],
 "metadata": {
  "kernelspec": {
   "display_name": "tf_env",
   "language": "python",
   "name": "python3"
  },
  "language_info": {
   "codemirror_mode": {
    "name": "ipython",
    "version": 3
   },
   "file_extension": ".py",
   "mimetype": "text/x-python",
   "name": "python",
   "nbconvert_exporter": "python",
   "pygments_lexer": "ipython3",
   "version": "3.11.4"
  }
 },
 "nbformat": 4,
 "nbformat_minor": 2
}
