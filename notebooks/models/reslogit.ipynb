{
 "cells": [
  {
   "cell_type": "markdown",
   "metadata": {},
   "source": [
    "## Introduction to modelling with ResLogit\n",
    "\n",
    "[![Open In Colab](https://colab.research.google.com/assets/colab-badge.svg)](https://colab.research.google.com/github/artefactory/choice-learn/blob/main/notebooks/models/reslogit.ipynb)\n",
    "\n",
    "We use the Swissmetro dataset to demonstrate how to use the ResLogit model [1]. "
   ]
  },
  {
   "cell_type": "code",
   "execution_count": null,
   "metadata": {},
   "outputs": [],
   "source": [
    "# Install necessary requirements\n",
    "\n",
    "# If you run this notebook on Google Colab, or in standalone mode, you need to install the required packages.\n",
    "# Uncomment the following lines:\n",
    "\n",
    "# !pip install choice-learn\n",
    "\n",
    "# If you run the notebook within the GitHub repository, you need to run the following lines, that can skipped otherwise:\n",
    "import os\n",
    "import sys\n",
    "\n",
    "sys.path.append(\"../../\")"
   ]
  },
  {
   "cell_type": "code",
   "execution_count": null,
   "metadata": {},
   "outputs": [],
   "source": [
    "import os\n",
    "# Remove/Add GPU use\n",
    "os.environ[\"CUDA_VISIBLE_DEVICES\"] = \"1\"\n",
    "\n",
    "import timeit\n",
    "import matplotlib.pyplot as plt\n",
    "import numpy as np\n",
    "import pandas as pd\n",
    "import tensorflow as tf\n",
    "\n",
    "from choice_learn.data import ChoiceDataset\n",
    "from choice_learn.models import ResLogit\n",
    "from choice_learn.datasets import load_swissmetro"
   ]
  },
  {
   "cell_type": "markdown",
   "metadata": {},
   "source": [
    "First, we create a ChoiceDataset from the dataframe."
   ]
  },
  {
   "cell_type": "code",
   "execution_count": null,
   "metadata": {},
   "outputs": [],
   "source": [
    "dataset = load_swissmetro(as_frame=False)"
   ]
  },
  {
   "cell_type": "code",
   "execution_count": null,
   "metadata": {},
   "outputs": [],
   "source": [
    "dataset.summary()\n",
    "print(f\"\\n\\n{type(dataset)=}\")\n",
    "print(f\"\\n{np.shape(dataset.items_features_by_choice)=}\")\n",
    "print(f\"{np.shape(dataset.shared_features_by_choice)=}\")"
   ]
  },
  {
   "cell_type": "code",
   "execution_count": null,
   "metadata": {},
   "outputs": [],
   "source": [
    "n_items = np.shape(dataset.items_features_by_choice)[2]\n",
    "n_items_features = np.shape(dataset.items_features_by_choice)[3]\n",
    "n_shared_features = np.shape(dataset.shared_features_by_choice)[2]\n",
    "n_vars = n_items_features + n_shared_features\n",
    "n_choices = len(np.unique(dataset.choices))\n",
    "\n",
    "print(f\"{n_items=}\\n{n_items_features=}\\n{n_shared_features=}\\n{n_vars, n_choices=}\\n\\n\")"
   ]
  },
  {
   "cell_type": "markdown",
   "metadata": {},
   "source": [
    "We split the dataset into train and test subsets."
   ]
  },
  {
   "cell_type": "code",
   "execution_count": null,
   "metadata": {},
   "outputs": [],
   "source": [
    "n_samples = len(dataset.choices)\n",
    "# Slicing index for train and valid split\n",
    "slice = np.floor(0.7 * n_samples).astype(int)\n",
    "train_indexes = np.arange(0, slice)\n",
    "test_indexes = np.arange(slice, n_samples)\n",
    "\n",
    "train_dataset = dataset[train_indexes]\n",
    "test_dataset = dataset[test_indexes]"
   ]
  },
  {
   "cell_type": "markdown",
   "metadata": {},
   "source": [
    "Now we can fit several ResLogit models with different numbers of residual layers. We will use the same learning rate and number of epochs for all models. We add itemwise intercept to all the models."
   ]
  },
  {
   "cell_type": "code",
   "execution_count": null,
   "metadata": {},
   "outputs": [],
   "source": [
    "model_args = {\n",
    "    \"intercept\": \"item\",\n",
    "    \"optimizer\": \"SGD\",\n",
    "    \"lr\": 1e-6,\n",
    "    \"epochs\": 100,\n",
    "}\n",
    "print(f\"{model_args=}\")"
   ]
  },
  {
   "cell_type": "code",
   "execution_count": null,
   "metadata": {},
   "outputs": [],
   "source": [
    "list_n_layers = [k for k in range(1, 17)]\n",
    "metrics = pd.DataFrame(columns=[\"n_layers\", \"fit_losses\", \"train_loss\", \"test_loss\", \"initial_trainable_weights\", \"final_trainable_weights\", \"execution_time\"])\n",
    "\n",
    "for n_layers in list_n_layers:\n",
    "    print(\"\\n------------------------------------\"\n",
    "          \"------------------------------------\"\n",
    "          f\"\\n{n_layers=}\")\n",
    "\n",
    "    start_time = timeit.default_timer()\n",
    "    model = ResLogit(n_layers=n_layers, **model_args)\n",
    "    model.instantiate(n_items=n_items, n_shared_features=n_shared_features, n_items_features=n_items_features)\n",
    "\n",
    "    initial_trainable_weights = [model.trainable_weights[i].numpy() for i in range(len(model.trainable_weights))]\n",
    "\n",
    "    fit_losses = model.fit(choice_dataset=train_dataset, val_dataset=test_dataset)\n",
    "\n",
    "    end_time = timeit.default_timer()\n",
    "    execution_time = end_time - start_time\n",
    "    print(f\"Execution time with {n_layers} residual layers: {execution_time} seconds\")\n",
    "\n",
    "    final_trainable_weights = [model.trainable_weights[i].numpy() for i in range(len(model.trainable_weights))]\n",
    "\n",
    "    new_metric_row = pd.DataFrame({\n",
    "        \"n_layers\": [n_layers],\n",
    "        \"fit_losses\": [fit_losses],\n",
    "        \"train_loss\": [model.evaluate(train_dataset)],\n",
    "        \"test_loss\": [model.evaluate(test_dataset)],\n",
    "        \"initial_trainable_weights\": [initial_trainable_weights],\n",
    "        \"final_trainable_weights\": [final_trainable_weights],\n",
    "        \"execution_time\": [execution_time]\n",
    "    })\n",
    "    metrics = pd.concat([metrics, new_metric_row], ignore_index=True)"
   ]
  },
  {
   "cell_type": "code",
   "execution_count": null,
   "metadata": {},
   "outputs": [],
   "source": [
    "metrics.head()"
   ]
  },
  {
   "cell_type": "code",
   "execution_count": null,
   "metadata": {},
   "outputs": [],
   "source": [
    "for index, row in metrics.iterrows():\n",
    "    plt.plot(row[\"fit_losses\"][\"train_loss\"], label=f\"n_layers={row['n_layers']}\")\n",
    "\n",
    "plt.xlabel(\"Epochs\")\n",
    "plt.ylabel(\"Training loss through the epochs\")\n",
    "plt.title(\"ResLogit model with different number of residual layers\")\n",
    "plt.legend()\n",
    "plt.show()"
   ]
  },
  {
   "cell_type": "code",
   "execution_count": null,
   "metadata": {},
   "outputs": [],
   "source": [
    "train_losses = [row[\"train_loss\"] for index, row in metrics.iterrows()]\n",
    "test_losses = [row[\"test_loss\"] for index, row in metrics.iterrows()]\n",
    "\n",
    "plt.plot(list_n_layers, train_losses, label=\"Train loss after the last epoch\")\n",
    "plt.plot(list_n_layers, test_losses, label=\"Test loss\")\n",
    "\n",
    "plt.xlabel(\"Number of residual layers\")\n",
    "plt.ylabel(\"Loss\")\n",
    "plt.title(\"ResLogit model with different number of residual layers\")\n",
    "plt.legend()\n",
    "plt.show()"
   ]
  },
  {
   "cell_type": "code",
   "execution_count": null,
   "metadata": {},
   "outputs": [],
   "source": [
    "execution_times = [row[\"execution_time\"] for index, row in metrics.iterrows()]\n",
    "\n",
    "plt.plot(list_n_layers, execution_times)\n",
    "\n",
    "plt.xlabel(\"Number of residual layers\")\n",
    "plt.ylabel(\"Execution time (s)\")\n",
    "plt.title(\"ResLogit model with different number of residual layers\")\n",
    "plt.legend()\n",
    "plt.show()"
   ]
  },
  {
   "cell_type": "markdown",
   "metadata": {},
   "source": [
    "### References\n",
    "[1] ResLogit: A residual neural network logit model for data-driven choice modelling, Wong, M.; Farooq, B. (2021), Transportation Research Part C: Emerging Technologies 126\\\n",
    "(URL: https://doi.org/10.1016/j.trc.2021.103050)"
   ]
  },
  {
   "cell_type": "code",
   "execution_count": null,
   "metadata": {},
   "outputs": [],
   "source": []
  }
 ],
 "metadata": {
  "kernelspec": {
   "display_name": "Python 3 (ipykernel)",
   "language": "python",
   "name": "python3"
  },
  "language_info": {
   "codemirror_mode": {
    "name": "ipython",
    "version": 3
   },
   "file_extension": ".py",
   "mimetype": "text/x-python",
   "name": "python",
   "nbconvert_exporter": "python",
   "pygments_lexer": "ipython3",
   "version": "3.10.14"
  }
 },
 "nbformat": 4,
 "nbformat_minor": 2
}
