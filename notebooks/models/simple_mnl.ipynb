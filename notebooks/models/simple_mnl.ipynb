{
 "cells": [
  {
   "cell_type": "markdown",
   "metadata": {},
   "source": [
    "# Simple MNL"
   ]
  },
  {
   "cell_type": "code",
   "execution_count": null,
   "metadata": {},
   "outputs": [],
   "source": [
    "import os\n",
    "\n",
    "# Remove GPU use\n",
    "os.environ[\"CUDA_VISIBLE_DEVICES\"] = \"\"\n",
    "\n",
    "import sys\n",
    "\n",
    "sys.path.append(\"../../\")\n",
    "\n",
    "import numpy as np\n",
    "\n",
    "from choice_learn.models.simple_mnl import SimpleMNL\n",
    "from choice_learn.data import ChoiceDataset\n",
    "from choice_learn.datasets.base import load_heating"
   ]
  },
  {
   "cell_type": "markdown",
   "metadata": {},
   "source": [
    "Let's recreate this [tutorial](https://cran.r-project.org/web/packages/mlogit/vignettes/e1mlogit.html) by Yves Croissant for the mlogit R package.\n",
    "\n",
    "It uses the Heating dataset, where we try to predict which heating hardware a houseold will chose available in choice_learn.datasets !"
   ]
  },
  {
   "cell_type": "code",
   "execution_count": null,
   "metadata": {},
   "outputs": [],
   "source": [
    "heating_df = load_heating(as_frame=True)\n",
    "\n",
    "shared_features_by_choice = [\"income\", \"agehed\", \"rooms\"]\n",
    "choice = [\"depvar\"]\n",
    "items_features_by_choice = [\"ic.\", \"oc.\"]\n",
    "items = [\"hp\", \"gc\", \"gr\", \"ec\", \"er\"]\n",
    "\n",
    "choices = np.array([items.index(val) for val in heating_df[choice].to_numpy().ravel()])\n",
    "shared_features_by_choice = heating_df[shared_features_by_choice].to_numpy().astype(\"float32\")\n",
    "items_features_by_choice = np.stack([heating_df[[feat + item for feat in items_features_by_choice]].to_numpy() for item in items], axis=1)"
   ]
  },
  {
   "cell_type": "markdown",
   "metadata": {},
   "source": [
    "First part estimates a simple MNL without intercept from the 'ic' and 'oc' features. By default, SimpleMNL does not integrate any intercept, but you can precise 'None'."
   ]
  },
  {
   "cell_type": "code",
   "execution_count": null,
   "metadata": {},
   "outputs": [],
   "source": [
    "dataset = ChoiceDataset(items_features_by_choice=items_features_by_choice,\n",
    "                        choices=choices)\n",
    "model = SimpleMNL(intercept=None)\n",
    "history = model.fit(dataset, get_report=True, verbose=2)"
   ]
  },
  {
   "cell_type": "code",
   "execution_count": null,
   "metadata": {
    "keep_output": true
   },
   "outputs": [
    {
     "name": "stdout",
     "output_type": "stream",
     "text": [
      "Estimation Negative LogLikelihood: tf.Tensor(1095.2418, shape=(), dtype=float32)\n"
     ]
    }
   ],
   "source": [
    "print(\"Estimation Negative LogLikelihood:\",\n",
    "      model.evaluate(dataset) * len(dataset))"
   ]
  },
  {
   "cell_type": "markdown",
   "metadata": {},
   "source": [
    "Model analysis and Comparison with R's mlogit package"
   ]
  },
  {
   "cell_type": "code",
   "execution_count": null,
   "metadata": {
    "keep_output": true
   },
   "outputs": [
    {
     "data": {
      "text/html": [
       "<div>\n",
       "<style scoped>\n",
       "    .dataframe tbody tr th:only-of-type {\n",
       "        vertical-align: middle;\n",
       "    }\n",
       "\n",
       "    .dataframe tbody tr th {\n",
       "        vertical-align: top;\n",
       "    }\n",
       "\n",
       "    .dataframe thead th {\n",
       "        text-align: right;\n",
       "    }\n",
       "</style>\n",
       "<table border=\"1\" class=\"dataframe\">\n",
       "  <thead>\n",
       "    <tr style=\"text-align: right;\">\n",
       "      <th></th>\n",
       "      <th>Coefficient Name</th>\n",
       "      <th>Coefficient Estimation</th>\n",
       "      <th>Std. Err</th>\n",
       "      <th>z_value</th>\n",
       "      <th>P(.&gt;z)</th>\n",
       "    </tr>\n",
       "  </thead>\n",
       "  <tbody>\n",
       "    <tr>\n",
       "      <th>0</th>\n",
       "      <td>Weights_items_features_0</td>\n",
       "      <td>-0.006232</td>\n",
       "      <td>0.000353</td>\n",
       "      <td>-17.665276</td>\n",
       "      <td>0.0</td>\n",
       "    </tr>\n",
       "    <tr>\n",
       "      <th>1</th>\n",
       "      <td>Weights_items_features_1</td>\n",
       "      <td>-0.004580</td>\n",
       "      <td>0.000322</td>\n",
       "      <td>-14.216597</td>\n",
       "      <td>0.0</td>\n",
       "    </tr>\n",
       "  </tbody>\n",
       "</table>\n",
       "</div>"
      ],
      "text/plain": [
       "           Coefficient Name  Coefficient Estimation  Std. Err    z_value  \\\n",
       "0  Weights_items_features_0               -0.006232  0.000353 -17.665276   \n",
       "1  Weights_items_features_1               -0.004580  0.000322 -14.216597   \n",
       "\n",
       "   P(.>z)  \n",
       "0     0.0  \n",
       "1     0.0  "
      ]
     },
     "execution_count": null,
     "metadata": {},
     "output_type": "execute_result"
    }
   ],
   "source": [
    "model.report"
   ]
  },
  {
   "cell_type": "markdown",
   "metadata": {},
   "source": [
    "We reach very similar results. The second part is about modelling useing the ic + oc/0.12 ratio. Here is how it can be done:"
   ]
  },
  {
   "cell_type": "code",
   "execution_count": null,
   "metadata": {},
   "outputs": [],
   "source": [
    "ratio_items_features = []\n",
    "for case in range(items_features_by_choice.shape[0]):\n",
    "    feat = []\n",
    "    for item in range(items_features_by_choice.shape[1]):\n",
    "        feat.append([items_features_by_choice[case, item, 0] + items_features_by_choice[case, item, 1] / 0.12])\n",
    "    ratio_items_features.append(feat)\n",
    "ratio_contexts_items = np.array(ratio_items_features)\n",
    "ratio_contexts_items.shape"
   ]
  },
  {
   "cell_type": "code",
   "execution_count": null,
   "metadata": {},
   "outputs": [],
   "source": [
    "ratio_dataset = ChoiceDataset(items_features_by_choice=ratio_items_features, choices=choices)\n",
    "model = SimpleMNL()\n",
    "history = model.fit(ratio_dataset, get_report=False)"
   ]
  },
  {
   "cell_type": "code",
   "execution_count": null,
   "metadata": {
    "keep_output": true
   },
   "outputs": [
    {
     "name": "stdout",
     "output_type": "stream",
     "text": [
      "Weights: [<tf.Variable 'Weights_items_features:0' shape=(1,) dtype=float32, numpy=array([-0.00071585], dtype=float32)>]\n",
      "Estimation Negative LogLikelihood: tf.Tensor(1248.7051, shape=(), dtype=float32)\n"
     ]
    }
   ],
   "source": [
    "print(\"Weights:\", model.trainable_weights)\n",
    "print(\"Estimation Negative LogLikelihood:\", model.evaluate(ratio_dataset) * len(ratio_dataset))"
   ]
  },
  {
   "cell_type": "markdown",
   "metadata": {},
   "source": [
    "Finally, to add itemwise intercept for the last part, here is how it can be done:"
   ]
  },
  {
   "cell_type": "code",
   "execution_count": null,
   "metadata": {},
   "outputs": [],
   "source": [
    "model = SimpleMNL(intercept=\"item\")\n",
    "history = model.fit(dataset, get_report=True)"
   ]
  },
  {
   "cell_type": "code",
   "execution_count": null,
   "metadata": {
    "keep_output": true
   },
   "outputs": [
    {
     "data": {
      "text/html": [
       "<div>\n",
       "<style scoped>\n",
       "    .dataframe tbody tr th:only-of-type {\n",
       "        vertical-align: middle;\n",
       "    }\n",
       "\n",
       "    .dataframe tbody tr th {\n",
       "        vertical-align: top;\n",
       "    }\n",
       "\n",
       "    .dataframe thead th {\n",
       "        text-align: right;\n",
       "    }\n",
       "</style>\n",
       "<table border=\"1\" class=\"dataframe\">\n",
       "  <thead>\n",
       "    <tr style=\"text-align: right;\">\n",
       "      <th></th>\n",
       "      <th>Coefficient Name</th>\n",
       "      <th>Coefficient Estimation</th>\n",
       "      <th>Std. Err</th>\n",
       "      <th>z_value</th>\n",
       "      <th>P(.&gt;z)</th>\n",
       "    </tr>\n",
       "  </thead>\n",
       "  <tbody>\n",
       "    <tr>\n",
       "      <th>0</th>\n",
       "      <td>Weights_items_features_0</td>\n",
       "      <td>-0.001533</td>\n",
       "      <td>0.000621</td>\n",
       "      <td>-2.469419</td>\n",
       "      <td>1.353323e-02</td>\n",
       "    </tr>\n",
       "    <tr>\n",
       "      <th>1</th>\n",
       "      <td>Weights_items_features_1</td>\n",
       "      <td>-0.006996</td>\n",
       "      <td>0.001554</td>\n",
       "      <td>-4.501966</td>\n",
       "      <td>6.675720e-06</td>\n",
       "    </tr>\n",
       "    <tr>\n",
       "      <th>2</th>\n",
       "      <td>Intercept_0</td>\n",
       "      <td>1.710970</td>\n",
       "      <td>0.226742</td>\n",
       "      <td>7.545891</td>\n",
       "      <td>0.000000e+00</td>\n",
       "    </tr>\n",
       "    <tr>\n",
       "      <th>3</th>\n",
       "      <td>Intercept_1</td>\n",
       "      <td>0.308264</td>\n",
       "      <td>0.206592</td>\n",
       "      <td>1.492139</td>\n",
       "      <td>1.356628e-01</td>\n",
       "    </tr>\n",
       "    <tr>\n",
       "      <th>4</th>\n",
       "      <td>Intercept_2</td>\n",
       "      <td>1.658846</td>\n",
       "      <td>0.448416</td>\n",
       "      <td>3.699350</td>\n",
       "      <td>2.161264e-04</td>\n",
       "    </tr>\n",
       "    <tr>\n",
       "      <th>5</th>\n",
       "      <td>Intercept_3</td>\n",
       "      <td>1.853437</td>\n",
       "      <td>0.361952</td>\n",
       "      <td>5.120669</td>\n",
       "      <td>3.576279e-07</td>\n",
       "    </tr>\n",
       "  </tbody>\n",
       "</table>\n",
       "</div>"
      ],
      "text/plain": [
       "           Coefficient Name  Coefficient Estimation  Std. Err   z_value  \\\n",
       "0  Weights_items_features_0               -0.001533  0.000621 -2.469419   \n",
       "1  Weights_items_features_1               -0.006996  0.001554 -4.501966   \n",
       "2               Intercept_0                1.710970  0.226742  7.545891   \n",
       "3               Intercept_1                0.308264  0.206592  1.492139   \n",
       "4               Intercept_2                1.658846  0.448416  3.699350   \n",
       "5               Intercept_3                1.853437  0.361952  5.120669   \n",
       "\n",
       "         P(.>z)  \n",
       "0  1.353323e-02  \n",
       "1  6.675720e-06  \n",
       "2  0.000000e+00  \n",
       "3  1.356628e-01  \n",
       "4  2.161264e-04  \n",
       "5  3.576279e-07  "
      ]
     },
     "execution_count": null,
     "metadata": {},
     "output_type": "execute_result"
    }
   ],
   "source": [
    "model.report"
   ]
  },
  {
   "cell_type": "code",
   "execution_count": null,
   "metadata": {},
   "outputs": [],
   "source": []
  }
 ],
 "metadata": {
  "kernelspec": {
   "display_name": "tf_env",
   "language": "python",
   "name": "python3"
  },
  "language_info": {
   "codemirror_mode": {
    "name": "ipython",
    "version": 3
   },
   "file_extension": ".py",
   "mimetype": "text/x-python",
   "name": "python",
   "nbconvert_exporter": "python",
   "pygments_lexer": "ipython3",
   "version": "3.11.4"
  }
 },
 "nbformat": 4,
 "nbformat_minor": 2
}
