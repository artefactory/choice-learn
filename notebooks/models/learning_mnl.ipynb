{
 "cells": [
  {
   "cell_type": "code",
   "execution_count": null,
   "metadata": {},
   "outputs": [],
   "source": [
    "import os\n",
    "\n",
    "os.environ[\"CUDA_VISIBLE_DEVICES\"] = \"\"\n",
    "\n",
    "import sys\n",
    "\n",
    "sys.path.append(\"../../\")\n",
    "\n",
    "import numpy as np\n",
    "import pandas as pd"
   ]
  },
  {
   "cell_type": "code",
   "execution_count": null,
   "metadata": {},
   "outputs": [],
   "source": [
    "from choice_learn.datasets import load_swissmetro\n",
    "from choice_learn.data import ChoiceDataset\n",
    "swiss_df = load_swissmetro(as_frame=True)\n",
    "swiss_df.head()"
   ]
  },
  {
   "cell_type": "code",
   "execution_count": null,
   "metadata": {},
   "outputs": [],
   "source": [
    "swiss_df = swiss_df.loc[swiss_df.CAR_AV == 1]\n",
    "swiss_df = swiss_df.loc[swiss_df.SM_AV == 1]\n",
    "swiss_df = swiss_df.loc[swiss_df.TRAIN_AV == 1]"
   ]
  },
  {
   "cell_type": "code",
   "execution_count": null,
   "metadata": {},
   "outputs": [],
   "source": [
    "# swiss_df = swiss_df.loc[swiss_df.PURPOSE.isin([1, 3])]\n",
    "\n",
    "# Normalizing values by 100\n",
    "swiss_df[[\"TRAIN_TT\", \"SM_TT\", \"CAR_TT\"]] = (\n",
    "    swiss_df[[\"TRAIN_TT\", \"SM_TT\", \"CAR_TT\"]] / 100.0\n",
    ")\n",
    "\n",
    "swiss_df[[\"TRAIN_HE\", \"SM_HE\"]] = (\n",
    "    swiss_df[[\"TRAIN_HE\", \"SM_HE\"]] / 100.0\n",
    ")\n",
    "\n",
    "swiss_df[\"train_free_ticket\"] = swiss_df.apply(\n",
    "    lambda row: (row[\"GA\"] == 1).astype(int), axis=1\n",
    ")\n",
    "swiss_df[\"sm_free_ticket\"] = swiss_df.apply(\n",
    "    lambda row: (row[\"GA\"] == 1).astype(int), axis=1\n",
    ")\n",
    "\n",
    "swiss_df[\"TRAIN_travel_cost\"] = swiss_df.apply(\n",
    "    lambda row: (row[\"TRAIN_CO\"] * (1 - row[\"train_free_ticket\"])) / 100, axis=1\n",
    ")\n",
    "swiss_df[\"SM_travel_cost\"] = swiss_df.apply(\n",
    "    lambda row: (row[\"SM_CO\"] * (1 - row[\"sm_free_ticket\"])) / 100, axis=1\n",
    ")\n",
    "swiss_df[\"CAR_travel_cost\"] = swiss_df.apply(lambda row: row[\"CAR_CO\"] / 100, axis=1)"
   ]
  },
  {
   "cell_type": "code",
   "execution_count": null,
   "metadata": {},
   "outputs": [],
   "source": [
    "swiss_df.columns"
   ]
  },
  {
   "cell_type": "code",
   "execution_count": null,
   "metadata": {},
   "outputs": [],
   "source": [
    "swiss_df.SM_SEATS = swiss_df.SM_SEATS.astype(\"float32\")"
   ]
  },
  {
   "cell_type": "code",
   "execution_count": null,
   "metadata": {},
   "outputs": [],
   "source": [
    "print(len(swiss_df))"
   ]
  },
  {
   "cell_type": "code",
   "execution_count": null,
   "metadata": {},
   "outputs": [],
   "source": [
    "dataset = ChoiceDataset.from_single_wide_df(df=swiss_df, choices_column=\"CHOICE\", items_id=[\"TRAIN\", \"SM\", \"CAR\"],\n",
    "shared_features_columns=[\"GA\", \"AGE\", \"SM_SEATS\", \"LUGGAGE\", \"SM_SEATS\", 'PURPOSE', 'FIRST', 'TICKET', 'WHO', 'MALE', 'INCOME', 'ORIGIN', 'DEST'],\n",
    "items_features_suffixes=[\"TT\", \"travel_cost\", \"HE\"], choice_format=\"items_index\")"
   ]
  },
  {
   "cell_type": "code",
   "execution_count": null,
   "metadata": {},
   "outputs": [],
   "source": [
    "print(len(dataset))"
   ]
  },
  {
   "cell_type": "code",
   "execution_count": null,
   "metadata": {},
   "outputs": [],
   "source": [
    "from choice_learn.models import ConditionalLogit\n",
    "\n",
    "model = ConditionalLogit()\n",
    "model.add_shared_coefficient(feature_name=\"TT\", items_indexes=[0, 1, 2])\n",
    "model.add_shared_coefficient(feature_name=\"travel_cost\", items_indexes=[0, 1, 2])\n",
    "model.add_shared_coefficient(feature_name=\"HE\", items_indexes=[0, 1])\n",
    "model.add_shared_coefficient(feature_name=\"GA\", items_indexes=[0, 1])\n",
    "model.add_shared_coefficient(feature_name=\"AGE\", items_indexes=[0])\n",
    "model.add_shared_coefficient(feature_name=\"LUGGAGE\", items_indexes=[2])\n",
    "model.add_shared_coefficient(feature_name=\"SM_SEATS\", items_indexes=[1])\n",
    "model.add_coefficients(feature_name=\"intercept\", items_indexes=[1, 2])\n",
    "\n",
    "model.fit(dataset[:7234])"
   ]
  },
  {
   "cell_type": "code",
   "execution_count": null,
   "metadata": {},
   "outputs": [],
   "source": [
    "model.trainable_weights"
   ]
  },
  {
   "cell_type": "code",
   "execution_count": null,
   "metadata": {},
   "outputs": [],
   "source": [
    "model.evaluate(dataset)"
   ]
  },
  {
   "cell_type": "code",
   "execution_count": null,
   "metadata": {},
   "outputs": [],
   "source": [
    "indexes = np.random.permutation(len(dataset))\n",
    "train = indexes[:7234]\n",
    "test = indexes[7234:]"
   ]
  },
  {
   "cell_type": "code",
   "execution_count": null,
   "metadata": {},
   "outputs": [],
   "source": [
    "from choice_learn.models.learning_mnl import LearningMNL\n",
    "\n",
    "swiss_model = LearningMNL(optimizer=\"Adam\",\n",
    "nn_features=['PURPOSE', 'FIRST', 'TICKET', 'WHO', 'MALE', 'INCOME', 'ORIGIN', 'DEST'], nn_layers_widths=[100], epochs=500, batch_size=32)\n",
    "swiss_model.add_shared_coefficient(feature_name=\"TT\", items_indexes=[0, 1, 2])\n",
    "swiss_model.add_shared_coefficient(feature_name=\"travel_cost\", items_indexes=[0, 1, 2])\n",
    "swiss_model.add_shared_coefficient(feature_name=\"HE\", items_indexes=[0, 1])\n",
    "swiss_model.add_shared_coefficient(feature_name=\"GA\", items_indexes=[0, 1])\n",
    "swiss_model.add_shared_coefficient(feature_name=\"AGE\", items_indexes=[0])\n",
    "swiss_model.add_shared_coefficient(feature_name=\"LUGGAGE\", items_indexes=[2])\n",
    "swiss_model.add_shared_coefficient(feature_name=\"SM_SEATS\", items_indexes=[1])\n",
    "swiss_model.add_coefficients(feature_name=\"intercept\", items_indexes=[1, 2])\n",
    "\n",
    "hist = swiss_model.fit(dataset[train], val_dataset=dataset[test], verbose=1)"
   ]
  },
  {
   "cell_type": "code",
   "execution_count": null,
   "metadata": {},
   "outputs": [],
   "source": [
    "import matplotlib.pyplot as plt\n",
    "plt.plot(hist[\"train_loss\"])\n",
    "plt.plot(hist[\"test_loss\"])"
   ]
  },
  {
   "cell_type": "code",
   "execution_count": null,
   "metadata": {},
   "outputs": [],
   "source": [
    " swiss_model.evaluate(dataset[:7234], batch_size=32) * 7234"
   ]
  },
  {
   "cell_type": "code",
   "execution_count": null,
   "metadata": {},
   "outputs": [],
   "source": [
    "swiss_model.evaluate(dataset[7234:], batch_size=32) *1802"
   ]
  },
  {
   "cell_type": "code",
   "execution_count": null,
   "metadata": {},
   "outputs": [],
   "source": [
    "swiss_model.trainable_weights"
   ]
  },
  {
   "cell_type": "code",
   "execution_count": null,
   "metadata": {},
   "outputs": [],
   "source": [
    "len(dataset)"
   ]
  },
  {
   "cell_type": "code",
   "execution_count": null,
   "metadata": {},
   "outputs": [],
   "source": [
    "swiss_model.nn_model.summary()"
   ]
  },
  {
   "cell_type": "code",
   "execution_count": null,
   "metadata": {},
   "outputs": [],
   "source": []
  }
 ],
 "metadata": {
  "kernelspec": {
   "display_name": "choice_learn",
   "language": "python",
   "name": "python3"
  },
  "language_info": {
   "codemirror_mode": {
    "name": "ipython",
    "version": 3
   },
   "file_extension": ".py",
   "mimetype": "text/x-python",
   "name": "python",
   "nbconvert_exporter": "python",
   "pygments_lexer": "ipython3",
   "version": "3.8.18"
  }
 },
 "nbformat": 4,
 "nbformat_minor": 2
}
