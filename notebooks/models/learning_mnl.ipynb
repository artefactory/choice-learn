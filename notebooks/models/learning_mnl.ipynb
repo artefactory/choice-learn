{
 "cells": [
  {
   "cell_type": "markdown",
   "metadata": {},
   "source": [
    "# The Learning-MNL model\n",
    "\n",
    "In this notebook we use choice-learn implementation of the L-MNL model (from the paper Enhance Discrete Choice Models with Representation Learning) to obtain the same results as presented by the authors."
   ]
  },
  {
   "cell_type": "code",
   "execution_count": null,
   "metadata": {},
   "outputs": [],
   "source": [
    "import os\n",
    "\n",
    "os.environ[\"CUDA_VISIBLE_DEVICES\"] = \"\"\n",
    "\n",
    "import sys\n",
    "\n",
    "sys.path.append(\"../../\")\n",
    "\n",
    "import numpy as np\n",
    "import pandas as pd"
   ]
  },
  {
   "cell_type": "code",
   "execution_count": null,
   "metadata": {},
   "outputs": [],
   "source": [
    "from choice_learn.datasets import load_swissmetro\n",
    "from choice_learn.data import ChoiceDataset"
   ]
  },
  {
   "cell_type": "code",
   "execution_count": null,
   "metadata": {},
   "outputs": [],
   "source": [
    "test_df = pd.read_csv(\"https://raw.githubusercontent.com/BSifringer/EnhancedDCM/refs/heads/master/ready_example/swissmetro_paper/swissmetro_test.dat\", sep=\"\\t\")\n",
    "train_df = pd.read_csv(\"https://raw.githubusercontent.com/BSifringer/EnhancedDCM/refs/heads/master/ready_example/swissmetro_paper/swissmetro_train.dat\", sep=\"\\t\")"
   ]
  },
  {
   "cell_type": "code",
   "execution_count": null,
   "metadata": {},
   "outputs": [],
   "source": [
    "test_df.head()"
   ]
  },
  {
   "cell_type": "code",
   "execution_count": null,
   "metadata": {},
   "outputs": [],
   "source": [
    "train_df.head()"
   ]
  },
  {
   "cell_type": "code",
   "execution_count": null,
   "metadata": {},
   "outputs": [],
   "source": [
    "# Preprocessing the dataset\n",
    "\n",
    "test_df = test_df.loc[test_df.CAR_AV == 1]\n",
    "test_df = test_df.loc[test_df.SM_AV == 1]\n",
    "test_df = test_df.loc[test_df.TRAIN_AV == 1]\n",
    "\n",
    "train_df = train_df.loc[train_df.CAR_AV == 1]\n",
    "train_df = train_df.loc[train_df.SM_AV == 1]\n",
    "train_df = train_df.loc[train_df.TRAIN_AV == 1]"
   ]
  },
  {
   "cell_type": "code",
   "execution_count": null,
   "metadata": {},
   "outputs": [],
   "source": [
    "# Normalizing values by 100\n",
    "train_df[[\"TRAIN_TT\", \"SM_TT\", \"CAR_TT\"]] = (\n",
    "    train_df[[\"TRAIN_TT\", \"SM_TT\", \"CAR_TT\"]] / 100.0\n",
    ")\n",
    "\n",
    "train_df[[\"TRAIN_HE\", \"SM_HE\"]] = (\n",
    "    train_df[[\"TRAIN_HE\", \"SM_HE\"]] / 100.0\n",
    ")\n",
    "\n",
    "train_df[\"train_free_ticket\"] = train_df.apply(\n",
    "    lambda row: (row[\"GA\"] == 1).astype(int), axis=1\n",
    ")\n",
    "train_df[\"sm_free_ticket\"] = train_df.apply(\n",
    "    lambda row: (row[\"GA\"] == 1).astype(int), axis=1\n",
    ")\n",
    "\n",
    "train_df[\"TRAIN_travel_cost\"] = train_df.apply(\n",
    "    lambda row: (row[\"TRAIN_CO\"] * (1 - row[\"train_free_ticket\"])) / 100, axis=1\n",
    ")\n",
    "train_df[\"SM_travel_cost\"] = train_df.apply(\n",
    "    lambda row: (row[\"SM_CO\"] * (1 - row[\"sm_free_ticket\"])) / 100, axis=1\n",
    ")\n",
    "train_df[\"CAR_travel_cost\"] = train_df.apply(lambda row: row[\"CAR_CO\"] / 100, axis=1)\n",
    "\n",
    "\n",
    "# Normalizing values by 100\n",
    "test_df[[\"TRAIN_TT\", \"SM_TT\", \"CAR_TT\"]] = (\n",
    "    test_df[[\"TRAIN_TT\", \"SM_TT\", \"CAR_TT\"]] / 100.0\n",
    ")\n",
    "\n",
    "test_df[[\"TRAIN_HE\", \"SM_HE\"]] = (\n",
    "    test_df[[\"TRAIN_HE\", \"SM_HE\"]] / 100.0\n",
    ")\n",
    "\n",
    "test_df[\"train_free_ticket\"] = test_df.apply(\n",
    "    lambda row: (row[\"GA\"] == 1).astype(int), axis=1\n",
    ")\n",
    "test_df[\"sm_free_ticket\"] = test_df.apply(\n",
    "    lambda row: (row[\"GA\"] == 1).astype(int), axis=1\n",
    ")\n",
    "\n",
    "test_df[\"TRAIN_travel_cost\"] = test_df.apply(\n",
    "    lambda row: (row[\"TRAIN_CO\"] * (1 - row[\"train_free_ticket\"])) / 100, axis=1\n",
    ")\n",
    "test_df[\"SM_travel_cost\"] = test_df.apply(\n",
    "    lambda row: (row[\"SM_CO\"] * (1 - row[\"sm_free_ticket\"])) / 100, axis=1\n",
    ")\n",
    "test_df[\"CAR_travel_cost\"] = test_df.apply(lambda row: row[\"CAR_CO\"] / 100, axis=1)\n",
    "\n"
   ]
  },
  {
   "cell_type": "code",
   "execution_count": null,
   "metadata": {},
   "outputs": [],
   "source": [
    "swiss_df.SM_SEATS = swiss_df.SM_SEATS.astype(\"float32\")\n",
    "train_df.SM_SEATS = train_df.SM_SEATS.astype(\"float32\")\n",
    "test_df.SM_SEATS = test_df.SM_SEATS.astype(\"float32\")\n",
    "\n",
    "train_df.CHOICE = train_df.CHOICE - 1\n",
    "test_df.CHOICE = test_df.CHOICE - 1"
   ]
  },
  {
   "cell_type": "code",
   "execution_count": null,
   "metadata": {},
   "outputs": [],
   "source": [
    "dataset = ChoiceDataset.from_single_wide_df(df=swiss_df, choices_column=\"CHOICE\", items_id=[\"TRAIN\", \"SM\", \"CAR\"],\n",
    "shared_features_columns=[\"GA\", \"AGE\", \"SM_SEATS\", \"LUGGAGE\", \"SM_SEATS\", 'PURPOSE', 'FIRST', 'TICKET', 'WHO', 'MALE', 'INCOME', 'ORIGIN', 'DEST'],\n",
    "items_features_suffixes=[\"TT\", \"travel_cost\", \"HE\"], choice_format=\"items_index\")\n",
    "\n",
    "train_dataset = ChoiceDataset.from_single_wide_df(df=train_df, choices_column=\"CHOICE\", items_id=[\"TRAIN\", \"SM\", \"CAR\"],\n",
    "shared_features_columns=[\"GA\", \"AGE\", \"SM_SEATS\", \"LUGGAGE\", \"SM_SEATS\", 'PURPOSE', 'FIRST', 'TICKET', 'WHO', 'MALE', 'INCOME', 'ORIGIN', 'DEST'],\n",
    "items_features_suffixes=[\"TT\", \"travel_cost\", \"HE\"], choice_format=\"items_index\")\n",
    "\n",
    "test_dataset = ChoiceDataset.from_single_wide_df(df=test_df, choices_column=\"CHOICE\", items_id=[\"TRAIN\", \"SM\", \"CAR\"],\n",
    "shared_features_columns=[\"GA\", \"AGE\", \"SM_SEATS\", \"LUGGAGE\", \"SM_SEATS\", 'PURPOSE', 'FIRST', 'TICKET', 'WHO', 'MALE', 'INCOME', 'ORIGIN', 'DEST'],\n",
    "items_features_suffixes=[\"TT\", \"travel_cost\", \"HE\"], choice_format=\"items_index\")"
   ]
  },
  {
   "cell_type": "code",
   "execution_count": null,
   "metadata": {},
   "outputs": [],
   "source": [
    "print(len(train_dataset), len(test_dataset))"
   ]
  },
  {
   "cell_type": "code",
   "execution_count": null,
   "metadata": {},
   "outputs": [],
   "source": [
    "from choice_learn.models import ConditionalLogit\n",
    "\n",
    "clogit = ConditionalLogit()\n",
    "clogit.add_shared_coefficient(feature_name=\"TT\", coefficient_name=\"beta_time\",  items_indexes=[0, 1, 2])\n",
    "clogit.add_shared_coefficient(feature_name=\"travel_cost\", coefficient_name=\"beta_cost\", items_indexes=[0, 1, 2])\n",
    "clogit.add_shared_coefficient(feature_name=\"HE\",  coefficient_name=\"beta_freq\",items_indexes=[0, 1])\n",
    "clogit.add_shared_coefficient(feature_name=\"GA\",  coefficient_name=\"beta_GA\",items_indexes=[0, 1])\n",
    "clogit.add_shared_coefficient(feature_name=\"AGE\", coefficient_name=\"beta_age\", items_indexes=[0])\n",
    "clogit.add_shared_coefficient(feature_name=\"LUGGAGE\", coefficient_name=\"beta_luggage\", items_indexes=[2])\n",
    "clogit.add_shared_coefficient(feature_name=\"SM_SEATS\", coefficient_name=\"beta_seats\", items_indexes=[1])\n",
    "clogit.add_coefficients(feature_name=\"intercept\", items_indexes=[1, 2])\n",
    "\n",
    "clogit.fit(train_dataset)"
   ]
  },
  {
   "cell_type": "code",
   "execution_count": null,
   "metadata": {
    "keep_output": true
   },
   "outputs": [
    {
     "data": {
      "text/plain": [
       "[<tf.Variable 'beta_time:0' shape=(1, 1) dtype=float32, numpy=array([[-1.2917504]], dtype=float32)>,\n",
       " <tf.Variable 'beta_cost:0' shape=(1, 1) dtype=float32, numpy=array([[-0.69039553]], dtype=float32)>,\n",
       " <tf.Variable 'beta_freq:0' shape=(1, 1) dtype=float32, numpy=array([[-0.7038978]], dtype=float32)>,\n",
       " <tf.Variable 'beta_GA:0' shape=(1, 1) dtype=float32, numpy=array([[1.5400317]], dtype=float32)>,\n",
       " <tf.Variable 'beta_age:0' shape=(1, 1) dtype=float32, numpy=array([[0.17458557]], dtype=float32)>,\n",
       " <tf.Variable 'beta_luggage:0' shape=(1, 1) dtype=float32, numpy=array([[-0.11316068]], dtype=float32)>,\n",
       " <tf.Variable 'beta_seats:0' shape=(1, 1) dtype=float32, numpy=array([[0.21595138]], dtype=float32)>,\n",
       " <tf.Variable 'beta_intercept:0' shape=(1, 2) dtype=float32, numpy=array([[1.1861055, 1.203332 ]], dtype=float32)>]"
      ]
     },
     "execution_count": null,
     "metadata": {},
     "output_type": "execute_result"
    }
   ],
   "source": [
    "clogit.trainable_weights"
   ]
  },
  {
   "cell_type": "code",
   "execution_count": null,
   "metadata": {
    "keep_output": true
   },
   "outputs": [
    {
     "data": {
      "text/plain": [
       "(<tf.Tensor: shape=(), dtype=float32, numpy=5766.751>,\n",
       " <tf.Tensor: shape=(), dtype=float32, numpy=1433.0833>)"
      ]
     },
     "execution_count": null,
     "metadata": {},
     "output_type": "execute_result"
    }
   ],
   "source": [
    "clogit.evaluate(train_dataset) * len(train_dataset), clogit.evaluate(test_dataset) * len(test_dataset)"
   ]
  },
  {
   "cell_type": "code",
   "execution_count": null,
   "metadata": {},
   "outputs": [],
   "source": [
    "from choice_learn.models.learning_mnl import LearningMNL\n",
    "\n",
    "swiss_model = LearningMNL(optimizer=\"Adam\", lr=0.005,\n",
    "nn_features=['PURPOSE', 'FIRST', 'TICKET', 'WHO', 'MALE', 'INCOME', 'ORIGIN', 'DEST'], nn_layers_widths=[200], epochs=200, batch_size=32)\n",
    "swiss_model.add_shared_coefficient(feature_name=\"TT\", items_indexes=[0, 1, 2])\n",
    "swiss_model.add_shared_coefficient(feature_name=\"travel_cost\", items_indexes=[0, 1, 2])\n",
    "swiss_model.add_shared_coefficient(feature_name=\"HE\", items_indexes=[0, 1])\n",
    "swiss_model.add_shared_coefficient(feature_name=\"GA\", items_indexes=[0, 1])\n",
    "swiss_model.add_shared_coefficient(feature_name=\"AGE\", items_indexes=[0])\n",
    "swiss_model.add_shared_coefficient(feature_name=\"LUGGAGE\", items_indexes=[2])\n",
    "swiss_model.add_shared_coefficient(feature_name=\"SM_SEATS\", items_indexes=[1])\n",
    "swiss_model.add_coefficients(feature_name=\"intercept\", items_indexes=[1, 2])\n",
    "\n",
    "hist = swiss_model.fit(train_dataset, val_dataset=test_dataset, verbose=1)"
   ]
  },
  {
   "cell_type": "code",
   "execution_count": null,
   "metadata": {},
   "outputs": [],
   "source": [
    "swiss_model.assign_lr(0.001)\n",
    "hist2 = swiss_model.fit(train_dataset, val_dataset=test_dataset, verbose=1)"
   ]
  },
  {
   "cell_type": "code",
   "execution_count": null,
   "metadata": {
    "keep_output": true
   },
   "outputs": [
    {
     "data": {
      "text/plain": [
       "<tf.Tensor: shape=(), dtype=float32, numpy=4485.126>"
      ]
     },
     "execution_count": null,
     "metadata": {},
     "output_type": "execute_result"
    }
   ],
   "source": [
    " swiss_model.evaluate(train_dataset, batch_size=32) * 7234"
   ]
  },
  {
   "cell_type": "code",
   "execution_count": null,
   "metadata": {
    "keep_output": true
   },
   "outputs": [
    {
     "data": {
      "text/plain": [
       "<tf.Tensor: shape=(), dtype=float32, numpy=1165.2987>"
      ]
     },
     "execution_count": null,
     "metadata": {},
     "output_type": "execute_result"
    }
   ],
   "source": [
    "swiss_model.evaluate(test_dataset, batch_size=32) * 1802"
   ]
  },
  {
   "cell_type": "code",
   "execution_count": null,
   "metadata": {
    "keep_output": true
   },
   "outputs": [
    {
     "data": {
      "text/plain": [
       "[<tf.Variable 'beta_TT:0' shape=(1, 1) dtype=float32, numpy=array([[-1.6142633]], dtype=float32)>,\n",
       " <tf.Variable 'beta_travel_cost:0' shape=(1, 1) dtype=float32, numpy=array([[-1.536603]], dtype=float32)>,\n",
       " <tf.Variable 'beta_HE:0' shape=(1, 1) dtype=float32, numpy=array([[-0.9000557]], dtype=float32)>,\n",
       " <tf.Variable 'beta_GA:0' shape=(1, 1) dtype=float32, numpy=array([[0.7521398]], dtype=float32)>,\n",
       " <tf.Variable 'beta_AGE:0' shape=(1, 1) dtype=float32, numpy=array([[0.37502143]], dtype=float32)>,\n",
       " <tf.Variable 'beta_LUGGAGE:0' shape=(1, 1) dtype=float32, numpy=array([[0.17362104]], dtype=float32)>,\n",
       " <tf.Variable 'beta_SM_SEATS:0' shape=(1, 1) dtype=float32, numpy=array([[0.01463094]], dtype=float32)>,\n",
       " <tf.Variable 'beta_intercept:0' shape=(1, 2) dtype=float32, numpy=array([[0.38485298, 0.13572218]], dtype=float32)>]"
      ]
     },
     "execution_count": null,
     "metadata": {},
     "output_type": "execute_result"
    }
   ],
   "source": [
    "# Estimated parameters:\n",
    "swiss_model.trainable_weights[:8]"
   ]
  },
  {
   "cell_type": "markdown",
   "metadata": {},
   "source": [
    "Results are very similar to the one presented in the paper (see Table 7)."
   ]
  },
  {
   "cell_type": "code",
   "execution_count": null,
   "metadata": {},
   "outputs": [],
   "source": []
  }
 ],
 "metadata": {
  "kernelspec": {
   "display_name": "choice_learn",
   "language": "python",
   "name": "python3"
  },
  "language_info": {
   "codemirror_mode": {
    "name": "ipython",
    "version": 3
   },
   "file_extension": ".py",
   "mimetype": "text/x-python",
   "name": "python",
   "nbconvert_exporter": "python",
   "pygments_lexer": "ipython3",
   "version": "3.8.18"
  }
 },
 "nbformat": 4,
 "nbformat_minor": 2
}
