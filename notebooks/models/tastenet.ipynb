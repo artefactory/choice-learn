{
 "cells": [
  {
   "cell_type": "markdown",
   "metadata": {},
   "source": [
    "# TasteNet\n",
    "The TasteNet model, developped in [1] is available in Choice-Learn. Here is a small example on how it can be used.\\\n",
    "Following the paper, we will use it on the SwissMetro [2] dataset.\n",
    "\n",
    "### Summary\n",
    "- [Data Loading](#data-loading)\n",
    "- [Model Parametrization](#model-parametrization)\n",
    "- [Model Estimation](#model-estimation)\n",
    "- [Estimated Tastes Analysis](#estimated-tastes-analysis)\n",
    "- [References](#references)"
   ]
  },
  {
   "cell_type": "code",
   "execution_count": null,
   "metadata": {},
   "outputs": [],
   "source": [
    "import os\n",
    "\n",
    "os.environ[\"CUDA_VISIBLE_DEVICES\"] = \"\"\n",
    "import sys\n",
    "sys.path.append(\"../../\")\n",
    "\n",
    "import numpy as np\n",
    "import pandas as pd\n",
    "\n",
    "from choice_learn.datasets import load_swissmetro\n",
    "from choice_learn.models.tastenet import TasteNet"
   ]
  },
  {
   "cell_type": "markdown",
   "metadata": {},
   "source": [
    "### Data Loading"
   ]
  },
  {
   "cell_type": "code",
   "execution_count": null,
   "metadata": {},
   "outputs": [],
   "source": [
    "# The preprocessing=\"tastenet\" let us format the data just like in the paper\n",
    "customers_id, dataset = load_swissmetro(preprocessing=\"tastenet\", as_frame=False)"
   ]
  },
  {
   "cell_type": "markdown",
   "metadata": {},
   "source": [
    "We retrieved the SwissMetro dataset in the right format, let' look at it:"
   ]
  },
  {
   "cell_type": "code",
   "execution_count": null,
   "metadata": {},
   "outputs": [],
   "source": [
    "print(\"Items Features:\", dataset.items_features_by_choice_names)\n",
    "print(\"Shared Features:\", dataset.shared_features_by_choice_names)"
   ]
  },
  {
   "cell_type": "markdown",
   "metadata": {},
   "source": [
    "### Model Parametrization\n",
    "\n",
    "The dataset items are order: \"TRAIN\", \"SM\" and \"CAR\". We can now set up TasteNet model' hyperparameters.\n",
    "- **taste_net_layers:** list of neurons number for each layer in the taste neural network\n",
    "- **taste_net_activation:** activation function to be used within the taste neural network\n",
    "- **items_features_by_choice_parametrization:** parametrization of the estimated coefficients for the Items Features.\n",
    "\n",
    "TasteNet uses the customer features (shared_features_by_choice) to estimate different coefficient to be mutliplied with alternative features (items_features_by_choice) to estimate the utility:\n",
    "$$ U(alternative) = \\sum_{i \\in alternative features} f(NN_i(customer features)) \\cdot i$$\n",
    "\n",
    "With $f$ a normalizing function that can be used to set up some constraints such as positivity.\n",
    "\n",
    "**items_features_by_choice_parametrization** describes the paramtrization of each alternative features and thus needs to have the same shape, (3, 7) in our case. The indexes also need to match.\n",
    "- if the parameter is a float the value is directly used to multiply the corresponding feature.\n",
    "- if the parameter is a string it indicates that which function $f$ to use meaning that we will use the taste neural network to estimate a parameter before using $f$."
   ]
  },
  {
   "cell_type": "code",
   "execution_count": null,
   "metadata": {},
   "outputs": [],
   "source": [
    "taste_net_layers = []\n",
    "taste_net_activation = \"relu\"\n",
    "items_features_by_choice_parametrization = [[-1., \"-exp\", \"-exp\", 0., \"linear\", 0., 0.],\n",
    "                            [-1., \"-exp\", \"-exp\", \"linear\", 0., \"linear\", 0.],\n",
    "                            [-1., \"-exp\", 0., 0., 0., 0., 0.]]"
   ]
  },
  {
   "cell_type": "markdown",
   "metadata": {},
   "source": [
    "In this example from the paper, the utilities defined by *items_features_by_choice_parametrization* are the following:\n",
    "\n",
    "With $\\mathcal{C}$ the customer features and $NN_k$ the output of the taste embedding neural network:\n",
    "$$\n",
    "U(train) = -1 \\cdot train_{CO} - e^{-NN_1(\\mathcal{C})} \\cdot train_{TT} - e^{-NN_2(\\mathcal{C})} \\cdot train_{HE} + NN_3(\\mathcal{C}) \\cdot ASC_{train}\n",
    "$$\n",
    "$$\n",
    "U(sm) = -1 \\cdot sm_{CO} - e^{-NN_4(\\mathcal{C})} \\cdot sm_{TT} - e^{-NN_5(\\mathcal{C})} \\cdot sm_{HE} + NN_6(\\mathcal{C}) \\cdot sm_{SEATS} + NN_7(\\mathcal{C}) \\cdot ASC_{sm}\n",
    "$$\n",
    "$$\n",
    "U(car) = -1 \\cdot car_{CO} - e^{-NN_8(\\mathcal{C})} \\cdot car_{TT} \n",
    "$$\n",
    "\n",
    "In order to evaluate the model we work with a Cross-Validation scheme. We need to pay attention that the split take into account the fact that the same person has answered several times and appears several time in the dataset. We work with a GroupOut strategy meaning that one person has all his answers in the same testing fold."
   ]
  },
  {
   "cell_type": "markdown",
   "metadata": {},
   "source": [
    "### Model Estimation"
   ]
  },
  {
   "cell_type": "code",
   "execution_count": null,
   "metadata": {},
   "outputs": [],
   "source": [
    "from sklearn.model_selection import GroupKFold\n",
    "\n",
    "folds_history = []\n",
    "folds_test_nll = []\n",
    "gkf = GroupKFold(n_splits=5)\n",
    "# specift customer_id to regroup each customer answer\n",
    "for train, test in gkf.split(list(range(len(dataset))), list(range(len(dataset))), customers_id): \n",
    "    tastenet = TasteNet(taste_net_layers=taste_net_layers,\n",
    "                    taste_net_activation=taste_net_activation,\n",
    "                    items_features_by_choice_parametrization=items_features_by_choice_parametrization,\n",
    "                    optimizer=\"Adam\",\n",
    "                    epochs=40,\n",
    "                    lr=0.001,\n",
    "                    batch_size=32)\n",
    "    train_dataset, test_dataset = dataset[train], dataset[test]\n",
    "    hist = tastenet.fit(train_dataset, val_dataset=test_dataset)\n",
    "    folds_history.append(hist)\n",
    "    folds_test_nll.append(tastenet.evaluate(test_dataset))"
   ]
  },
  {
   "cell_type": "markdown",
   "metadata": {},
   "source": [
    "We need to pay attention to overfitting, here is a plot to understand each fold train/test over the fitting epochs:"
   ]
  },
  {
   "cell_type": "code",
   "execution_count": null,
   "metadata": {},
   "outputs": [],
   "source": [
    "import matplotlib.pyplot as plt\n",
    "for hist, color in zip(folds_history,\n",
    "                       [\"darkblue\", \"slateblue\", \"mediumpurple\", \"violet\", \"hotpink\"]):\n",
    "    plt.plot(hist[\"train_loss\"], c=color)\n",
    "    plt.plot(hist[\"test_loss\"], c=color, linestyle=\"dotted\")\n",
    "plt.legend()\n",
    "plt.show()"
   ]
  },
  {
   "cell_type": "code",
   "execution_count": null,
   "metadata": {},
   "outputs": [],
   "source": [
    "print(\"Average NegativeLogLikelihood on testing set:\", np.mean(folds_test_nll))"
   ]
  },
  {
   "cell_type": "markdown",
   "metadata": {},
   "source": [
    "### Estimated Tastes Analysis\n",
    "\n",
    "In order to analyze the model, one can look at the average output of the taste network.\n",
    "It is possible to reach the taste network with *tastenet.taste_params_module* or to call *tastenet.predict_tastes*."
   ]
  },
  {
   "cell_type": "code",
   "execution_count": null,
   "metadata": {},
   "outputs": [],
   "source": [
    "for (item_index, feature_index), nn_output_index in tastenet.items_features_to_weight_index.items():\n",
    "    print(\"Alternative:\", [\"train\", \"sm\", \"car\"][item_index])\n",
    "    print(\"Feature:\", dataset.items_features_by_choice_names[0][feature_index])\n",
    "    print(\"Average value over dataset:\")\n",
    "    act = tastenet.get_activation_function(items_features_by_choice_parametrization[item_index][feature_index])\n",
    "    print(np.mean(act(tastenet.predict_tastes(dataset.shared_features_by_choice[0])[:, nn_output_index])))\n",
    "    print(\"----------------------------\\n\")"
   ]
  },
  {
   "cell_type": "markdown",
   "metadata": {},
   "source": [
    "### References\n",
    "[1] [A Neural-embedded Discrete Choice Model: Learning Taste Representation with Strengthened Interpretability](https://arxiv.org/abs/2002.00922), Han, Y.; Calara Oereuran F.; Ben-Akiva, M.; Zegras, C. (2020)\\\n",
    "[2][The Acceptance of Model Innovation: The Case of Swissmetro](https://www.researchgate.net/publication/37456549_The_acceptance_of_modal_innovation_The_case_of_Swissmetro), Bierlaire, M.; Axhausen, K., W.; Abay, G. (2001)\\"
   ]
  },
  {
   "cell_type": "code",
   "execution_count": null,
   "metadata": {},
   "outputs": [],
   "source": []
  }
 ],
 "metadata": {
  "kernelspec": {
   "display_name": "tf_env",
   "language": "python",
   "name": "python3"
  },
  "language_info": {
   "codemirror_mode": {
    "name": "ipython",
    "version": 3
   },
   "file_extension": ".py",
   "mimetype": "text/x-python",
   "name": "python",
   "nbconvert_exporter": "python",
   "pygments_lexer": "ipython3",
   "version": "3.11.4"
  }
 },
 "nbformat": 4,
 "nbformat_minor": 2
}
