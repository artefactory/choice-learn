{
 "cells": [
  {
   "cell_type": "markdown",
   "metadata": {},
   "source": [
    "# Example of use of Latent Class MNL"
   ]
  },
  {
   "cell_type": "code",
   "execution_count": null,
   "metadata": {},
   "outputs": [],
   "source": [
    "import os\n",
    "\n",
    "os.environ[\"CUDA_VISIBLE_DEVICES\"] = \"\"\n",
    "\n",
    "import sys\n",
    "from pathlib import Path\n",
    "\n",
    "sys.path.append(\"../../\")\n",
    "\n",
    "import numpy as np\n",
    "import pandas as pd\n",
    "\n",
    "import tensorflow as tf"
   ]
  },
  {
   "cell_type": "markdown",
   "metadata": {},
   "source": [
    "Let's use the Electricity Dataset used in this [tutorial](https://rpubs.com/msarrias1986/335556)."
   ]
  },
  {
   "cell_type": "code",
   "execution_count": null,
   "metadata": {},
   "outputs": [],
   "source": [
    "from choice_learn.datasets import load_electricity\n",
    "\n",
    "elec_dataset = load_electricity(as_frame=False)"
   ]
  },
  {
   "cell_type": "code",
   "execution_count": null,
   "metadata": {},
   "outputs": [],
   "source": [
    "from choice_learn.models.simple_mnl import SimpleMNL\n",
    "from choice_learn.models.latent_class_mnl import LatentClassSimpleMNL"
   ]
  },
  {
   "cell_type": "code",
   "execution_count": null,
   "metadata": {},
   "outputs": [],
   "source": [
    "lc_model = LatentClassSimpleMNL(n_latent_classes=3, fit_method=\"mle\", optimizer=\"lbfgs\", epochs=1000, tolerance=1e-10)\n",
    "hist = lc_model.fit(elec_dataset, verbose=1)"
   ]
  },
  {
   "cell_type": "code",
   "execution_count": null,
   "metadata": {},
   "outputs": [],
   "source": [
    "print(\"Latent Class Model weights:\")\n",
    "print(\"Classes Logits:\", lc_model.latent_logits)\n",
    "for i in range(3):\n",
    "    print(\"\\n\")\n",
    "    print(f\"Model Nb {i}, weights:\", lc_model.models[i].weights)"
   ]
  },
  {
   "cell_type": "code",
   "execution_count": null,
   "metadata": {},
   "outputs": [],
   "source": [
    "print(\"Negative Log-Likelihood:\")\n",
    "lc_model.evaluate(elec_dataset) * len(elec_dataset)"
   ]
  },
  {
   "cell_type": "markdown",
   "metadata": {},
   "source": [
    "## Latent Conditional Logit\n",
    "We used a very simple MNL. Here we simulate the same MNL, by using the Conditional-Logit formulation.\\\n",
    "Don't hesitate to read the conditional-MNL tutorial to better understand how to use this formulation."
   ]
  },
  {
   "cell_type": "code",
   "execution_count": null,
   "metadata": {},
   "outputs": [],
   "source": [
    "from choice_learn.models.latent_class_mnl import LatentClassConditionalLogit"
   ]
  },
  {
   "cell_type": "code",
   "execution_count": null,
   "metadata": {},
   "outputs": [],
   "source": [
    "lc_model_2 = LatentClassConditionalLogit(n_latent_classes=3,\n",
    "                                       fit_method=\"mle\",\n",
    "                                       optimizer=\"lbfgs\",\n",
    "                                       epochs=1000,\n",
    "                                       tolerance=1e-12)"
   ]
  },
  {
   "cell_type": "markdown",
   "metadata": {},
   "source": [
    "For each feature, let's add a coefficient that is shared by all items:"
   ]
  },
  {
   "cell_type": "code",
   "execution_count": null,
   "metadata": {},
   "outputs": [],
   "source": [
    "lc_model_2.add_shared_coefficient(coefficient_name=\"pf\",\n",
    "                                  feature_name=\"pf\",\n",
    "                                  items_indexes=[0, 1, 2, 3])\n",
    "lc_model_2.add_shared_coefficient(coefficient_name=\"cl\",\n",
    "                                  feature_name=\"cl\",\n",
    "                                    items_indexes=[0, 1, 2, 3])\n",
    "lc_model_2.add_shared_coefficient(coefficient_name=\"loc\",\n",
    "                                  feature_name=\"loc\",\n",
    "                                  items_indexes=[0, 1, 2, 3])\n",
    "lc_model_2.add_shared_coefficient(coefficient_name=\"wk\",\n",
    "                                feature_name=\"wk\",\n",
    "                                items_indexes=[0, 1, 2, 3])\n",
    "lc_model_2.add_shared_coefficient(coefficient_name=\"tod\",\n",
    "                                  feature_name=\"tod\",\n",
    "                                  items_indexes=[0, 1, 2, 3])\n",
    "lc_model_2.add_shared_coefficient(coefficient_name=\"seas\",\n",
    "                                  feature_name=\"seas\",\n",
    "                                  items_indexes=[0, 1, 2, 3])"
   ]
  },
  {
   "cell_type": "code",
   "execution_count": null,
   "metadata": {},
   "outputs": [],
   "source": [
    "# Fit\n",
    "hist2 = lc_model_2.fit(elec_dataset, verbose=1)"
   ]
  },
  {
   "cell_type": "code",
   "execution_count": null,
   "metadata": {},
   "outputs": [],
   "source": [
    "print(\"Negative Log-Likelihood:\", lc_model_2.evaluate(elec_dataset)*len(elec_dataset))"
   ]
  },
  {
   "cell_type": "code",
   "execution_count": null,
   "metadata": {},
   "outputs": [],
   "source": [
    "print(\"Latent Class Model weights:\")\n",
    "print(\"Classes Logits:\", lc_model_2.latent_logits)\n",
    "for i in range(3):\n",
    "    print(\"\\n\")\n",
    "    print(f\"Model Nb {i}, weights:\", lc_model_2.models[i].trainable_weights)"
   ]
  },
  {
   "cell_type": "markdown",
   "metadata": {},
   "source": [
    "Just like any ChoiceModel you can get the probabilities:"
   ]
  },
  {
   "cell_type": "code",
   "execution_count": null,
   "metadata": {},
   "outputs": [],
   "source": [
    "lc_model.predict_probas(elec_dataset[:4])"
   ]
  },
  {
   "cell_type": "markdown",
   "metadata": {},
   "source": [
    "If you want to use more complex formulations of Latent Class models, you can directly use the *BaseLatentClassModel* from *choice_learn.models.base_model*:"
   ]
  },
  {
   "cell_type": "code",
   "execution_count": null,
   "metadata": {},
   "outputs": [],
   "source": [
    "from choice_learn.models.latent_class_base_model import BaseLatentClassModel"
   ]
  },
  {
   "cell_type": "code",
   "execution_count": null,
   "metadata": {},
   "outputs": [],
   "source": [
    "manual_lc = BaseLatentClassModel(\n",
    "                                 model_class=SimpleMNL,\n",
    "                                 model_parameters={\"add_exit_choice\": False},\n",
    "                                 n_latent_classes=3,\n",
    "                                 fit_method=\"mle\",\n",
    "                                 epochs=1000,\n",
    "                                 optimizer=\"lbfgs\"\n",
    "                                 )\n",
    "manual_lc.instantiate(n_items=4,\n",
    "                      n_shared_features=0,\n",
    "                      n_items_features=6)\n",
    "manual_hist = manual_lc.fit(elec_dataset, verbose=1)"
   ]
  },
  {
   "cell_type": "code",
   "execution_count": null,
   "metadata": {},
   "outputs": [],
   "source": [
    "manual_lc.evaluate(elec_dataset) * len(elec_dataset)"
   ]
  },
  {
   "cell_type": "markdown",
   "metadata": {},
   "source": [
    "If you need to go deeper, you can look [here](../choice_learn/models/latent_class_mnl.py) to see different implementations that could help you."
   ]
  },
  {
   "cell_type": "code",
   "execution_count": null,
   "metadata": {},
   "outputs": [],
   "source": []
  }
 ],
 "metadata": {
  "kernelspec": {
   "display_name": "Python 3 (ipykernel)",
   "language": "python",
   "name": "python3"
  },
  "language_info": {
   "codemirror_mode": {
    "name": "ipython",
    "version": 3
   },
   "file_extension": ".py",
   "mimetype": "text/x-python",
   "name": "python",
   "nbconvert_exporter": "python",
   "pygments_lexer": "ipython3",
   "version": "3.11.4"
  }
 },
 "nbformat": 4,
 "nbformat_minor": 2
}
