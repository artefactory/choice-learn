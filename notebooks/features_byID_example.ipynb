{
 "cells": [
  {
   "cell_type": "markdown",
   "metadata": {},
   "source": [
    "# Deep dive on FeaturesStorage\n",
    "\n",
    "Here is are detailed explanations of what's possible with FeaturesStorage and its use as features_by_ids in ChoiceDataset.\n",
    "\n",
    "## Summary\n",
    "\n",
    "- [Different instantiations of FeaturesStorage](#different-instantiation-possibilities-for-storage)\n",
    "    - [from a dict](#1---from-dict)\n",
    "    - [from a list](#2---from-list)\n",
    "    - [from a list, without ids](#3---from-list-without-ids)\n",
    "    - [from a pandas.DataFrame](#4---from-pandasdataframe)\n",
    "\n",
    "- [Different instatiations of OneHotStorage](#different-instantiations-of-onehotstorage)\n",
    "    - [from several lists](#5---onehotstorage-from-lists)\n",
    "    - [from a single list](#6---onehotstorage-from-single-list)\n",
    "    - [from a dict](#7---onehotstorage-from-dict)\n",
    "\n",
    "- [Using FeaturesStorage or OneHotStorage in a ChoiceDataset](#use-of-featuresbyid-and-storage-in-the-choicedataset)\n",
    "\n",
    "- [Example with the SwissMetro](#example-with-the-swissmetro-dataset)\n",
    "\n",
    "- [Link to another example: Expedia Dataset](#link-to-another-example)"
   ]
  },
  {
   "cell_type": "code",
   "execution_count": null,
   "metadata": {},
   "outputs": [],
   "source": [
    "import os\n",
    "\n",
    "# Remove GPU use\n",
    "os.environ[\"CUDA_VISIBLE_DEVICES\"] = \"\"\n",
    "\n",
    "import sys\n",
    "\n",
    "sys.path.append(\"../\")\n",
    "\n",
    "import numpy as np\n",
    "import pandas as pd"
   ]
  },
  {
   "cell_type": "code",
   "execution_count": null,
   "metadata": {},
   "outputs": [],
   "source": [
    "from choice_learn.data.storage import FeaturesStorage, OneHotStorage\n",
    "from choice_learn.data import ChoiceDataset"
   ]
  },
  {
   "cell_type": "markdown",
   "metadata": {},
   "source": [
    "## Different Instantiation Possibilities for Storage:\n",
    "### 1 - from dict"
   ]
  },
  {
   "cell_type": "code",
   "execution_count": null,
   "metadata": {
    "keep_output": true
   },
   "outputs": [],
   "source": [
    "features = {\"customerA\": [1, 2, 3], \"customerB\": [4, 5, 6], \"customerC\": [7, 8, 9]}\n",
    "# dict must be {id: features}\n",
    "storage = FeaturesStorage(values=features,\n",
    "                          values_names=[\"age\", \"income\", \"children_nb\"],\n",
    "                          name=\"customers_features\")"
   ]
  },
  {
   "cell_type": "code",
   "execution_count": null,
   "metadata": {
    "keep_output": true
   },
   "outputs": [
    {
     "data": {
      "text/plain": [
       "<choice_learn.data.storage.FeaturesStorage at 0x7faa70105150>"
      ]
     },
     "execution_count": null,
     "metadata": {},
     "output_type": "execute_result"
    }
   ],
   "source": [
    "# Subset in order to only keep som ids\n",
    "storage[[\"customerA\", \"customerC\"]]"
   ]
  },
  {
   "cell_type": "code",
   "execution_count": null,
   "metadata": {
    "keep_output": true
   },
   "outputs": [
    {
     "data": {
      "text/plain": [
       "array([[1, 2, 3],\n",
       "       [7, 8, 9],\n",
       "       [1, 2, 3],\n",
       "       [7, 8, 9]])"
      ]
     },
     "execution_count": null,
     "metadata": {},
     "output_type": "execute_result"
    }
   ],
   "source": [
    "# Batch to access the features values\n",
    "storage.batch[[\"customerA\", \"customerC\", \"customerA\", \"customerC\"]]"
   ]
  },
  {
   "cell_type": "markdown",
   "metadata": {},
   "source": [
    "### 2 - from list"
   ]
  },
  {
   "cell_type": "code",
   "execution_count": null,
   "metadata": {
    "keep_output": true
   },
   "outputs": [
    {
     "data": {
      "text/plain": [
       "array([[1, 2, 3],\n",
       "       [7, 8, 9],\n",
       "       [1, 2, 3],\n",
       "       [7, 8, 9]])"
      ]
     },
     "execution_count": null,
     "metadata": {},
     "output_type": "execute_result"
    }
   ],
   "source": [
    "features = [[1, 2, 3], [4, 5, 6], [7, 8, 9]]\n",
    "ids = [\"customerA\", \"customerB\", \"customerC\"]\n",
    "\n",
    "storage = FeaturesStorage(ids=ids,\n",
    "                          values=features,\n",
    "                          values_names=[\"age\", \"income\", \"children_nb\"],\n",
    "                          name=\"customers\")\n",
    "# We get the same result as before\n",
    "storage.batch[[\"customerA\", \"customerC\", \"customerA\", \"customerC\"]]"
   ]
  },
  {
   "cell_type": "markdown",
   "metadata": {},
   "source": [
    "### 3 - from list, without ids\n",
    "\n",
    "The ids are generated automatically as increasing integers:"
   ]
  },
  {
   "cell_type": "code",
   "execution_count": null,
   "metadata": {
    "keep_output": true
   },
   "outputs": [
    {
     "data": {
      "text/plain": [
       "array([[1, 2, 3],\n",
       "       [7, 8, 9],\n",
       "       [1, 2, 3],\n",
       "       [7, 8, 9]])"
      ]
     },
     "execution_count": null,
     "metadata": {},
     "output_type": "execute_result"
    }
   ],
   "source": [
    "features = [[1, 2, 3], [4, 5, 6], [7, 8, 9]]\n",
    "\n",
    "storage = FeaturesStorage(values=features, values_names=[\"age\", \"income\", \"children_nb\"], name=\"customers\")\n",
    "storage.batch[[0, 2, 0, 2]]"
   ]
  },
  {
   "cell_type": "markdown",
   "metadata": {},
   "source": [
    "### 4 - from pandas.DataFrame"
   ]
  },
  {
   "cell_type": "code",
   "execution_count": null,
   "metadata": {
    "keep_output": true
   },
   "outputs": [
    {
     "data": {
      "text/plain": [
       "array([[1, 2, 3],\n",
       "       [7, 8, 9],\n",
       "       [1, 2, 3],\n",
       "       [7, 8, 9]])"
      ]
     },
     "execution_count": null,
     "metadata": {},
     "output_type": "execute_result"
    }
   ],
   "source": [
    "# Here the DataFrame has a column \"id\" that identifies the keys from the features values\n",
    "features = {\"age\": [1, 4, 7], \"income\": [2, 5, 8], \"children_nb\": [3, 6, 9], \"id\": [\"customerA\", \"customerB\", \"customerC\"]}\n",
    "features = pd.DataFrame(features)\n",
    "storage = FeaturesStorage(values=features, name=\"customers\")\n",
    "storage.batch[[\"customerA\", \"customerC\", \"customerA\", \"customerC\"]]"
   ]
  },
  {
   "cell_type": "code",
   "execution_count": null,
   "metadata": {
    "keep_output": true
   },
   "outputs": [
    {
     "data": {
      "text/plain": [
       "array([[1, 2, 3],\n",
       "       [7, 8, 9],\n",
       "       [1, 2, 3],\n",
       "       [7, 8, 9]])"
      ]
     },
     "execution_count": null,
     "metadata": {},
     "output_type": "execute_result"
    }
   ],
   "source": [
    "# Here the DataFrame does not have a column \"id\" that identifies the keys from the features values\n",
    "# We thus specify the 'index'\n",
    "features = {\"age\": [1, 4, 7], \"income\": [2, 5, 8], \"children_nb\": [3, 6, 9]}\n",
    "features = pd.DataFrame(features, index=[\"customerA\", \"customerB\", \"customerC\"])\n",
    "storage = FeaturesStorage(values=features, name=\"customers\")\n",
    "storage.batch[[\"customerA\", \"customerC\", \"customerA\", \"customerC\"]]"
   ]
  },
  {
   "cell_type": "markdown",
   "metadata": {},
   "source": [
    "## Different instantiations of OneHotStorage\n",
    "### 5 - OneHotStorage from lists"
   ]
  },
  {
   "cell_type": "code",
   "execution_count": null,
   "metadata": {
    "keep_output": true
   },
   "outputs": [],
   "source": [
    "ids = [0, 1, 2, 3, 4]\n",
    "values = [4, 3, 2, 1, 0]\n",
    "\n",
    "# Here the Storage will map the ids to the values\n",
    "# value = 4 means that the fifth value is a one, the rest are zeros\n",
    "oh_storage = OneHotStorage(ids=ids, values=values, name=\"OneHotTest\")"
   ]
  },
  {
   "cell_type": "code",
   "execution_count": null,
   "metadata": {
    "keep_output": true
   },
   "outputs": [
    {
     "data": {
      "text/plain": [
       "array([[0, 0, 0, 0, 1],\n",
       "       [0, 0, 1, 0, 0],\n",
       "       [1, 0, 0, 0, 0]], dtype=uint8)"
      ]
     },
     "execution_count": null,
     "metadata": {},
     "output_type": "execute_result"
    }
   ],
   "source": [
    "# Get OneHot vectors:\n",
    "oh_storage.batch[[0, 2, 4]]"
   ]
  },
  {
   "cell_type": "code",
   "execution_count": null,
   "metadata": {
    "keep_output": true
   },
   "outputs": [
    {
     "data": {
      "text/plain": [
       "(4, {0: 4, 1: 3, 2: 2, 3: 1, 4: 0})"
      ]
     },
     "execution_count": null,
     "metadata": {},
     "output_type": "execute_result"
    }
   ],
   "source": [
    "# Get the Storage value\n",
    "oh_storage.get_element_from_index(0), oh_storage.storage"
   ]
  },
  {
   "cell_type": "markdown",
   "metadata": {},
   "source": [
    "### 6 - OneHotStorage from single list\n",
    "\n",
    "If only the values are given, the ids are created as increasing integers."
   ]
  },
  {
   "cell_type": "code",
   "execution_count": null,
   "metadata": {
    "keep_output": true
   },
   "outputs": [
    {
     "data": {
      "text/plain": [
       "array([[0, 0, 0, 0, 1],\n",
       "       [0, 0, 1, 0, 0],\n",
       "       [1, 0, 0, 0, 0]], dtype=uint8)"
      ]
     },
     "execution_count": null,
     "metadata": {},
     "output_type": "execute_result"
    }
   ],
   "source": [
    "oh_storage = OneHotStorage(values=values, name=\"OneHotTest\")\n",
    "oh_storage.batch[[0, 2, 4]]"
   ]
  },
  {
   "cell_type": "markdown",
   "metadata": {},
   "source": [
    "If the values are not given, they are also created from the ids as increasing integers."
   ]
  },
  {
   "cell_type": "code",
   "execution_count": null,
   "metadata": {
    "keep_output": true
   },
   "outputs": [
    {
     "data": {
      "text/plain": [
       "array([[1, 0, 0, 0, 0],\n",
       "       [0, 0, 1, 0, 0],\n",
       "       [0, 0, 0, 0, 1]], dtype=uint8)"
      ]
     },
     "execution_count": null,
     "metadata": {},
     "output_type": "execute_result"
    }
   ],
   "source": [
    "oh_storage = OneHotStorage(ids=ids, name=\"OneHotTest\")\n",
    "oh_storage.batch[[0, 2, 4]]\n",
    "# Note that here it changes the order !"
   ]
  },
  {
   "cell_type": "markdown",
   "metadata": {},
   "source": [
    "### 7 - OneHotStorage from dict"
   ]
  },
  {
   "cell_type": "code",
   "execution_count": null,
   "metadata": {
    "keep_output": true
   },
   "outputs": [
    {
     "data": {
      "text/plain": [
       "array([[0, 0, 0, 0, 1],\n",
       "       [0, 0, 1, 0, 0],\n",
       "       [1, 0, 0, 0, 0]], dtype=uint8)"
      ]
     },
     "execution_count": null,
     "metadata": {},
     "output_type": "execute_result"
    }
   ],
   "source": [
    "values_dict = {k:v for k, v in zip(ids, values)}\n",
    "oh_storage = OneHotStorage(values=values_dict, name=\"OneHotTest\")\n",
    "oh_storage.batch[[0, 2, 4]]"
   ]
  },
  {
   "cell_type": "markdown",
   "metadata": {},
   "source": [
    "## Use of FeaturesByID and Storage in the ChoiceDataset\n",
    "\n",
    "Here is a small example on how a ChoiceDataset is instantiated with a FeatureStorage.\n",
    "For it to fully work you need to:\n",
    "- Give the different FeatureStorage in a list in the features_by_ids argument\n",
    "- The name of the FeaturesStorage needs to be the same as the name of the columns containing the ids in shared_features_by_choice or items_features_by_choice\n",
    "- Make sure that all ids in shared_features_by_choice or items_features_by_choice have a corresponding id in the FeaturesStorage"
   ]
  },
  {
   "cell_type": "code",
   "execution_count": null,
   "metadata": {
    "keep_output": true
   },
   "outputs": [],
   "source": [
    "features = {\"customerA\": [1, 2, 3], \"customerB\": [4, 5, 6], \"customerC\": [7, 8, 9]}\n",
    "customer_storage = FeaturesStorage(values=features,\n",
    "                          values_names=[\"age\", \"income\", \"children_nb\"],\n",
    "                          name=\"customers_features\")\n",
    "shared_features_by_choice = pd.DataFrame({\"is_weekend\": [0, 1, 1, 0],\n",
    "                                          # This column is the one matching with the FeaturesStorage customer_storage\n",
    "                                          # It follows the conditions 2/ and 3/ about naming and ids\n",
    "                                          \"customers_features\": [\"customerA\", \"customerB\", \"customerA\", \"customerC\"]})"
   ]
  },
  {
   "cell_type": "code",
   "execution_count": null,
   "metadata": {},
   "outputs": [],
   "source": [
    "features = {\"item1\": [1, 2, 3], \"item2\": [4, 5, 6], \"item3\": [7, 8, 9], \"item4\": [10, 11, 12]}\n",
    "storage = FeaturesStorage(values=features, values_names=[\"f1\", \"f2\", \"f3\"], name=\"items_features\")\n",
    "\n",
    "price_storage = {\"price1\": [1], \"price2\": [2], \"price3\": [3], \"price4\": [4]}\n",
    "price_storage = FeaturesStorage(values=price_storage, values_names=[\"price\"], name=\"items_prices\")\n",
    "\n",
    "prices = [[[4, 1], [4, 1], [5, 1]], [[5, 2], [4, 2], [6, 2]],\n",
    "          [[6, 3], [7, 3], [8, 3]], [[4, 4], [5, 4], [4, 4]]]\n",
    "items_features_by_choice = [[[\"item1\", \"price1\"], [\"item2\", \"price2\"], [\"item3\", \"price3\"]],\n",
    "                           [[\"item1\", \"price1\"], [\"item4\", \"price2\"], [\"item3\", \"price4\"]],\n",
    "                           [[\"item1\", \"price1\"], [\"item2\", \"price3\"], [\"item3\", \"price4\"]],\n",
    "                           [[\"item1\", \"price1\"], [\"item2\", \"price3\"], [\"item3\", \"price4\"]]]\n",
    "choices = [0, 1, 2, 2]\n",
    "\n",
    "dataset = ChoiceDataset(\n",
    "    choices=choices,\n",
    "    shared_features_by_choice=shared_features_by_choice,\n",
    "    items_features_by_choice=items_features_by_choice,\n",
    "    features_by_ids=[storage, price_storage, customer_storage],\n",
    "    items_features_by_choice_names=[\"items_features\", \"items_prices\"],\n",
    "    )"
   ]
  },
  {
   "cell_type": "markdown",
   "metadata": {},
   "source": [
    "Now we can use the ChoiceDataset as any other one to estimate a choice model. In particular the *.batch* argument will make reconstruct all features:"
   ]
  },
  {
   "cell_type": "code",
   "execution_count": null,
   "metadata": {
    "keep_output": true
   },
   "outputs": [
    {
     "name": "stdout",
     "output_type": "stream",
     "text": [
      "Shared features by choice: [[0 1 2 3]\n",
      " [1 1 2 3]]\n",
      "Items features by choice: [[[1 2 3 1]\n",
      "  [4 5 6 2]\n",
      "  [7 8 9 3]]\n",
      "\n",
      " [[1 2 3 1]\n",
      "  [4 5 6 3]\n",
      "  [7 8 9 4]]]\n",
      "Available items by choice: [[1. 1. 1.]\n",
      " [1. 1. 1.]]\n",
      "Choices: [0 2]\n"
     ]
    }
   ],
   "source": [
    "batch = dataset.batch[[0, 2]]\n",
    "print(\"Shared features by choice:\", batch[0])\n",
    "print(\"Items features by choice:\", batch[1])\n",
    "print(\"Available items by choice:\", batch[2])\n",
    "print(\"Choices:\", batch[3])"
   ]
  },
  {
   "cell_type": "markdown",
   "metadata": {},
   "source": [
    "## Example with the SwissMetro dataset"
   ]
  },
  {
   "cell_type": "code",
   "execution_count": null,
   "metadata": {
    "keep_output": true
   },
   "outputs": [
    {
     "data": {
      "text/html": [
       "<div>\n",
       "<style scoped>\n",
       "    .dataframe tbody tr th:only-of-type {\n",
       "        vertical-align: middle;\n",
       "    }\n",
       "\n",
       "    .dataframe tbody tr th {\n",
       "        vertical-align: top;\n",
       "    }\n",
       "\n",
       "    .dataframe thead th {\n",
       "        text-align: right;\n",
       "    }\n",
       "</style>\n",
       "<table border=\"1\" class=\"dataframe\">\n",
       "  <thead>\n",
       "    <tr style=\"text-align: right;\">\n",
       "      <th></th>\n",
       "      <th>GROUP</th>\n",
       "      <th>SURVEY</th>\n",
       "      <th>SP</th>\n",
       "      <th>ID</th>\n",
       "      <th>PURPOSE</th>\n",
       "      <th>FIRST</th>\n",
       "      <th>TICKET</th>\n",
       "      <th>WHO</th>\n",
       "      <th>LUGGAGE</th>\n",
       "      <th>AGE</th>\n",
       "      <th>...</th>\n",
       "      <th>TRAIN_CO</th>\n",
       "      <th>TRAIN_HE</th>\n",
       "      <th>SM_TT</th>\n",
       "      <th>SM_CO</th>\n",
       "      <th>SM_HE</th>\n",
       "      <th>SM_SEATS</th>\n",
       "      <th>CAR_TT</th>\n",
       "      <th>CAR_CO</th>\n",
       "      <th>CHOICE</th>\n",
       "      <th>CAR_HE</th>\n",
       "    </tr>\n",
       "  </thead>\n",
       "  <tbody>\n",
       "    <tr>\n",
       "      <th>0</th>\n",
       "      <td>2</td>\n",
       "      <td>0</td>\n",
       "      <td>1</td>\n",
       "      <td>1</td>\n",
       "      <td>1</td>\n",
       "      <td>0</td>\n",
       "      <td>1</td>\n",
       "      <td>1</td>\n",
       "      <td>0</td>\n",
       "      <td>3</td>\n",
       "      <td>...</td>\n",
       "      <td>48</td>\n",
       "      <td>120</td>\n",
       "      <td>63</td>\n",
       "      <td>52</td>\n",
       "      <td>20</td>\n",
       "      <td>0</td>\n",
       "      <td>117</td>\n",
       "      <td>65</td>\n",
       "      <td>1</td>\n",
       "      <td>0.0</td>\n",
       "    </tr>\n",
       "    <tr>\n",
       "      <th>1</th>\n",
       "      <td>2</td>\n",
       "      <td>0</td>\n",
       "      <td>1</td>\n",
       "      <td>1</td>\n",
       "      <td>1</td>\n",
       "      <td>0</td>\n",
       "      <td>1</td>\n",
       "      <td>1</td>\n",
       "      <td>0</td>\n",
       "      <td>3</td>\n",
       "      <td>...</td>\n",
       "      <td>48</td>\n",
       "      <td>30</td>\n",
       "      <td>60</td>\n",
       "      <td>49</td>\n",
       "      <td>10</td>\n",
       "      <td>0</td>\n",
       "      <td>117</td>\n",
       "      <td>84</td>\n",
       "      <td>1</td>\n",
       "      <td>0.0</td>\n",
       "    </tr>\n",
       "    <tr>\n",
       "      <th>2</th>\n",
       "      <td>2</td>\n",
       "      <td>0</td>\n",
       "      <td>1</td>\n",
       "      <td>1</td>\n",
       "      <td>1</td>\n",
       "      <td>0</td>\n",
       "      <td>1</td>\n",
       "      <td>1</td>\n",
       "      <td>0</td>\n",
       "      <td>3</td>\n",
       "      <td>...</td>\n",
       "      <td>48</td>\n",
       "      <td>60</td>\n",
       "      <td>67</td>\n",
       "      <td>58</td>\n",
       "      <td>30</td>\n",
       "      <td>0</td>\n",
       "      <td>117</td>\n",
       "      <td>52</td>\n",
       "      <td>1</td>\n",
       "      <td>0.0</td>\n",
       "    </tr>\n",
       "    <tr>\n",
       "      <th>3</th>\n",
       "      <td>2</td>\n",
       "      <td>0</td>\n",
       "      <td>1</td>\n",
       "      <td>1</td>\n",
       "      <td>1</td>\n",
       "      <td>0</td>\n",
       "      <td>1</td>\n",
       "      <td>1</td>\n",
       "      <td>0</td>\n",
       "      <td>3</td>\n",
       "      <td>...</td>\n",
       "      <td>40</td>\n",
       "      <td>30</td>\n",
       "      <td>63</td>\n",
       "      <td>52</td>\n",
       "      <td>20</td>\n",
       "      <td>0</td>\n",
       "      <td>72</td>\n",
       "      <td>52</td>\n",
       "      <td>1</td>\n",
       "      <td>0.0</td>\n",
       "    </tr>\n",
       "    <tr>\n",
       "      <th>4</th>\n",
       "      <td>2</td>\n",
       "      <td>0</td>\n",
       "      <td>1</td>\n",
       "      <td>1</td>\n",
       "      <td>1</td>\n",
       "      <td>0</td>\n",
       "      <td>1</td>\n",
       "      <td>1</td>\n",
       "      <td>0</td>\n",
       "      <td>3</td>\n",
       "      <td>...</td>\n",
       "      <td>36</td>\n",
       "      <td>60</td>\n",
       "      <td>63</td>\n",
       "      <td>42</td>\n",
       "      <td>20</td>\n",
       "      <td>0</td>\n",
       "      <td>90</td>\n",
       "      <td>84</td>\n",
       "      <td>1</td>\n",
       "      <td>0.0</td>\n",
       "    </tr>\n",
       "  </tbody>\n",
       "</table>\n",
       "<p>5 rows × 29 columns</p>\n",
       "</div>"
      ],
      "text/plain": [
       "   GROUP  SURVEY  SP  ID  PURPOSE  FIRST  TICKET  WHO  LUGGAGE  AGE  ...  \\\n",
       "0      2       0   1   1        1      0       1    1        0    3  ...   \n",
       "1      2       0   1   1        1      0       1    1        0    3  ...   \n",
       "2      2       0   1   1        1      0       1    1        0    3  ...   \n",
       "3      2       0   1   1        1      0       1    1        0    3  ...   \n",
       "4      2       0   1   1        1      0       1    1        0    3  ...   \n",
       "\n",
       "   TRAIN_CO  TRAIN_HE  SM_TT  SM_CO  SM_HE  SM_SEATS  CAR_TT  CAR_CO  CHOICE  \\\n",
       "0        48       120     63     52     20         0     117      65       1   \n",
       "1        48        30     60     49     10         0     117      84       1   \n",
       "2        48        60     67     58     30         0     117      52       1   \n",
       "3        40        30     63     52     20         0      72      52       1   \n",
       "4        36        60     63     42     20         0      90      84       1   \n",
       "\n",
       "   CAR_HE  \n",
       "0     0.0  \n",
       "1     0.0  \n",
       "2     0.0  \n",
       "3     0.0  \n",
       "4     0.0  \n",
       "\n",
       "[5 rows x 29 columns]"
      ]
     },
     "execution_count": null,
     "metadata": {},
     "output_type": "execute_result"
    }
   ],
   "source": [
    "from choice_learn.datasets import load_swissmetro\n",
    "\n",
    "swiss_df = load_swissmetro(as_frame=True)\n",
    "swiss_df.head()"
   ]
  },
  {
   "cell_type": "markdown",
   "metadata": {},
   "source": [
    "The ID column refers to a unique participant to the survey. Each participant answered several cases. We therefore have several times the features concerning this participant. A perfect example for FeaturesStorage."
   ]
  },
  {
   "cell_type": "code",
   "execution_count": null,
   "metadata": {},
   "outputs": [],
   "source": [
    "customer_columns = ['ID', 'GROUP', 'SURVEY', 'SP', 'PURPOSE', 'FIRST', 'TICKET', 'WHO',\n",
    "                    'LUGGAGE', 'AGE', 'MALE', 'INCOME', 'GA', 'ORIGIN', 'DEST']\n",
    "customer_features = swiss_df[customer_columns].drop_duplicates()\n",
    "customer_features = customer_features.rename(columns={\"ID\": \"id\"})\n",
    "customer_storage = FeaturesStorage(values=customer_features, name=\"customer_features\")\n",
    "\n",
    "shared_features_by_choice = swiss_df[[\"ID\"]]\n",
    "shared_features_by_choice = shared_features_by_choice.rename(columns={\"ID\": \"customer_features\"})"
   ]
  },
  {
   "cell_type": "code",
   "execution_count": null,
   "metadata": {},
   "outputs": [],
   "source": [
    "available_items_by_choice = swiss_df[[\"TRAIN_AV\", \"SM_AV\", \"CAR_AV\"]].to_numpy()\n",
    "items_features_by_choice = np.stack([swiss_df[[\"TRAIN_TT\", \"TRAIN_CO\", \"TRAIN_HE\"]].to_numpy(),\n",
    "                                    swiss_df[[\"SM_TT\", \"SM_CO\", \"SM_HE\"]].to_numpy(),\n",
    "                                    swiss_df[[\"CAR_TT\", \"CAR_CO\", \"CAR_HE\"]].to_numpy()], axis=1)\n",
    "choices = swiss_df.CHOICE.to_numpy()"
   ]
  },
  {
   "cell_type": "code",
   "execution_count": null,
   "metadata": {},
   "outputs": [],
   "source": [
    "choice_dataset = ChoiceDataset(shared_features_by_choice=shared_features_by_choice,\n",
    "                               items_features_by_choice=items_features_by_choice,\n",
    "                               available_items_by_choice=available_items_by_choice,\n",
    "                               choices=choices,\n",
    "                               features_by_ids=[customer_storage],)"
   ]
  },
  {
   "cell_type": "markdown",
   "metadata": {},
   "source": [
    "Et voilà !"
   ]
  },
  {
   "cell_type": "code",
   "execution_count": null,
   "metadata": {
    "keep_output": true
   },
   "outputs": [
    {
     "name": "stdout",
     "output_type": "stream",
     "text": [
      "Shared features by choice: [[ 2  0  1  1  0  1  1  0  3  0  2  0  2  1]\n",
      " [ 2  0  1  1  0  1  1  1  2  0  1  0 22  1]\n",
      " [ 2  0  1  1  0  3  2  1  2  1  2  0 15  1]]\n",
      "Items features by choice: [[[112.  48. 120.]\n",
      "  [ 63.  52.  20.]\n",
      "  [117.  65.   0.]]\n",
      "\n",
      " [[170.  62.  30.]\n",
      "  [ 70.  66.  10.]\n",
      "  [  0.   0.   0.]]\n",
      "\n",
      " [[116.  54.  60.]\n",
      "  [ 53.  83.  30.]\n",
      "  [ 78.  40.   0.]]]\n",
      "Available items by choice: [[1. 1. 1.]\n",
      " [1. 1. 0.]\n",
      " [1. 1. 1.]]\n",
      "Choices: [1 1 0]\n"
     ]
    }
   ],
   "source": [
    "batch = choice_dataset.batch[[0, 10, 200]]\n",
    "print(\"Shared features by choice:\", batch[0])\n",
    "print(\"Items features by choice:\", batch[1])\n",
    "print(\"Available items by choice:\", batch[2])\n",
    "print(\"Choices:\", batch[3])"
   ]
  },
  {
   "cell_type": "markdown",
   "metadata": {},
   "source": [
    "## Link to another example\n",
    "\n",
    "Finally you can find [here](../choice_learn/datasets/expedia.py) a good examples of how memory efficient FeaturesStorage can be. The Expedia datasets incorporates several OneHot features that are encoded as OneHotStorage saving up a lot of memory.\n"
   ]
  },
  {
   "cell_type": "markdown",
   "metadata": {},
   "source": []
  },
  {
   "cell_type": "markdown",
   "metadata": {},
   "source": []
  }
 ],
 "metadata": {
  "kernelspec": {
   "display_name": "tf_env",
   "language": "python",
   "name": "python3"
  },
  "language_info": {
   "codemirror_mode": {
    "name": "ipython",
    "version": 3
   },
   "file_extension": ".py",
   "mimetype": "text/x-python",
   "name": "python",
   "nbconvert_exporter": "python",
   "pygments_lexer": "ipython3",
   "version": "3.11.4"
  }
 },
 "nbformat": 4,
 "nbformat_minor": 2
}
