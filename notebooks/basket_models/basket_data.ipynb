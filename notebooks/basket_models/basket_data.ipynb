{
 "cells": [
  {
   "cell_type": "markdown",
   "metadata": {},
   "source": [
    "## How to create a TripDataset\n",
    "[![Open In Colab](https://colab.research.google.com/assets/colab-badge.svg)](https://colab.research.google.com/github/artefactory/choice-learn/blob/main/notebooks/basket_models/basket_data.ipynb)"
   ]
  },
  {
   "cell_type": "markdown",
   "metadata": {},
   "source": [
    "We create here a synthetic dataset to demonstrate how to use the Trip and TripDataset classes."
   ]
  },
  {
   "cell_type": "code",
   "execution_count": null,
   "metadata": {},
   "outputs": [],
   "source": [
    "# Install necessary requirements\n",
    "\n",
    "# If you run this notebook on Google Colab, or in standalone mode, you need to install the required packages.\n",
    "# Uncomment the following lines:\n",
    "\n",
    "# !pip install choice-learn\n",
    "\n",
    "# If you run the notebook within the GitHub repository, you need to run the following lines, that can skipped otherwise:\n",
    "import sys\n",
    "\n",
    "sys.path.append(\"../../\")"
   ]
  },
  {
   "cell_type": "code",
   "execution_count": null,
   "metadata": {},
   "outputs": [],
   "source": [
    "import os\n",
    "# Remove/Add GPU use\n",
    "os.environ[\"CUDA_VISIBLE_DEVICES\"] = \"\""
   ]
  },
  {
   "cell_type": "code",
   "execution_count": null,
   "metadata": {},
   "outputs": [],
   "source": [
    "import numpy as np\n",
    "import pickle\n",
    "from pathlib import Path\n",
    "\n",
    "from choice_learn.basket_models import Trip, TripDataset"
   ]
  },
  {
   "cell_type": "markdown",
   "metadata": {},
   "source": [
    "### Dataset"
   ]
  },
  {
   "cell_type": "markdown",
   "metadata": {},
   "source": [
    "Let's consider a simple dataset where we have only six items sold in two different stores:\n",
    "- The first store sells items [0, 1, 2, 3, 4] and has observed baskets [1, 0], [2, 0], [1, 3, 4, 0];\n",
    "- The second store sells items [0, 1, 5, 6] and has observed baskets [1, 0], [6, 5, 0];\n",
    "\n",
    "with 0 the checkout item."
   ]
  },
  {
   "cell_type": "code",
   "execution_count": null,
   "metadata": {},
   "outputs": [],
   "source": [
    "n_items = 7\n",
    "\n",
    "purchases_stores_1 =[[1, 0], [2, 0], [1, 3, 4, 0]]\n",
    "purchases_stores_2 = [[1, 0], [6, 5, 0]]\n",
    "\n",
    "assortment_store_1 = np.array([1, 1, 1, 1, 1, 0, 0])\n",
    "assortment_store_2 = np.array([1, 1, 0, 0, 0, 1, 1])\n",
    "available_items = np.array([assortment_store_1, assortment_store_2])"
   ]
  },
  {
   "cell_type": "code",
   "execution_count": null,
   "metadata": {},
   "outputs": [],
   "source": [
    "print(f\"The list of available items are encoded as availability matrices indicating the availability (1) or not (0) of the products:\\n{available_items=}\\n\")\n",
    "print(\n",
    "    \"Here, the variable 'available_items' can be read as:\\n\",\n",
    "    f\"- Assortment 1 = {[i for i in range(n_items) if assortment_store_1[i]==1]}\\n\",\n",
    "    f\"- Assortment 2 = {[i for i in range(n_items) if assortment_store_2[i]==1]}\"\n",
    ")"
   ]
  },
  {
   "cell_type": "markdown",
   "metadata": {},
   "source": [
    "Let's say that each basket has been seen 100 times. We can create Trip objects based on these shopping baskets and assortments with fixed prices."
   ]
  },
  {
   "cell_type": "code",
   "execution_count": null,
   "metadata": {},
   "outputs": [],
   "source": [
    "# Create a list of Trip objects:\n",
    "num_baskets = 100\n",
    "trips_list = []\n",
    "\n",
    "for i in range(num_baskets):\n",
    "    trip = Trip(\n",
    "        purchases=purchases_stores_1[0],\n",
    "        # Let's consider here totally random prices for the products\n",
    "        prices=np.random.uniform(1, 10, n_items),\n",
    "        assortment=0\n",
    "    )\n",
    "    trips_list.append(trip)\n",
    "\n",
    "    trip = Trip(\n",
    "        purchases=purchases_stores_1[1],\n",
    "        prices=np.random.uniform(1, 10, n_items),\n",
    "        assortment=0\n",
    "    )\n",
    "    trips_list.append(trip)\n",
    "\n",
    "    trip = Trip(\n",
    "        purchases=purchases_stores_1[2],\n",
    "        prices=np.random.uniform(1, 10, n_items),\n",
    "        assortment=0\n",
    "    )\n",
    "    trips_list.append(trip)\n",
    "\n",
    "    trip = Trip(\n",
    "        purchases=purchases_stores_2[0],\n",
    "        prices=np.random.uniform(1, 10, n_items),\n",
    "        assortment=1\n",
    "    )\n",
    "    trips_list.append(trip)\n",
    "\n",
    "    trip = Trip(\n",
    "        purchases=purchases_stores_2[1],\n",
    "        prices=np.random.uniform(1, 10, n_items),\n",
    "        assortment=1\n",
    "    )\n",
    "    trips_list.append(trip)"
   ]
  },
  {
   "cell_type": "markdown",
   "metadata": {},
   "source": [
    "Now that we have our Trip objects, we can instantiate a TripDataset that can be fed to a basket model."
   ]
  },
  {
   "cell_type": "code",
   "execution_count": null,
   "metadata": {},
   "outputs": [],
   "source": [
    "data = TripDataset(trips=trips_list, available_items=available_items)"
   ]
  },
  {
   "cell_type": "code",
   "execution_count": null,
   "metadata": {},
   "outputs": [],
   "source": [
    "print(data)\n",
    "print(f\"\\nThe TripDataset 'data' contains {data.n_items} distinct items that appear in {data.n_samples} transactions carried out at {data.n_stores} point of sale with {data.n_assortments} different assortments.\")\n",
    "print(f\"\\nDescription of the first trip of the dataset:\\n{data.get_trip(0)}\")"
   ]
  },
  {
   "cell_type": "markdown",
   "metadata": {},
   "source": [
    "This code is reused in the synthetic_dataset.py file to be shared."
   ]
  },
  {
   "cell_type": "code",
   "execution_count": null,
   "metadata": {},
   "outputs": [],
   "source": []
  }
 ],
 "metadata": {
  "kernelspec": {
   "display_name": "tf_env",
   "language": "python",
   "name": "python3"
  },
  "language_info": {
   "codemirror_mode": {
    "name": "ipython",
    "version": 3
   },
   "file_extension": ".py",
   "mimetype": "text/x-python",
   "name": "python",
   "nbconvert_exporter": "python",
   "pygments_lexer": "ipython3",
   "version": "3.11.4"
  }
 },
 "nbformat": 4,
 "nbformat_minor": 2
}
