{
 "cells": [
  {
   "cell_type": "markdown",
   "metadata": {},
   "source": [
    "## Introduction to basket modelling with SHOPPER\n",
    "[![Open In Colab](https://colab.research.google.com/assets/colab-badge.svg)](https://colab.research.google.com/github/artefactory/choice-learn/blob/main/notebooks/basket_models/shopper.ipynb)"
   ]
  },
  {
   "cell_type": "markdown",
   "metadata": {},
   "source": [
    "We use a synthetic dataset to demonstrate how to use the SHOPPER model."
   ]
  },
  {
   "cell_type": "code",
   "execution_count": null,
   "metadata": {},
   "outputs": [],
   "source": [
    "# Install necessary requirements\n",
    "\n",
    "# If you run this notebook on Google Colab, or in standalone mode, you need to install the required packages.\n",
    "# Uncomment the following lines:\n",
    "\n",
    "# !pip install choice-learn\n",
    "\n",
    "# If you run the notebook within the GitHub repository, you need to run the following lines, that can skipped otherwise:\n",
    "import sys\n",
    "\n",
    "sys.path.append(\"../../\")"
   ]
  },
  {
   "cell_type": "code",
   "execution_count": null,
   "metadata": {},
   "outputs": [],
   "source": [
    "import os\n",
    "# Remove/Add GPU use\n",
    "os.environ[\"CUDA_VISIBLE_DEVICES\"] = \"1\""
   ]
  },
  {
   "cell_type": "code",
   "execution_count": null,
   "metadata": {},
   "outputs": [],
   "source": [
    "import matplotlib.pyplot as plt\n",
    "import numpy as np\n",
    "import pickle\n",
    "\n",
    "from choice_learn.basket_models import Shopper, Trip"
   ]
  },
  {
   "cell_type": "markdown",
   "metadata": {},
   "source": [
    "### Dataset"
   ]
  },
  {
   "cell_type": "markdown",
   "metadata": {},
   "source": [
    "For simplicity, we load a trip dataset previously saved that was created from scratch in the notebook *data.ipynb* ([link](https://github.com/artefactory/choice-learn/blob/main/notebooks/basket_models/basket_data.ipynb)).\n",
    "\n",
    "Please run the notebook *data.ipynb* to save the trip dataset to a file before running the following cells to load it here."
   ]
  },
  {
   "cell_type": "code",
   "execution_count": null,
   "metadata": {},
   "outputs": [],
   "source": [
    "# Path to the saved file\n",
    "path = \"dataset/\"\n",
    "file_name = \"data\"\n",
    "full_path = os.path.join(path, file_name + \".pkl\")\n",
    "\n",
    "# Save in a single pickle file\n",
    "with open(full_path, \"rb\") as f:\n",
    "    data = pickle.load(f)\n",
    "    print(f\"TripDataset successfully loaded from '{full_path}'.\")"
   ]
  },
  {
   "cell_type": "code",
   "execution_count": null,
   "metadata": {},
   "outputs": [],
   "source": [
    "print(data)\n",
    "print(f\"\\nThe TripDataset 'data' contains {data.n_items} distinct items that appear in {data.n_samples} transactions carried out at {data.n_stores} point of sale with {data.n_assortments} different assortments.\")"
   ]
  },
  {
   "cell_type": "markdown",
   "metadata": {},
   "source": [
    "### Training SHOPPER model"
   ]
  },
  {
   "cell_type": "markdown",
   "metadata": {},
   "source": [
    "Now we can fit a SHOPPER model."
   ]
  },
  {
   "cell_type": "code",
   "execution_count": null,
   "metadata": {},
   "outputs": [],
   "source": [
    "# Hyperparameters\n",
    "\n",
    "# Preferences and price effects are represented by latent variables of size 4 and 3, respectively.\n",
    "latent_sizes = {\"preferences\": 4, \"price\": 3}\n",
    "# We use 1 negative sample for each positive sample during the training phase.\n",
    "n_negative_samples = 1\n",
    "optimizer = \"adam\"\n",
    "lr = 1e-3\n",
    "epochs = 200\n",
    "batch_size = 256"
   ]
  },
  {
   "cell_type": "code",
   "execution_count": null,
   "metadata": {},
   "outputs": [],
   "source": [
    "# Model: items fixed effect + items interactions + price effects\n",
    "shopper = Shopper(\n",
    "    item_intercept=False,\n",
    "    price_effects=True,\n",
    "    seasonal_effects=False,\n",
    "    latent_sizes=latent_sizes,\n",
    "    n_negative_samples=n_negative_samples,\n",
    "    optimizer=optimizer,\n",
    "    lr=lr,\n",
    "    epochs=epochs,\n",
    "    batch_size=batch_size,\n",
    ")\n",
    "# Feel free to explore other models by changing the hyperparameters!"
   ]
  },
  {
   "cell_type": "markdown",
   "metadata": {},
   "source": [
    "The SHOPPER model can integrate store effects as well as seasonality. Check the documentation if you want to know more about it."
   ]
  },
  {
   "cell_type": "code",
   "execution_count": null,
   "metadata": {},
   "outputs": [],
   "source": [
    "# Instantiate the model\n",
    "shopper.instantiate(n_items=data.n_items)\n",
    "\n",
    "# Train the model\n",
    "history = shopper.fit(trip_dataset=data)"
   ]
  },
  {
   "cell_type": "code",
   "execution_count": null,
   "metadata": {},
   "outputs": [],
   "source": [
    "plt.plot(history[\"train_loss\"])\n",
    "plt.xlabel(\"Epoch\")\n",
    "plt.ylabel(\"Training Loss\")\n",
    "plt.legend()\n",
    "plt.title(\"Training of SHOPPER model\")\n",
    "plt.show()"
   ]
  },
  {
   "cell_type": "markdown",
   "metadata": {},
   "source": [
    "### Inference with SHOPPER model"
   ]
  },
  {
   "cell_type": "markdown",
   "metadata": {},
   "source": [
    "We evaluate the model on the validation dataset."
   ]
  },
  {
   "cell_type": "code",
   "execution_count": null,
   "metadata": {},
   "outputs": [],
   "source": [
    "n_permutations = 2\n",
    "\n",
    "# You can choose how many basket permuations are used to evaluate the model\n",
    "nll = shopper.evaluate(data, n_permutations)"
   ]
  },
  {
   "cell_type": "code",
   "execution_count": null,
   "metadata": {},
   "outputs": [],
   "source": [
    "print(f\"Mean negative log-likelihood on the dataset: {nll:.4f}.\")\n",
    "\n",
    "print(\"\\nWe can see that the more complex the model, the lower the negative log-likelihood.\")"
   ]
  },
  {
   "cell_type": "markdown",
   "metadata": {},
   "source": [
    "We can also compute various utilities and probabilities."
   ]
  },
  {
   "cell_type": "code",
   "execution_count": null,
   "metadata": {},
   "outputs": [],
   "source": [
    "item_batch_inference=np.array([2, 0, 4])\n",
    "basket_inference = np.array([1, 3])\n",
    "full_basket_inference = np.array([1, 3, 0])\n",
    "price_inference = 5.\n",
    "available_items_inference = np.ones(data.n_items)\n",
    "available_items_inference[4] = 0  # Consider that item 4 is not available during inference\n",
    "assortment_inference = np.array(\n",
    "    [\n",
    "        item_id for item_id in data.get_all_items() if available_items_inference[item_id] == 1\n",
    "    ]\n",
    ")\n",
    "\n",
    "trip_inference = Trip(\n",
    "    purchases=full_basket_inference,\n",
    "    prices=np.random.uniform(1, 10, data.n_items),\n",
    "    assortment=available_items_inference,\n",
    "    store=0,  # 0 if not defined\n",
    "    week=0,  # 0 if not defined\n",
    ")"
   ]
  },
  {
   "cell_type": "code",
   "execution_count": null,
   "metadata": {},
   "outputs": [],
   "source": [
    "# Item utilities\n",
    "item_utilities = shopper.compute_batch_utility(\n",
    "    item_batch=item_batch_inference,\n",
    "    basket_batch=np.tile(basket_inference, (3, 1)),\n",
    "    store_batch=np.array([0]), # 0 if not defined\n",
    "    week_batch=np.array([0]), # 0 if not defined\n",
    "    price_batch=np.tile(price_inference, 3),\n",
    "    available_item_batch=np.tile(available_items_inference, (3, 1)),\n",
    ")\n",
    "\n",
    "print(\n",
    "    f\"Considering the assortment (ie the set of available items) {assortment_inference} with prices {price_inference},\",\n",
    "    f\"and a basket with the items {basket_inference}.\\n\",\n",
    "    f\"Under these circumstances, the utility of the selected items are:\"\n",
    ")\n",
    "for i, item_id in enumerate(item_batch_inference):\n",
    "    if item_id == 0:\n",
    "        print(f\"    - Item {item_id} (checkout item): {item_utilities[i]:.4f}\")\n",
    "    else:\n",
    "        print(f\"    - Item {item_id}: {item_utilities[i]:.4f}\")"
   ]
  },
  {
   "cell_type": "code",
   "execution_count": null,
   "metadata": {},
   "outputs": [],
   "source": [
    "item_likelihoods = shopper.compute_item_likelihood(trip=trip_inference)\n",
    "\n",
    "print(\n",
    "    f\"Considering the assortment (ie the set of available items) {assortment_inference} with prices {price_inference},\",\n",
    "    f\"and a basket with the items {basket_inference}.\\n\",\n",
    "    f\"Under these circumstances, the likelihoods that each item will be the next item added to the basket are:\"\n",
    ")\n",
    "for i, item_id in enumerate(data.get_all_items()):\n",
    "    if item_id == 0:\n",
    "        print(f\"    - Item {item_id} (checkout item, the customer decides to end his shopping trip): {item_likelihoods[i]:.4f}\")\n",
    "    else:\n",
    "        print(f\"    - Item {item_id}: {item_likelihoods[i]:.4f}\")\n",
    "print(f\"\\nN.B.: The item likelihoods sum to {np.sum(item_likelihoods):.4f}.\")"
   ]
  },
  {
   "cell_type": "code",
   "execution_count": null,
   "metadata": {},
   "outputs": [],
   "source": [
    "# (Unordered) basket likelihood\n",
    "n_permutations = 2\n",
    "basket_likelihood = shopper.compute_basket_likelihood(trip=trip_inference, n_permutations=n_permutations)\n",
    "\n",
    "print(f\"Likelihood for (unordered) basket {full_basket_inference}: {basket_likelihood:.4f} (with {n_permutations} permutations to approximate all possible orders).\")"
   ]
  },
  {
   "cell_type": "code",
   "execution_count": null,
   "metadata": {},
   "outputs": [],
   "source": [
    "# Ordered basket likelihood\n",
    "basket_ordered_likelihood = shopper.compute_ordered_basket_likelihood(trip=trip_inference)\n",
    "\n",
    "print(f\"Likelihood for ordered basket {full_basket_inference}: {basket_ordered_likelihood:.4f}.\")"
   ]
  },
  {
   "cell_type": "code",
   "execution_count": null,
   "metadata": {},
   "outputs": [],
   "source": []
  }
 ],
 "metadata": {
  "kernelspec": {
   "display_name": "choice-learn-private",
   "language": "python",
   "name": "python3"
  },
  "language_info": {
   "codemirror_mode": {
    "name": "ipython",
    "version": 3
   },
   "file_extension": ".py",
   "mimetype": "text/x-python",
   "name": "python",
   "nbconvert_exporter": "python",
   "pygments_lexer": "ipython3",
   "version": "3.10.14"
  }
 },
 "nbformat": 4,
 "nbformat_minor": 2
}
