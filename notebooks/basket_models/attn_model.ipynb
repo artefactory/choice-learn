{
 "cells": [
  {
   "cell_type": "code",
   "execution_count": null,
   "id": "0",
   "metadata": {
    "vscode": {
     "languageId": "plaintext"
    }
   },
   "outputs": [],
   "source": [
    "\"\"\"\n",
    "Implementation of an attention-based model for item recommendation.\n",
    "\n",
    "Cf. \"Attention-Based Transactional Context Embedding for Next-Item Recommendation\".\n",
    "Wang et al. (2018).\n",
    "\"\"\"\n"
   ]
  },
  {
   "cell_type": "code",
   "execution_count": null,
   "id": "1",
   "metadata": {
    "vscode": {
     "languageId": "plaintext"
    }
   },
   "outputs": [],
   "source": [
    "import json\n",
    "from pathlib import Path\n",
    "import os\n",
    "os.environ['TF_CPP_MIN_LOG_LEVEL'] = '0' \n",
    "import sys\n",
    "\n",
    "sys.path.append(\"./../../\")\n",
    "print(os.getcwd())\n",
    "\n",
    "import matplotlib.pyplot as plt\n",
    "import numpy as np\n",
    "import tensorflow as tf\n",
    "import tqdm\n",
    "\n",
    "from choice_learn.basket_models import TripDataset\n",
    "from choice_learn.basket_models.attn_model import AttentionBasedContextEmbedding\n",
    "from choice_learn.basket_models.synthetic_dataset import SyntheticDataGenerator"
   ]
  },
  {
   "cell_type": "code",
   "execution_count": null,
   "id": "2",
   "metadata": {},
   "outputs": [],
   "source": [
    "# Parameters\n",
    "\n",
    "n_baskets = 2000\n",
    "epochs = 400\n",
    "lr = 0.02\n",
    "embedding_dim = 6\n",
    "n_negative_samples = 3"
   ]
  },
  {
   "cell_type": "code",
   "execution_count": null,
   "id": "3",
   "metadata": {},
   "outputs": [],
   "source": [
    "# Generate synthetic dataset\n",
    "\n",
    "data_gen = SyntheticDataGenerator(\n",
    "    proba_complementary_items=0.7,\n",
    "    proba_neutral_items=0.3,\n",
    "    noise_proba=0.15,)\n",
    "\n",
    "trip_dataset = data_gen.generate_trip_dataset(n_baskets)"
   ]
  },
  {
   "cell_type": "code",
   "execution_count": null,
   "id": "4",
   "metadata": {},
   "outputs": [],
   "source": [
    "# Instantiate and train the model\n",
    "\n",
    "model1 = AttentionBasedContextEmbedding(\n",
    "    epochs=epochs,\n",
    "    lr=lr,\n",
    "    embedding_dim=embedding_dim,\n",
    "    n_negative_samples=n_negative_samples\n",
    ")\n",
    "model1.instantiate(\n",
    "    n_items=data_gen.assortment_matrix.shape[1])\n",
    "history = model1.fit(trip_dataset)\n"
   ]
  },
  {
   "cell_type": "code",
   "execution_count": null,
   "id": "5",
   "metadata": {},
   "outputs": [],
   "source": [
    "# Visualize empirical distribution\n",
    "import matplotlib.pyplot as plt\n",
    "\n",
    "contexts = tf.constant([[i] for i in range(data_gen.assortment_matrix.shape[1])], dtype=tf.int32)\n",
    "context_prediction = model1.predict(contexts)\n",
    "\n",
    "fig, axes = plt.subplots(1, 2, figsize=(12, 5))\n",
    "\n",
    "im1 = axes[0].imshow(\n",
    "    np.stack(context_prediction),\n",
    "    vmin=0.0,\n",
    "    vmax=np.max(np.stack(context_prediction)),\n",
    "    cmap=\"Spectral\",\n",
    ")\n",
    "\n",
    "axes[0].set_title(\"Model P(i|j) on elementary baskets\")\n",
    "plt.colorbar(im1, ax=axes[0])\n",
    "axes[1].plot(history[\"train_loss\"], label=\"Training Loss\")\n",
    "axes[1].set_xlabel(\"Training Steps\")\n",
    "axes[1].set_ylabel(\"Loss\")\n",
    "axes[1].set_title(\"Training Loss History\")\n",
    "\n",
    "plt.tight_layout()\n",
    "plt.show()"
   ]
  },
  {
   "cell_type": "code",
   "execution_count": null,
   "id": "6",
   "metadata": {},
   "outputs": [],
   "source": [
    "# Create evaluation dataset\n",
    "eval_dataset = data_gen.generate_trip_dataset(100)\n",
    "\n",
    "# Evaluate model\n",
    "loss_eval_dataset_1 = model1.evaluate(eval_dataset)\n",
    "print(f\"Loss of model1 on the evaluation dataset {loss_eval_dataset_1}\")\n",
    "\n",
    "# Save model\n",
    "model1.save_model(\"attn_model.json\")"
   ]
  },
  {
   "cell_type": "code",
   "execution_count": null,
   "id": "7",
   "metadata": {},
   "outputs": [],
   "source": [
    "# Create a second model without instantiating\n",
    "model2 = AttentionBasedContextEmbedding(\n",
    "    epochs=epochs,\n",
    "    lr=lr,\n",
    "    embedding_dim=embedding_dim,\n",
    "    n_negative_samples=n_negative_samples\n",
    ")\n",
    "\n",
    "# Load first model and compare results on evaluation dataset\n",
    "model2.load_model(\"attn_model.json\")\n",
    "loss_eval_dataset_2 = model2.evaluate(eval_dataset)\n",
    "print(f\"Loss of model2 on the evaluation dataset {loss_eval_dataset_2}\")\n",
    "os.remove(\"attn_model.json\")"
   ]
  },
  {
   "cell_type": "code",
   "execution_count": null,
   "id": "8",
   "metadata": {},
   "outputs": [],
   "source": []
  }
 ],
 "metadata": {
  "kernelspec": {
   "display_name": "Python (myenv)",
   "language": "python",
   "name": "myenv"
  },
  "language_info": {
   "codemirror_mode": {
    "name": "ipython",
    "version": 3
   },
   "file_extension": ".py",
   "mimetype": "text/x-python",
   "name": "python",
   "nbconvert_exporter": "python",
   "pygments_lexer": "ipython3",
   "version": "3.12.3"
  }
 },
 "nbformat": 4,
 "nbformat_minor": 5
}
