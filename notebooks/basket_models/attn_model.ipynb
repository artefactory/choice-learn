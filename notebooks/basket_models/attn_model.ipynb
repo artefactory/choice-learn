{
 "cells": [
  {
   "cell_type": "code",
   "execution_count": null,
   "id": "0",
   "metadata": {
    "vscode": {
     "languageId": "plaintext"
    }
   },
   "outputs": [],
   "source": [
    "\"\"\"\n",
    "Implementation of an attention-based model for item recommendation.\n",
    "\n",
    "Wang, Shoujin, Liang Hu, Longbing Cao, Xiaoshui Huang, Defu Lian, and Wei Liu.\n",
    "\"Attention-based transactional context embedding for next-item recommendation.\"\n",
    "In Proceedings of the AAAI conference on artificial intelligence, vol. 32, no. 1. 2018.\n",
    "\"\"\""
   ]
  },
  {
   "cell_type": "code",
   "execution_count": null,
   "id": "1",
   "metadata": {
    "vscode": {
     "languageId": "plaintext"
    }
   },
   "outputs": [],
   "source": [
    "import json\n",
    "from pathlib import Path\n",
    "import os\n",
    "os.environ['TF_CPP_MIN_LOG_LEVEL'] = '0' \n",
    "import sys\n",
    "\n",
    "sys.path.append(\"./../../\")\n",
    "print(os.getcwd())\n",
    "\n",
    "import matplotlib.pyplot as plt\n",
    "import numpy as np\n",
    "import tensorflow as tf\n",
    "import tqdm\n",
    "\n",
    "from choice_learn.basket_models import TripDataset\n",
    "from choice_learn.basket_models.attn_model import AttentionBasedContextEmbedding\n",
    "from choice_learn.basket_models.synthetic_dataset import SyntheticDataGenerator"
   ]
  },
  {
   "cell_type": "code",
   "execution_count": null,
   "id": "2",
   "metadata": {},
   "outputs": [],
   "source": [
    "# Parameters\n",
    "\n",
    "n_baskets = 1000\n",
    "epochs = 400\n",
    "lr = 0.02\n",
    "embedding_dim = 6\n",
    "n_negative_samples = 3\n",
    "assortments_matrix = np.array([[1,0,1,1,0,1,1,0]])\n",
    "n_items = assortments_matrix.shape[1]\n"
   ]
  },
  {
   "cell_type": "code",
   "execution_count": null,
   "id": "3",
   "metadata": {},
   "outputs": [],
   "source": [
    "# Generate synthetic dataset\n",
    "\n",
    "data_gen = SyntheticDataGenerator(\n",
    "    proba_complementary_items=0.7,\n",
    "    proba_neutral_items=0.3,\n",
    "    noise_proba=0.15,\n",
    "    items_nest = {0:[0, 1, 2],\n",
    "                   1: [3, 4, 5],\n",
    "                   2: [6],\n",
    "                   3: [7]},\n",
    "    nests_interactions = [[\"\", \"compl\", \"neutral\", \"neutral\"],\n",
    "                          [\"compl\", \"\", \"neutral\", \"neutral\"],\n",
    "                          [\"neutral\", \"neutral\", \"\", \"neutral\"],\n",
    "                          [\"neutral\", \"neutral\", \"neutral\", \"\"]])\n",
    "\n",
    "trip_dataset = data_gen.generate_trip_dataset(n_baskets,\n",
    "                                             assortments_matrix)"
   ]
  },
  {
   "cell_type": "code",
   "execution_count": null,
   "id": "4",
   "metadata": {},
   "outputs": [],
   "source": [
    "M = np.zeros((n_items,n_items))\n",
    "for trip in trip_dataset.trips:\n",
    "    basket = trip.purchases\n",
    "    for i in basket:\n",
    "        for j in basket:\n",
    "            if i!= j:\n",
    "                M[i,j] += 1\n",
    "\n",
    "M = M / np.sum(M, axis=1, keepdims=True)\n",
    "M = np.nan_to_num(M, nan=0.0)\n",
    "np.set_printoptions(precision=2, suppress=True)\n",
    "\n",
    "import matplotlib.pyplot as plt\n",
    "\n",
    "plt.figure(figsize=(6, 5))\n",
    "plt.imshow(M, cmap='magma', interpolation='nearest')\n",
    "plt.colorbar(label='P(i|j)')\n",
    "plt.title('Conditional Probability Heatmap P(i|j)')\n",
    "plt.xlabel('j')\n",
    "plt.ylabel('i')\n",
    "plt.xticks(ticks=np.arange(8), labels=np.arange(1,9))\n",
    "plt.yticks(ticks=np.arange(8), labels=np.arange(1,9))\n",
    "plt.show()\n",
    "\n"
   ]
  },
  {
   "cell_type": "code",
   "execution_count": null,
   "id": "5",
   "metadata": {},
   "outputs": [],
   "source": [
    "# Instantiate and train the model\n",
    "\n",
    "model1 = AttentionBasedContextEmbedding(\n",
    "    epochs=epochs,\n",
    "    lr=lr,\n",
    "    embedding_dim=embedding_dim,\n",
    "    n_negative_samples=n_negative_samples\n",
    ")\n",
    "model1.instantiate(\n",
    "    n_items=len(assortments_matrix[0]))\n",
    "history = model1.fit(trip_dataset)\n"
   ]
  },
  {
   "cell_type": "code",
   "execution_count": null,
   "id": "6",
   "metadata": {},
   "outputs": [],
   "source": [
    "# Visualize empirical distribution\n",
    "import matplotlib.pyplot as plt\n",
    "\n",
    "contexts = tf.constant([[i] for i in range(n_items)], dtype=tf.int32)\n",
    "context_prediction = model1.predict(contexts)\n",
    "\n",
    "fig, axes = plt.subplots(1, 2, figsize=(12, 5))\n",
    "\n",
    "im1 = axes[0].imshow(\n",
    "    np.stack(context_prediction),\n",
    "    vmin=0.0,\n",
    "    vmax=np.max(np.stack(context_prediction)),\n",
    "    cmap=\"Spectral\",\n",
    ")\n",
    "\n",
    "axes[0].set_title(\"Model P(i|j) on elementary baskets\")\n",
    "plt.colorbar(im1, ax=axes[0])\n",
    "axes[1].plot(history[\"train_loss\"], label=\"Training Loss\")\n",
    "axes[1].set_xlabel(\"Training Steps\")\n",
    "axes[1].set_ylabel(\"Loss\")\n",
    "axes[1].set_title(\"Training Loss History\")\n",
    "\n",
    "plt.tight_layout()\n",
    "plt.show()"
   ]
  },
  {
   "cell_type": "code",
   "execution_count": null,
   "id": "7",
   "metadata": {},
   "outputs": [],
   "source": [
    "# Create evaluation dataset\n",
    "eval_dataset = data_gen.generate_trip_dataset(100)\n",
    "\n",
    "# Evaluate model\n",
    "loss_eval_dataset_1 = model1.evaluate(eval_dataset)\n",
    "print(f\"Loss of model1 on the evaluation dataset {loss_eval_dataset_1}\")\n",
    "\n",
    "# Save model\n",
    "model1.save_model(\"attn_model.json\")"
   ]
  },
  {
   "cell_type": "code",
   "execution_count": null,
   "id": "8",
   "metadata": {},
   "outputs": [],
   "source": [
    "# Create a second model without instantiating\n",
    "model2 = AttentionBasedContextEmbedding(\n",
    "    epochs=epochs,\n",
    "    lr=lr,\n",
    "    embedding_dim=embedding_dim,\n",
    "    n_negative_samples=n_negative_samples\n",
    ")\n",
    "\n",
    "# Load first model and compare results on evaluation dataset\n",
    "model2.load_model(\"attn_model.json\")\n",
    "loss_eval_dataset_2 = model2.evaluate(eval_dataset)\n",
    "print(f\"Loss of model2 on the evaluation dataset {loss_eval_dataset_2}\")\n",
    "os.remove(\"attn_model.json\")"
   ]
  },
  {
   "cell_type": "code",
   "execution_count": null,
   "id": "9",
   "metadata": {},
   "outputs": [],
   "source": []
  }
 ],
 "metadata": {
  "kernelspec": {
   "display_name": "Python (myenv)",
   "language": "python",
   "name": "myenv"
  },
  "language_info": {
   "codemirror_mode": {
    "name": "ipython",
    "version": 3
   },
   "file_extension": ".py",
   "mimetype": "text/x-python",
   "name": "python",
   "nbconvert_exporter": "python",
   "pygments_lexer": "ipython3",
   "version": "3.12.3"
  }
 },
 "nbformat": 4,
 "nbformat_minor": 5
}
