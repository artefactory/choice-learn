{
 "cells": [
  {
   "cell_type": "markdown",
   "metadata": {},
   "source": [
    "## Introduction to modelling with Alea-carta-est\n",
    "\n",
    "[![Open In Colab](https://colab.research.google.com/assets/colab-badge.svg)](https://colab.research.google.com/github/artefactory/choice-learn/blob/main/notebooks/basket_models/alea_carta.ipynb)\n",
    "\n",
    "We use a synthetic dataset to demonstrate how to use the Alea-carta-est model [1]"
   ]
  },
  {
   "cell_type": "code",
   "execution_count": null,
   "metadata": {},
   "outputs": [],
   "source": [
    "# Install necessary packages that are not already installed in the environment\n",
    "!pip install matplotlib"
   ]
  },
  {
   "cell_type": "code",
   "execution_count": null,
   "metadata": {},
   "outputs": [],
   "source": [
    "import os\n",
    "import sys\n",
    "\n",
    "sys.path.append(\"../../\")\n",
    "print(os.getcwd())\n",
    "\n",
    "import matplotlib.pyplot as plt\n",
    "import numpy as np\n",
    "\n",
    "import tensorflow as tf\n",
    "\n",
    "from choice_learn.basket_models import Trip, TripDataset\n",
    "from choice_learn.basket_models.alea_carta import AleaCarta\n"
   ]
  },
  {
   "cell_type": "markdown",
   "metadata": {},
   "source": [
    "### Generate a dataset with an interaction matrix"
   ]
  },
  {
   "cell_type": "markdown",
   "metadata": {},
   "source": [
    "**Items:**\n",
    "- Complementary pairs of items (the probability of these pairs should increase during training): \n",
    "    - $1$ / $2$ / $3$ & $4$ / $5$ / $6$\n",
    "- Substitutable items:\n",
    "    - $1$ & $2$ & $3$\n",
    "    - $4$ & $5$ & $6$\n",
    "- (Optionally) other items without special relations:\n",
    "    - $7$, $8$, ...\n",
    "\n",
    "**Concrete example:**\n",
    "- Item $1$, $2$, $3$ = pastas\n",
    "- Item $4$, $5$, $6$ = sauces\n",
    "- Item $7$, $8$ = water and bread\n",
    "\n",
    "**3 assortments:**\n",
    "- Training set:\n",
    "    - Store 1: $\\mathcal{A}_1$ = all items except $3$ & $6$\n",
    "    - Store 2: $\\mathcal{A}_2$ = all items except $2$ & $4$\n",
    "    - Store 3: $\\mathcal{A}_3$ = all items except $1$ & $5$\n",
    "- Test set:\n",
    "    - Store 4: $\\mathcal{A}_4$ = all items except $3$ & $4$\n",
    "\n",
    "We generate the baskets by sampling from an interaction matrix following a given distribution.\n",
    "\n",
    "    "
   ]
  },
  {
   "cell_type": "code",
   "execution_count": null,
   "metadata": {},
   "outputs": [],
   "source": [
    "n_items = 8\n",
    "n_stores = 4"
   ]
  },
  {
   "cell_type": "markdown",
   "metadata": {},
   "source": [
    "First, we create an interaction matrix."
   ]
  },
  {
   "cell_type": "code",
   "execution_count": null,
   "metadata": {},
   "outputs": [],
   "source": [
    "def create_interaction_matrix(n: int, single_option: bool = False) -> np.ndarray:\n",
    "    \"\"\"Generate a random interaction matrix of size n x n.\n",
    "    \n",
    "    The matrix is symmetric and the diagonal is filled with zeros.\n",
    "    The matrix is divided into two parts:\n",
    "    - Complementary pairs (positive values)\n",
    "    - Substitutable pairs (negative values)\n",
    "\n",
    "    Parameters\n",
    "    ----------\n",
    "    n: int\n",
    "        Size of the square matrix\n",
    "    single_option: bool, optional\n",
    "        If True, add a column representing single item options\n",
    "        By default False\n",
    "    \n",
    "    Returns\n",
    "    -------\n",
    "    matrix: np.ndarray\n",
    "        The interaction matrix\n",
    "    \"\"\"\n",
    "    matrix = np.zeros((n, n))\n",
    "    \n",
    "    for i in range(n):\n",
    "        for j in range(i + 1):\n",
    "            if (i in [3, 4, 5] and j in [0, 1, 2]) or (i in [0, 1, 2] and j in [3, 4, 5]):\n",
    "                # Complementary pair: >= 0\n",
    "                # Draw a sample from the Gaussian distribution\n",
    "                matrix[i, j] = np.random.normal(2, 1)\n",
    "            elif (i in [3, 4, 5] and j in [3, 4, 5]) or (i in [0, 1, 2] and j in [0, 1, 2]):\n",
    "                # Substitutable pair: <= 0\n",
    "                # Draw a sample from the Gaussian distribution\n",
    "                matrix[i, j] =  - 1 * np.random.normal(2, 1)\n",
    "            else:\n",
    "                # No interaction: 0 with small Gaussian noise\n",
    "                matrix[i, j] = np.random.normal(loc=0, scale=0.05)\n",
    "            \n",
    "            # Copy the lower triangle to the upper triangle\n",
    "            matrix[j, i] = matrix[i, j]\n",
    "\n",
    "        # Same item\n",
    "        matrix[i, i] = 0\n",
    "    \n",
    "    if single_option:\n",
    "        # Add a column to the right for single item options\n",
    "        matrix = np.hstack((matrix, np.random.normal(1, 0.5, (n, 1))))\n",
    "    \n",
    "    return matrix"
   ]
  },
  {
   "cell_type": "code",
   "execution_count": null,
   "metadata": {},
   "outputs": [],
   "source": [
    "interaction_matrix_single_option = create_interaction_matrix(n_items, single_option=True)\n",
    "\n",
    "print(f\"Shape of the interaction matrix: {interaction_matrix_single_option.shape}\\n\")\n",
    "print(f\"{interaction_matrix_single_option=}\")"
   ]
  },
  {
   "cell_type": "code",
   "execution_count": null,
   "metadata": {},
   "outputs": [],
   "source": [
    "def plot_interaction_matrix(matrix: np.ndarray, half: bool = False) -> None:\n",
    "    \"\"\"Plot the interaction matrix.\n",
    "    \n",
    "    The matrix is displayed with a color map and the value\n",
    "    of each cell is displayed inside the cell.\n",
    "\n",
    "    Parameters\n",
    "    ----------\n",
    "    matrix: np.ndarray\n",
    "        The interaction matrix to plot\n",
    "    half: bool, optional\n",
    "        If True, only the lower half of the matrix is displayed\n",
    "        By default False\n",
    "\n",
    "    Returns\n",
    "    -------\n",
    "    matrix: np.ndarray\n",
    "        The interaction matrix\n",
    "    \"\"\"\n",
    "    if half:\n",
    "        # Mask: elements above the k-th diagonal are set to False, rest to True\n",
    "        mask = ~np.triu(np.ones_like(matrix, dtype=bool), k=0)\n",
    "        matrix = np.ma.array(matrix, mask=mask)\n",
    "    \n",
    "    plt.figure(figsize=(8, 6))\n",
    "    plt.imshow(matrix, cmap='coolwarm', interpolation='none', vmin=-1, vmax=1)\n",
    "    plt.colorbar(label='Interaction Value')\n",
    "    plt.title('Interaction Matrix')\n",
    "    plt.xlabel('Item B')\n",
    "    plt.ylabel('Item A')\n",
    "\n",
    "    if matrix.shape[1] == matrix.shape[0]:\n",
    "        # No single item option\n",
    "        plt.xticks(ticks=np.arange(matrix.shape[0]), labels=np.arange(1, matrix.shape[0] + 1))\n",
    "        plt.yticks(ticks=np.arange(matrix.shape[1]), labels=np.arange(1, matrix.shape[1] + 1))\n",
    "    \n",
    "    else:\n",
    "        # Add a column to the right for single item options\n",
    "        plt.xticks(ticks=np.arange(matrix.shape[0] + 1), labels=np.append(np.arange(1, matrix.shape[1]), \"single\"))\n",
    "        plt.yticks(ticks=np.arange(matrix.shape[1]), labels=np.arange(1, matrix.shape[1] + 1))\n",
    "\n",
    "    # Display the value inside each case\n",
    "    for i in range(matrix.shape[0]):\n",
    "        for j in range(matrix.shape[1]):\n",
    "            if not half or (half and j >= i):\n",
    "                plt.text(j, i, f'{matrix[i, j]:.2f}', ha='center', va='center', color='black')\n",
    "    \n",
    "    plt.show()"
   ]
  },
  {
   "cell_type": "code",
   "execution_count": null,
   "metadata": {},
   "outputs": [],
   "source": [
    "plot_interaction_matrix(interaction_matrix_single_option, half=True)"
   ]
  },
  {
   "cell_type": "code",
   "execution_count": null,
   "metadata": {},
   "outputs": [],
   "source": [
    "plot_interaction_matrix(interaction_matrix_single_option, half=False)"
   ]
  },
  {
   "cell_type": "code",
   "execution_count": null,
   "metadata": {},
   "outputs": [],
   "source": [
    "def generate_pairs(\n",
    "    interaction_matrix: np.ndarray,\n",
    "    assortment: np.ndarray,\n",
    "    num_baskets: int\n",
    ") -> list:\n",
    "    \"\"\"Generate pairs of items based on the interaction matrix.\n",
    "\n",
    "    Size of the baskets: 2\n",
    "\n",
    "    Parameters\n",
    "    ----------\n",
    "    interaction_matrix: np.ndarray\n",
    "        The interaction matrix to plot\n",
    "    assortment: np.ndarray\n",
    "        The assortment of items available in the store\n",
    "    num_baskets: int\n",
    "        The number of baskets to generate\n",
    "\n",
    "    Returns\n",
    "    -------\n",
    "    baskets: list\n",
    "        List of generated baskets\n",
    "    \"\"\"\n",
    "    n_items = interaction_matrix.shape[0]\n",
    "\n",
    "    # The interaction matrix should have a shape of (n_items, n_items) to generate pairs of items\n",
    "    if interaction_matrix.shape[1] == n_items + 1:\n",
    "        # Single item option\n",
    "        print(\"Interaction matrix of shape (n_items, n_items + 1), generating baskets of varying size 1 or 2.\")\n",
    "        return generate_baskets(interaction_matrix, assortment, num_baskets)\n",
    "    elif interaction_matrix.shape[1] != n_items:\n",
    "        raise ValueError(\n",
    "            \"The interaction matrix must have a shape of (n_items, n_items + 1) \"\n",
    "            \"or (n_items, n_items).\"\n",
    "        )\n",
    "\n",
    "    # Build the list of available items from the assortment\n",
    "    available_items = np.array([item_id for item_id in range(interaction_matrix.shape[0]) if assortment[item_id] == 1])\n",
    "    \n",
    "    baskets = []\n",
    "    for _ in range(num_baskets):\n",
    "        # Distribution for the first item with weights sampled from an uniform distribution\n",
    "        normal_dist = np.random.uniform(0, 1, size=len(available_items))\n",
    "        normal_dist /= np.sum(normal_dist)\n",
    "        item_a = np.random.choice(\n",
    "            available_items,\n",
    "            p=normal_dist\n",
    "        )\n",
    "\n",
    "        # Get probabilities of the next item given the previous item\n",
    "        # by applying the softmax function to the interaction values\n",
    "        # of the row corresponding to the previous item\n",
    "        probabilities = np.exp(interaction_matrix[item_a, :])\n",
    "        probabilities /= probabilities.sum()\n",
    "        item_b = None\n",
    "        while (item_b is None) or (item_b == item_a) or (item_b not in available_items):\n",
    "            # No duplicate items\n",
    "            item_b = np.random.choice(n_items, p=probabilities)\n",
    "        \n",
    "        baskets.append(np.array([item_a, item_b]))\n",
    "\n",
    "    return baskets\n",
    "\n",
    "\n",
    "def generate_baskets(\n",
    "    interaction_matrix: np.ndarray,\n",
    "    assortment: np.ndarray,\n",
    "    num_baskets: int\n",
    ") -> list:\n",
    "    \"\"\"Generate baskets based on the interaction matrix.\n",
    "\n",
    "    Size of the baskets: 1 or 2\n",
    "\n",
    "    Parameters\n",
    "    ----------\n",
    "    interaction_matrix: np.ndarray\n",
    "        The interaction matrix to plot\n",
    "    assortment: np.ndarray\n",
    "        The assortment of items available in the store\n",
    "    num_baskets: int\n",
    "        The number of baskets to generate\n",
    "\n",
    "    Returns\n",
    "    -------\n",
    "    baskets: list\n",
    "        List of generated baskets\n",
    "    \"\"\"\n",
    "    n_items = interaction_matrix.shape[0]\n",
    "\n",
    "    # The interaction matrix should have a shape of (n_items, n_items + 1)\n",
    "    # to include the single item option\n",
    "    if interaction_matrix.shape[1] == n_items:\n",
    "        # No single item option\n",
    "        print(\"Square interaction matrix, generating pairs instead of baskets of varying size 1 or 2.\")\n",
    "        return generate_pairs(interaction_matrix, assortment, num_baskets)\n",
    "    elif interaction_matrix.shape[1] != n_items + 1:\n",
    "        raise ValueError(\n",
    "            \"The interaction matrix must have a shape of (n_items, n_items + 1) \"\n",
    "            \"or (n_items, n_items).\"\n",
    "        )\n",
    "\n",
    "    # Build the list of available items from the assortment\n",
    "    available_items = np.array([item_id for item_id in range(interaction_matrix.shape[0]) if assortment[item_id] == 1])\n",
    "    available_items_with_single_option = np.append(available_items, n_items)\n",
    "\n",
    "    # Distribution for the first item with weights sampled from an uniform distribution\n",
    "    normal_dist = np.random.uniform(0, 1, size=len(available_items))\n",
    "    normal_dist /= np.sum(normal_dist)\n",
    "    \n",
    "    baskets = []\n",
    "    for _ in range(num_baskets):\n",
    "        item_a = np.random.choice(\n",
    "            available_items,\n",
    "            p=normal_dist\n",
    "        )\n",
    "\n",
    "        # Get probabilities of the next item given the previous item\n",
    "        # by applying the softmax function to the interaction values\n",
    "        # of the row corresponding to the previous item\n",
    "        # Shape: (n_items + 1,) (because of the single option added at the end)\n",
    "        probabilities = np.exp(interaction_matrix[item_a, :])\n",
    "        probabilities /= probabilities.sum()\n",
    "        item_b = None\n",
    "        while (item_b is None) or (item_b == item_a) or (item_b not in available_items_with_single_option):\n",
    "            # No duplicate items\n",
    "            item_b = np.random.choice(n_items + 1, p=probabilities)\n",
    "\n",
    "        if item_b == n_items:\n",
    "            # Single option\n",
    "            baskets.append(np.array([item_a]))\n",
    "        else:\n",
    "            baskets.append(np.array([item_a, item_b]))\n",
    "\n",
    "    return baskets\n"
   ]
  },
  {
   "cell_type": "markdown",
   "metadata": {},
   "source": [
    "Then, we set the assortment of items available in each store."
   ]
  },
  {
   "cell_type": "code",
   "execution_count": null,
   "metadata": {},
   "outputs": [],
   "source": [
    "a0, a1, a2, a3, a4 = np.ones(n_items), np.ones(n_items), np.ones(n_items), np.ones(n_items), np.ones(n_items)\n",
    "a1[0], a1[3] = 0, 0\n",
    "a2[1], a2[4] = 0, 0\n",
    "a3[2], a3[5] = 0, 0\n",
    "a4[3], a4[2] = 0, 0\n",
    "\n",
    "available_items = np.array([a0, a1, a2, a3, a4])\n",
    "\n",
    "print(f\"{available_items=}\\n\")\n",
    "for i, assortment in enumerate(available_items):\n",
    "    print(f\"Assortment {i}: {assortment}, ie items {np.where(assortment == 1)[0] + 1} are available\")"
   ]
  },
  {
   "cell_type": "markdown",
   "metadata": {},
   "source": [
    "Now, we generate pairs of items and baskets using the interaction matrix."
   ]
  },
  {
   "cell_type": "code",
   "execution_count": null,
   "metadata": {},
   "outputs": [],
   "source": [
    "# num_baskets = 10_000\n",
    "num_baskets = 100\n",
    "\n",
    "purchases_assortment_0 = generate_baskets(\n",
    "    interaction_matrix=interaction_matrix_single_option,\n",
    "    assortment=available_items[0],\n",
    "    # All baskets with assortment 0 (ie all items / no assortment taken into account)\n",
    "    num_baskets=num_baskets,\n",
    ")\n",
    "purchases_assortment_1 = generate_baskets(\n",
    "    interaction_matrix=interaction_matrix_single_option,\n",
    "    assortment=available_items[1],\n",
    "    # Half of the baskets with assortment 1\n",
    "    num_baskets=num_baskets // 3,\n",
    ")\n",
    "purchases_assortment_2 = generate_baskets(\n",
    "    interaction_matrix=interaction_matrix_single_option,\n",
    "    assortment=available_items[2],\n",
    "    # Half of the baskets with assortment 2\n",
    "    num_baskets=num_baskets // 3,\n",
    ")\n",
    "purchases_assortment_3 = generate_baskets(\n",
    "    interaction_matrix=interaction_matrix_single_option,\n",
    "    assortment=available_items[3],\n",
    "    # All the baskets with assortment 3\n",
    "    num_baskets=num_baskets // 3,\n",
    ")\n",
    "purchases_assortment_4 = generate_baskets(\n",
    "    interaction_matrix=interaction_matrix_single_option,\n",
    "    assortment=available_items[4],\n",
    "    # All the baskets with assortment 3\n",
    "    num_baskets=num_baskets,\n",
    ")"
   ]
  },
  {
   "cell_type": "code",
   "execution_count": null,
   "metadata": {},
   "outputs": [],
   "source": [
    "print(f\"{len(purchases_assortment_0)=}, {len(purchases_assortment_1)=}, {len(purchases_assortment_2)=}, {len(purchases_assortment_3)=}, {len(purchases_assortment_4)=}\\n\")\n",
    "\n",
    "print(f\"With all items available: {purchases_assortment_0[:10]=}\")\n",
    "print(f\"From assortment without 3 & 6: {purchases_assortment_1[:10]=}\")\n",
    "print(f\"From assortment without 2 & 4: {purchases_assortment_2[:10]=}\")\n",
    "print(f\"From assortment without 1 & 5: {purchases_assortment_3[:10]=}\\n\")\n",
    "print(f\"From assortment without 3 & 4: {purchases_assortment_4[:10]=}\\n\")\n",
    "\n",
    "min_length_purchases_assortment_0, max_length_purchases_assortment_0 = min(len(basket) for basket in purchases_assortment_0), max(len(basket) for basket in purchases_assortment_0)\n",
    "print(f\"Minimum and maximum lengths of arrays in purchases_assortment_0: {min_length_purchases_assortment_0} & {max_length_purchases_assortment_0}\")\n",
    "min_length_purchases_assortment_1, max_length_purchases_assortment_1= min(len(basket) for basket in purchases_assortment_1), max(len(basket) for basket in purchases_assortment_1)\n",
    "print(f\"Minimum and maximum lengths of arrays in purchases_assortment_1: {min_length_purchases_assortment_1} & {max_length_purchases_assortment_1}\")\n",
    "min_length_purchases_assortment_2, max_length_purchases_assortment_2 = min(len(basket) for basket in purchases_assortment_2), max(len(basket) for basket in purchases_assortment_2)\n",
    "print(f\"Minimum and maximum lengths of arrays in purchases_assortment_2: {min_length_purchases_assortment_2} & {max_length_purchases_assortment_2}\")\n",
    "min_length_purchases_assortment_3, max_length_purchases_assortment_3 = min(len(basket) for basket in purchases_assortment_3), max(len(basket) for basket in purchases_assortment_3)\n",
    "print(f\"Minimum and maximum lengths of arrays in purchases_assortment_3: {min_length_purchases_assortment_3} & {max_length_purchases_assortment_3}\")\n",
    "min_length_purchases_assortment_4, max_length_purchases_assortment_4 = min(len(basket) for basket in purchases_assortment_4), max(len(basket) for basket in purchases_assortment_4)\n",
    "print(f\"Minimum and maximum lengths of arrays in purchases_assortment_4: {min_length_purchases_assortment_4} & {max_length_purchases_assortment_4}\")"
   ]
  },
  {
   "cell_type": "markdown",
   "metadata": {},
   "source": [
    "Now, we can create trips from the generated baskets."
   ]
  },
  {
   "cell_type": "code",
   "execution_count": null,
   "metadata": {},
   "outputs": [],
   "source": [
    "store = 0\n",
    "week = 0\n",
    "prices = np.arange(1, n_items + 1) * 1.1"
   ]
  },
  {
   "cell_type": "code",
   "execution_count": null,
   "metadata": {},
   "outputs": [],
   "source": [
    "trip_list_train_assortment_1 = list(np.concatenate(\n",
    "    [\n",
    "        [Trip(purchases=basket, store=store, week=week, prices=prices, assortment=1)]\n",
    "        for basket in purchases_assortment_1\n",
    "    ]\n",
    "))\n",
    "trip_list_train_assortment_2 = list(np.concatenate(\n",
    "    [\n",
    "        [Trip(purchases=basket, store=store, week=week, prices=prices, assortment=2)]\n",
    "        for basket in purchases_assortment_2\n",
    "    ]\n",
    "))\n",
    "trip_list_train_assortment_3 = list(np.concatenate(\n",
    "    [\n",
    "        [Trip(purchases=basket, store=store, week=week, prices=prices, assortment=3)]\n",
    "        for basket in purchases_assortment_3\n",
    "    ]\n",
    "))\n",
    "trip_list_train = trip_list_train_assortment_1 + trip_list_train_assortment_2 + trip_list_train_assortment_3\n",
    "\n",
    "# Trips with baskets from purchases_assortment_3 and with assortment\n",
    "trip_list_test = list(np.concatenate(\n",
    "    [\n",
    "        [Trip(purchases=basket, store=store, week=week, prices=prices, assortment=4)]\n",
    "        for basket in purchases_assortment_4\n",
    "    ]\n",
    "))"
   ]
  },
  {
   "cell_type": "markdown",
   "metadata": {},
   "source": [
    "We group the trips into a ```TripDataset``` object."
   ]
  },
  {
   "cell_type": "code",
   "execution_count": null,
   "metadata": {},
   "outputs": [],
   "source": [
    "trip_dataset_train = TripDataset(trips=trip_list_train, available_items=available_items)\n",
    "trip_dataset_test = TripDataset(trips=trip_list_test, available_items=available_items)\n",
    "\n",
    "print(f\"{len(trip_dataset_train)=}\\n{len(trip_dataset_test)=}\")"
   ]
  },
  {
   "cell_type": "code",
   "execution_count": null,
   "metadata": {},
   "outputs": [],
   "source": [
    "n_items_train, n_stores_train = trip_dataset_train.n_items, trip_dataset_train.n_stores\n",
    "n_items_test, n_stores_test = trip_dataset_test.n_items, trip_dataset_test.n_stores"
   ]
  },
  {
   "cell_type": "markdown",
   "metadata": {},
   "source": [
    "We instantiate an Alea-carta-est model and fit it to the training data."
   ]
  },
  {
   "cell_type": "code",
   "execution_count": null,
   "metadata": {},
   "outputs": [],
   "source": [
    "latent_sizes = {\"preferences\": 6, \"price\": 3, \"season\": 3}\n",
    "n_negative_samples = 3\n",
    "optimizer = \"adam\"\n",
    "lr = 1e-2\n",
    "epochs = 200\n",
    "# epochs = 1000\n",
    "batch_size = 32"
   ]
  },
  {
   "cell_type": "code",
   "execution_count": null,
   "metadata": {},
   "outputs": [],
   "source": [
    "model = AleaCarta(\n",
    "    # item_intercept=True,\n",
    "    item_intercept=False,\n",
    "    price_effects=False,\n",
    "    seasonal_effects=False,\n",
    "    latent_sizes=latent_sizes,\n",
    "    n_negative_samples=n_negative_samples,\n",
    "    optimizer=optimizer,\n",
    "    lr=lr,\n",
    "    epochs=epochs,\n",
    "    batch_size=batch_size,\n",
    ")\n",
    "\n",
    "model.instantiate(n_items=n_items, n_stores=n_stores)"
   ]
  },
  {
   "cell_type": "code",
   "execution_count": null,
   "metadata": {},
   "outputs": [],
   "source": [
    "history = model.fit(trip_dataset=trip_dataset_train)"
   ]
  },
  {
   "cell_type": "code",
   "execution_count": null,
   "metadata": {},
   "outputs": [],
   "source": [
    "print(history.keys())"
   ]
  },
  {
   "cell_type": "code",
   "execution_count": null,
   "metadata": {},
   "outputs": [],
   "source": [
    "plt.plot(history[\"train_loss\"])\n",
    "plt.xlabel(\"Epoch\")\n",
    "plt.ylabel(\"Training Loss\")\n",
    "plt.legend()\n",
    "plt.title(\"Training of Shopper\")\n",
    "plt.show()"
   ]
  },
  {
   "cell_type": "code",
   "execution_count": null,
   "metadata": {},
   "outputs": [],
   "source": [
    "model.compute_batch_utility(item_batch=np.array(list(range(2))),\n",
    "        basket_batch=np.array([[1, 2], [3, 4]]),\n",
    "        store_batch=np.array([0, 0]),\n",
    "        week_batch=np.array([0, 0]),\n",
    "        price_batch=np.array([[0, 0], [0, 0]])\n",
    "        )"
   ]
  },
  {
   "cell_type": "markdown",
   "metadata": {},
   "source": [
    "### References\n",
    "[1] Better Capturing Interactions between Products in Retail: Revisited Negative Sampling for Basket Choice Modeling, Désir, J.; Auriaut, V.; Možina, M.; Malherbe, E. (2025), ECML PKDDD Applied Data Science"
   ]
  },
  {
   "cell_type": "code",
   "execution_count": null,
   "metadata": {},
   "outputs": [],
   "source": []
  }
 ],
 "metadata": {
  "kernelspec": {
   "display_name": "choice-learn",
   "language": "python",
   "name": "python3"
  },
  "language_info": {
   "codemirror_mode": {
    "name": "ipython",
    "version": 3
   },
   "file_extension": ".py",
   "mimetype": "text/x-python",
   "name": "python",
   "nbconvert_exporter": "python",
   "pygments_lexer": "ipython3",
   "version": "3.10.18"
  }
 },
 "nbformat": 4,
 "nbformat_minor": 4
}
